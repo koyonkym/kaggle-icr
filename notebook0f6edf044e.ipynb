{
 "cells": [
  {
   "cell_type": "code",
   "execution_count": 1,
   "id": "c9969f75",
   "metadata": {
    "_cell_guid": "b1076dfc-b9ad-4769-8c92-a6c4dae69d19",
    "_uuid": "8f2839f25d086af736a60e9eeb907d3b93b6e0e5",
    "execution": {
     "iopub.execute_input": "2023-06-23T01:07:17.160126Z",
     "iopub.status.busy": "2023-06-23T01:07:17.159242Z",
     "iopub.status.idle": "2023-06-23T01:07:17.177515Z",
     "shell.execute_reply": "2023-06-23T01:07:17.175902Z"
    },
    "papermill": {
     "duration": 0.038113,
     "end_time": "2023-06-23T01:07:17.180879",
     "exception": false,
     "start_time": "2023-06-23T01:07:17.142766",
     "status": "completed"
    },
    "tags": []
   },
   "outputs": [
    {
     "name": "stdout",
     "output_type": "stream",
     "text": [
      "/kaggle/input/icr-identify-age-related-conditions/sample_submission.csv\n",
      "/kaggle/input/icr-identify-age-related-conditions/greeks.csv\n",
      "/kaggle/input/icr-identify-age-related-conditions/train.csv\n",
      "/kaggle/input/icr-identify-age-related-conditions/test.csv\n"
     ]
    }
   ],
   "source": [
    "# This Python 3 environment comes with many helpful analytics libraries installed\n",
    "# It is defined by the kaggle/python Docker image: https://github.com/kaggle/docker-python\n",
    "# For example, here's several helpful packages to load\n",
    "\n",
    "import numpy as np # linear algebra\n",
    "import pandas as pd # data processing, CSV file I/O (e.g. pd.read_csv)\n",
    "\n",
    "# Input data files are available in the read-only \"../input/\" directory\n",
    "# For example, running this (by clicking run or pressing Shift+Enter) will list all files under the input directory\n",
    "\n",
    "import os\n",
    "for dirname, _, filenames in os.walk('/kaggle/input'):\n",
    "    for filename in filenames:\n",
    "        print(os.path.join(dirname, filename))\n",
    "\n",
    "# You can write up to 20GB to the current directory (/kaggle/working/) that gets preserved as output when you create a version using \"Save & Run All\" \n",
    "# You can also write temporary files to /kaggle/temp/, but they won't be saved outside of the current session"
   ]
  },
  {
   "cell_type": "code",
   "execution_count": 2,
   "id": "8e5f5d28",
   "metadata": {
    "execution": {
     "iopub.execute_input": "2023-06-23T01:07:17.207789Z",
     "iopub.status.busy": "2023-06-23T01:07:17.206679Z",
     "iopub.status.idle": "2023-06-23T01:07:28.256154Z",
     "shell.execute_reply": "2023-06-23T01:07:28.254912Z"
    },
    "papermill": {
     "duration": 11.065654,
     "end_time": "2023-06-23T01:07:28.259015",
     "exception": false,
     "start_time": "2023-06-23T01:07:17.193361",
     "status": "completed"
    },
    "tags": []
   },
   "outputs": [
    {
     "name": "stderr",
     "output_type": "stream",
     "text": [
      "/opt/conda/lib/python3.10/site-packages/tensorflow_io/python/ops/__init__.py:98: UserWarning: unable to load libtensorflow_io_plugins.so: unable to open file: libtensorflow_io_plugins.so, from paths: ['/opt/conda/lib/python3.10/site-packages/tensorflow_io/python/ops/libtensorflow_io_plugins.so']\n",
      "caused by: ['/opt/conda/lib/python3.10/site-packages/tensorflow_io/python/ops/libtensorflow_io_plugins.so: undefined symbol: _ZN3tsl6StatusC1EN10tensorflow5error4CodeESt17basic_string_viewIcSt11char_traitsIcEENS_14SourceLocationE']\n",
      "  warnings.warn(f\"unable to load libtensorflow_io_plugins.so: {e}\")\n",
      "/opt/conda/lib/python3.10/site-packages/tensorflow_io/python/ops/__init__.py:104: UserWarning: file system plugins are not loaded: unable to open file: libtensorflow_io.so, from paths: ['/opt/conda/lib/python3.10/site-packages/tensorflow_io/python/ops/libtensorflow_io.so']\n",
      "caused by: ['/opt/conda/lib/python3.10/site-packages/tensorflow_io/python/ops/libtensorflow_io.so: undefined symbol: _ZTVN10tensorflow13GcsFileSystemE']\n",
      "  warnings.warn(f\"file system plugins are not loaded: {e}\")\n"
     ]
    }
   ],
   "source": [
    "import tensorflow as tf\n",
    "import tensorflow_decision_forests as tfdf\n",
    "import pandas as pd\n",
    "import numpy as np\n",
    "import seaborn as sns\n",
    "import matplotlib.pyplot as plt\n",
    "\n",
    "from sklearn.model_selection import KFold\n",
    "\n",
    "# For multilayer perceptron\n",
    "from sklearn.model_selection import train_test_split\n",
    "from tensorflow.keras import layers"
   ]
  },
  {
   "cell_type": "code",
   "execution_count": 3,
   "id": "a742c547",
   "metadata": {
    "execution": {
     "iopub.execute_input": "2023-06-23T01:07:28.286105Z",
     "iopub.status.busy": "2023-06-23T01:07:28.284839Z",
     "iopub.status.idle": "2023-06-23T01:07:28.291266Z",
     "shell.execute_reply": "2023-06-23T01:07:28.290070Z"
    },
    "papermill": {
     "duration": 0.022463,
     "end_time": "2023-06-23T01:07:28.293692",
     "exception": false,
     "start_time": "2023-06-23T01:07:28.271229",
     "status": "completed"
    },
    "tags": []
   },
   "outputs": [
    {
     "name": "stdout",
     "output_type": "stream",
     "text": [
      "Tensorflow v2.12.0\n",
      "Tensorflow Decision Forests v1.3.0\n"
     ]
    }
   ],
   "source": [
    "print(\"Tensorflow v\" + tf.__version__)\n",
    "print(\"Tensorflow Decision Forests v\" + tfdf.__version__)"
   ]
  },
  {
   "cell_type": "markdown",
   "id": "cf6fefdf",
   "metadata": {
    "papermill": {
     "duration": 0.012174,
     "end_time": "2023-06-23T01:07:28.318166",
     "exception": false,
     "start_time": "2023-06-23T01:07:28.305992",
     "status": "completed"
    },
    "tags": []
   },
   "source": [
    "## Load the Dataset"
   ]
  },
  {
   "cell_type": "code",
   "execution_count": 4,
   "id": "85bebc04",
   "metadata": {
    "execution": {
     "iopub.execute_input": "2023-06-23T01:07:28.344542Z",
     "iopub.status.busy": "2023-06-23T01:07:28.344087Z",
     "iopub.status.idle": "2023-06-23T01:07:28.382324Z",
     "shell.execute_reply": "2023-06-23T01:07:28.381133Z"
    },
    "papermill": {
     "duration": 0.054204,
     "end_time": "2023-06-23T01:07:28.384851",
     "exception": false,
     "start_time": "2023-06-23T01:07:28.330647",
     "status": "completed"
    },
    "tags": []
   },
   "outputs": [
    {
     "name": "stdout",
     "output_type": "stream",
     "text": [
      "Full train dataset shape is (617, 58)\n"
     ]
    }
   ],
   "source": [
    "dataset_df = pd.read_csv('/kaggle/input/icr-identify-age-related-conditions/train.csv')\n",
    "print(\"Full train dataset shape is {}\".format(dataset_df.shape))"
   ]
  },
  {
   "cell_type": "code",
   "execution_count": 5,
   "id": "eeae4f7f",
   "metadata": {
    "execution": {
     "iopub.execute_input": "2023-06-23T01:07:28.411884Z",
     "iopub.status.busy": "2023-06-23T01:07:28.411143Z",
     "iopub.status.idle": "2023-06-23T01:07:28.459508Z",
     "shell.execute_reply": "2023-06-23T01:07:28.458549Z"
    },
    "papermill": {
     "duration": 0.06448,
     "end_time": "2023-06-23T01:07:28.461827",
     "exception": false,
     "start_time": "2023-06-23T01:07:28.397347",
     "status": "completed"
    },
    "tags": []
   },
   "outputs": [
    {
     "data": {
      "text/html": [
       "<div>\n",
       "<style scoped>\n",
       "    .dataframe tbody tr th:only-of-type {\n",
       "        vertical-align: middle;\n",
       "    }\n",
       "\n",
       "    .dataframe tbody tr th {\n",
       "        vertical-align: top;\n",
       "    }\n",
       "\n",
       "    .dataframe thead th {\n",
       "        text-align: right;\n",
       "    }\n",
       "</style>\n",
       "<table border=\"1\" class=\"dataframe\">\n",
       "  <thead>\n",
       "    <tr style=\"text-align: right;\">\n",
       "      <th></th>\n",
       "      <th>Id</th>\n",
       "      <th>AB</th>\n",
       "      <th>AF</th>\n",
       "      <th>AH</th>\n",
       "      <th>AM</th>\n",
       "      <th>AR</th>\n",
       "      <th>AX</th>\n",
       "      <th>AY</th>\n",
       "      <th>AZ</th>\n",
       "      <th>BC</th>\n",
       "      <th>...</th>\n",
       "      <th>FL</th>\n",
       "      <th>FR</th>\n",
       "      <th>FS</th>\n",
       "      <th>GB</th>\n",
       "      <th>GE</th>\n",
       "      <th>GF</th>\n",
       "      <th>GH</th>\n",
       "      <th>GI</th>\n",
       "      <th>GL</th>\n",
       "      <th>Class</th>\n",
       "    </tr>\n",
       "  </thead>\n",
       "  <tbody>\n",
       "    <tr>\n",
       "      <th>0</th>\n",
       "      <td>000ff2bfdfe9</td>\n",
       "      <td>0.209377</td>\n",
       "      <td>3109.03329</td>\n",
       "      <td>85.200147</td>\n",
       "      <td>22.394407</td>\n",
       "      <td>8.138688</td>\n",
       "      <td>0.699861</td>\n",
       "      <td>0.025578</td>\n",
       "      <td>9.812214</td>\n",
       "      <td>5.555634</td>\n",
       "      <td>...</td>\n",
       "      <td>7.298162</td>\n",
       "      <td>1.73855</td>\n",
       "      <td>0.094822</td>\n",
       "      <td>11.339138</td>\n",
       "      <td>72.611063</td>\n",
       "      <td>2003.810319</td>\n",
       "      <td>22.136229</td>\n",
       "      <td>69.834944</td>\n",
       "      <td>0.120343</td>\n",
       "      <td>1</td>\n",
       "    </tr>\n",
       "    <tr>\n",
       "      <th>1</th>\n",
       "      <td>007255e47698</td>\n",
       "      <td>0.145282</td>\n",
       "      <td>978.76416</td>\n",
       "      <td>85.200147</td>\n",
       "      <td>36.968889</td>\n",
       "      <td>8.138688</td>\n",
       "      <td>3.632190</td>\n",
       "      <td>0.025578</td>\n",
       "      <td>13.517790</td>\n",
       "      <td>1.229900</td>\n",
       "      <td>...</td>\n",
       "      <td>0.173229</td>\n",
       "      <td>0.49706</td>\n",
       "      <td>0.568932</td>\n",
       "      <td>9.292698</td>\n",
       "      <td>72.611063</td>\n",
       "      <td>27981.562750</td>\n",
       "      <td>29.135430</td>\n",
       "      <td>32.131996</td>\n",
       "      <td>21.978000</td>\n",
       "      <td>0</td>\n",
       "    </tr>\n",
       "    <tr>\n",
       "      <th>2</th>\n",
       "      <td>013f2bd269f5</td>\n",
       "      <td>0.470030</td>\n",
       "      <td>2635.10654</td>\n",
       "      <td>85.200147</td>\n",
       "      <td>32.360553</td>\n",
       "      <td>8.138688</td>\n",
       "      <td>6.732840</td>\n",
       "      <td>0.025578</td>\n",
       "      <td>12.824570</td>\n",
       "      <td>1.229900</td>\n",
       "      <td>...</td>\n",
       "      <td>7.709560</td>\n",
       "      <td>0.97556</td>\n",
       "      <td>1.198821</td>\n",
       "      <td>37.077772</td>\n",
       "      <td>88.609437</td>\n",
       "      <td>13676.957810</td>\n",
       "      <td>28.022851</td>\n",
       "      <td>35.192676</td>\n",
       "      <td>0.196941</td>\n",
       "      <td>0</td>\n",
       "    </tr>\n",
       "    <tr>\n",
       "      <th>3</th>\n",
       "      <td>043ac50845d5</td>\n",
       "      <td>0.252107</td>\n",
       "      <td>3819.65177</td>\n",
       "      <td>120.201618</td>\n",
       "      <td>77.112203</td>\n",
       "      <td>8.138688</td>\n",
       "      <td>3.685344</td>\n",
       "      <td>0.025578</td>\n",
       "      <td>11.053708</td>\n",
       "      <td>1.229900</td>\n",
       "      <td>...</td>\n",
       "      <td>6.122162</td>\n",
       "      <td>0.49706</td>\n",
       "      <td>0.284466</td>\n",
       "      <td>18.529584</td>\n",
       "      <td>82.416803</td>\n",
       "      <td>2094.262452</td>\n",
       "      <td>39.948656</td>\n",
       "      <td>90.493248</td>\n",
       "      <td>0.155829</td>\n",
       "      <td>0</td>\n",
       "    </tr>\n",
       "    <tr>\n",
       "      <th>4</th>\n",
       "      <td>044fb8a146ec</td>\n",
       "      <td>0.380297</td>\n",
       "      <td>3733.04844</td>\n",
       "      <td>85.200147</td>\n",
       "      <td>14.103738</td>\n",
       "      <td>8.138688</td>\n",
       "      <td>3.942255</td>\n",
       "      <td>0.054810</td>\n",
       "      <td>3.396778</td>\n",
       "      <td>102.151980</td>\n",
       "      <td>...</td>\n",
       "      <td>8.153058</td>\n",
       "      <td>48.50134</td>\n",
       "      <td>0.121914</td>\n",
       "      <td>16.408728</td>\n",
       "      <td>146.109943</td>\n",
       "      <td>8524.370502</td>\n",
       "      <td>45.381316</td>\n",
       "      <td>36.262628</td>\n",
       "      <td>0.096614</td>\n",
       "      <td>1</td>\n",
       "    </tr>\n",
       "  </tbody>\n",
       "</table>\n",
       "<p>5 rows × 58 columns</p>\n",
       "</div>"
      ],
      "text/plain": [
       "             Id        AB          AF          AH         AM        AR  \\\n",
       "0  000ff2bfdfe9  0.209377  3109.03329   85.200147  22.394407  8.138688   \n",
       "1  007255e47698  0.145282   978.76416   85.200147  36.968889  8.138688   \n",
       "2  013f2bd269f5  0.470030  2635.10654   85.200147  32.360553  8.138688   \n",
       "3  043ac50845d5  0.252107  3819.65177  120.201618  77.112203  8.138688   \n",
       "4  044fb8a146ec  0.380297  3733.04844   85.200147  14.103738  8.138688   \n",
       "\n",
       "         AX        AY         AZ          BC  ...        FL        FR  \\\n",
       "0  0.699861  0.025578   9.812214    5.555634  ...  7.298162   1.73855   \n",
       "1  3.632190  0.025578  13.517790    1.229900  ...  0.173229   0.49706   \n",
       "2  6.732840  0.025578  12.824570    1.229900  ...  7.709560   0.97556   \n",
       "3  3.685344  0.025578  11.053708    1.229900  ...  6.122162   0.49706   \n",
       "4  3.942255  0.054810   3.396778  102.151980  ...  8.153058  48.50134   \n",
       "\n",
       "         FS         GB          GE            GF         GH         GI  \\\n",
       "0  0.094822  11.339138   72.611063   2003.810319  22.136229  69.834944   \n",
       "1  0.568932   9.292698   72.611063  27981.562750  29.135430  32.131996   \n",
       "2  1.198821  37.077772   88.609437  13676.957810  28.022851  35.192676   \n",
       "3  0.284466  18.529584   82.416803   2094.262452  39.948656  90.493248   \n",
       "4  0.121914  16.408728  146.109943   8524.370502  45.381316  36.262628   \n",
       "\n",
       "          GL  Class  \n",
       "0   0.120343      1  \n",
       "1  21.978000      0  \n",
       "2   0.196941      0  \n",
       "3   0.155829      0  \n",
       "4   0.096614      1  \n",
       "\n",
       "[5 rows x 58 columns]"
      ]
     },
     "execution_count": 5,
     "metadata": {},
     "output_type": "execute_result"
    }
   ],
   "source": [
    "dataset_df.head()"
   ]
  },
  {
   "cell_type": "markdown",
   "id": "433d792a",
   "metadata": {
    "papermill": {
     "duration": 0.012317,
     "end_time": "2023-06-23T01:07:28.486869",
     "exception": false,
     "start_time": "2023-06-23T01:07:28.474552",
     "status": "completed"
    },
    "tags": []
   },
   "source": [
    "## Quick basic dataset exploration"
   ]
  },
  {
   "cell_type": "code",
   "execution_count": 6,
   "id": "232c4392",
   "metadata": {
    "execution": {
     "iopub.execute_input": "2023-06-23T01:07:28.514800Z",
     "iopub.status.busy": "2023-06-23T01:07:28.513637Z",
     "iopub.status.idle": "2023-06-23T01:07:28.690772Z",
     "shell.execute_reply": "2023-06-23T01:07:28.689554Z"
    },
    "papermill": {
     "duration": 0.194038,
     "end_time": "2023-06-23T01:07:28.693710",
     "exception": false,
     "start_time": "2023-06-23T01:07:28.499672",
     "status": "completed"
    },
    "tags": []
   },
   "outputs": [
    {
     "data": {
      "text/html": [
       "<div>\n",
       "<style scoped>\n",
       "    .dataframe tbody tr th:only-of-type {\n",
       "        vertical-align: middle;\n",
       "    }\n",
       "\n",
       "    .dataframe tbody tr th {\n",
       "        vertical-align: top;\n",
       "    }\n",
       "\n",
       "    .dataframe thead th {\n",
       "        text-align: right;\n",
       "    }\n",
       "</style>\n",
       "<table border=\"1\" class=\"dataframe\">\n",
       "  <thead>\n",
       "    <tr style=\"text-align: right;\">\n",
       "      <th></th>\n",
       "      <th>AB</th>\n",
       "      <th>AF</th>\n",
       "      <th>AH</th>\n",
       "      <th>AM</th>\n",
       "      <th>AR</th>\n",
       "      <th>AX</th>\n",
       "      <th>AY</th>\n",
       "      <th>AZ</th>\n",
       "      <th>BC</th>\n",
       "      <th>BD</th>\n",
       "      <th>...</th>\n",
       "      <th>FL</th>\n",
       "      <th>FR</th>\n",
       "      <th>FS</th>\n",
       "      <th>GB</th>\n",
       "      <th>GE</th>\n",
       "      <th>GF</th>\n",
       "      <th>GH</th>\n",
       "      <th>GI</th>\n",
       "      <th>GL</th>\n",
       "      <th>Class</th>\n",
       "    </tr>\n",
       "  </thead>\n",
       "  <tbody>\n",
       "    <tr>\n",
       "      <th>count</th>\n",
       "      <td>617.000000</td>\n",
       "      <td>617.000000</td>\n",
       "      <td>617.000000</td>\n",
       "      <td>617.000000</td>\n",
       "      <td>617.000000</td>\n",
       "      <td>617.000000</td>\n",
       "      <td>617.000000</td>\n",
       "      <td>617.000000</td>\n",
       "      <td>617.000000</td>\n",
       "      <td>617.000000</td>\n",
       "      <td>...</td>\n",
       "      <td>616.000000</td>\n",
       "      <td>617.000000</td>\n",
       "      <td>615.000000</td>\n",
       "      <td>617.000000</td>\n",
       "      <td>617.000000</td>\n",
       "      <td>617.000000</td>\n",
       "      <td>617.000000</td>\n",
       "      <td>617.000000</td>\n",
       "      <td>616.000000</td>\n",
       "      <td>617.000000</td>\n",
       "    </tr>\n",
       "    <tr>\n",
       "      <th>mean</th>\n",
       "      <td>0.477149</td>\n",
       "      <td>3502.013221</td>\n",
       "      <td>118.624513</td>\n",
       "      <td>38.968552</td>\n",
       "      <td>10.128242</td>\n",
       "      <td>5.545576</td>\n",
       "      <td>0.060320</td>\n",
       "      <td>10.566447</td>\n",
       "      <td>8.053012</td>\n",
       "      <td>5350.388655</td>\n",
       "      <td>...</td>\n",
       "      <td>5.433199</td>\n",
       "      <td>3.533905</td>\n",
       "      <td>0.421501</td>\n",
       "      <td>20.724856</td>\n",
       "      <td>131.714987</td>\n",
       "      <td>14679.595398</td>\n",
       "      <td>31.489716</td>\n",
       "      <td>50.584437</td>\n",
       "      <td>8.530961</td>\n",
       "      <td>0.175041</td>\n",
       "    </tr>\n",
       "    <tr>\n",
       "      <th>std</th>\n",
       "      <td>0.468388</td>\n",
       "      <td>2300.322717</td>\n",
       "      <td>127.838950</td>\n",
       "      <td>69.728226</td>\n",
       "      <td>10.518877</td>\n",
       "      <td>2.551696</td>\n",
       "      <td>0.416817</td>\n",
       "      <td>4.350645</td>\n",
       "      <td>65.166943</td>\n",
       "      <td>3021.326641</td>\n",
       "      <td>...</td>\n",
       "      <td>11.496257</td>\n",
       "      <td>50.181948</td>\n",
       "      <td>1.305365</td>\n",
       "      <td>9.991907</td>\n",
       "      <td>144.181524</td>\n",
       "      <td>19352.959387</td>\n",
       "      <td>9.864239</td>\n",
       "      <td>36.266251</td>\n",
       "      <td>10.327010</td>\n",
       "      <td>0.380310</td>\n",
       "    </tr>\n",
       "    <tr>\n",
       "      <th>min</th>\n",
       "      <td>0.081187</td>\n",
       "      <td>192.593280</td>\n",
       "      <td>85.200147</td>\n",
       "      <td>3.177522</td>\n",
       "      <td>8.138688</td>\n",
       "      <td>0.699861</td>\n",
       "      <td>0.025578</td>\n",
       "      <td>3.396778</td>\n",
       "      <td>1.229900</td>\n",
       "      <td>1693.624320</td>\n",
       "      <td>...</td>\n",
       "      <td>0.173229</td>\n",
       "      <td>0.497060</td>\n",
       "      <td>0.067730</td>\n",
       "      <td>4.102182</td>\n",
       "      <td>72.611063</td>\n",
       "      <td>13.038894</td>\n",
       "      <td>9.432735</td>\n",
       "      <td>0.897628</td>\n",
       "      <td>0.001129</td>\n",
       "      <td>0.000000</td>\n",
       "    </tr>\n",
       "    <tr>\n",
       "      <th>25%</th>\n",
       "      <td>0.252107</td>\n",
       "      <td>2197.345480</td>\n",
       "      <td>85.200147</td>\n",
       "      <td>12.270314</td>\n",
       "      <td>8.138688</td>\n",
       "      <td>4.128294</td>\n",
       "      <td>0.025578</td>\n",
       "      <td>8.129580</td>\n",
       "      <td>1.229900</td>\n",
       "      <td>4155.702870</td>\n",
       "      <td>...</td>\n",
       "      <td>0.173229</td>\n",
       "      <td>0.497060</td>\n",
       "      <td>0.067730</td>\n",
       "      <td>14.036718</td>\n",
       "      <td>72.611063</td>\n",
       "      <td>2798.992584</td>\n",
       "      <td>25.034888</td>\n",
       "      <td>23.011684</td>\n",
       "      <td>0.124392</td>\n",
       "      <td>0.000000</td>\n",
       "    </tr>\n",
       "    <tr>\n",
       "      <th>50%</th>\n",
       "      <td>0.354659</td>\n",
       "      <td>3120.318960</td>\n",
       "      <td>85.200147</td>\n",
       "      <td>20.533110</td>\n",
       "      <td>8.138688</td>\n",
       "      <td>5.031912</td>\n",
       "      <td>0.025578</td>\n",
       "      <td>10.461320</td>\n",
       "      <td>1.229900</td>\n",
       "      <td>4997.960730</td>\n",
       "      <td>...</td>\n",
       "      <td>3.028141</td>\n",
       "      <td>1.131000</td>\n",
       "      <td>0.250601</td>\n",
       "      <td>18.771436</td>\n",
       "      <td>72.611063</td>\n",
       "      <td>7838.273610</td>\n",
       "      <td>30.608946</td>\n",
       "      <td>41.007968</td>\n",
       "      <td>0.337827</td>\n",
       "      <td>0.000000</td>\n",
       "    </tr>\n",
       "    <tr>\n",
       "      <th>75%</th>\n",
       "      <td>0.559763</td>\n",
       "      <td>4361.637390</td>\n",
       "      <td>113.739540</td>\n",
       "      <td>39.139886</td>\n",
       "      <td>8.138688</td>\n",
       "      <td>6.431634</td>\n",
       "      <td>0.036845</td>\n",
       "      <td>12.969516</td>\n",
       "      <td>5.081244</td>\n",
       "      <td>6035.885700</td>\n",
       "      <td>...</td>\n",
       "      <td>6.238814</td>\n",
       "      <td>1.512060</td>\n",
       "      <td>0.535067</td>\n",
       "      <td>25.608406</td>\n",
       "      <td>127.591671</td>\n",
       "      <td>19035.709240</td>\n",
       "      <td>36.863947</td>\n",
       "      <td>67.931664</td>\n",
       "      <td>21.978000</td>\n",
       "      <td>0.000000</td>\n",
       "    </tr>\n",
       "    <tr>\n",
       "      <th>max</th>\n",
       "      <td>6.161666</td>\n",
       "      <td>28688.187660</td>\n",
       "      <td>1910.123198</td>\n",
       "      <td>630.518230</td>\n",
       "      <td>178.943634</td>\n",
       "      <td>38.270880</td>\n",
       "      <td>10.315851</td>\n",
       "      <td>38.971568</td>\n",
       "      <td>1463.693448</td>\n",
       "      <td>53060.599240</td>\n",
       "      <td>...</td>\n",
       "      <td>137.932739</td>\n",
       "      <td>1244.227020</td>\n",
       "      <td>31.365763</td>\n",
       "      <td>135.781294</td>\n",
       "      <td>1497.351958</td>\n",
       "      <td>143790.071200</td>\n",
       "      <td>81.210825</td>\n",
       "      <td>191.194764</td>\n",
       "      <td>21.978000</td>\n",
       "      <td>1.000000</td>\n",
       "    </tr>\n",
       "  </tbody>\n",
       "</table>\n",
       "<p>8 rows × 56 columns</p>\n",
       "</div>"
      ],
      "text/plain": [
       "               AB            AF           AH          AM          AR  \\\n",
       "count  617.000000    617.000000   617.000000  617.000000  617.000000   \n",
       "mean     0.477149   3502.013221   118.624513   38.968552   10.128242   \n",
       "std      0.468388   2300.322717   127.838950   69.728226   10.518877   \n",
       "min      0.081187    192.593280    85.200147    3.177522    8.138688   \n",
       "25%      0.252107   2197.345480    85.200147   12.270314    8.138688   \n",
       "50%      0.354659   3120.318960    85.200147   20.533110    8.138688   \n",
       "75%      0.559763   4361.637390   113.739540   39.139886    8.138688   \n",
       "max      6.161666  28688.187660  1910.123198  630.518230  178.943634   \n",
       "\n",
       "               AX          AY          AZ           BC           BD   ...  \\\n",
       "count  617.000000  617.000000  617.000000   617.000000    617.000000  ...   \n",
       "mean     5.545576    0.060320   10.566447     8.053012   5350.388655  ...   \n",
       "std      2.551696    0.416817    4.350645    65.166943   3021.326641  ...   \n",
       "min      0.699861    0.025578    3.396778     1.229900   1693.624320  ...   \n",
       "25%      4.128294    0.025578    8.129580     1.229900   4155.702870  ...   \n",
       "50%      5.031912    0.025578   10.461320     1.229900   4997.960730  ...   \n",
       "75%      6.431634    0.036845   12.969516     5.081244   6035.885700  ...   \n",
       "max     38.270880   10.315851   38.971568  1463.693448  53060.599240  ...   \n",
       "\n",
       "               FL           FR          FS          GB           GE  \\\n",
       "count  616.000000   617.000000  615.000000  617.000000   617.000000   \n",
       "mean     5.433199     3.533905    0.421501   20.724856   131.714987   \n",
       "std     11.496257    50.181948    1.305365    9.991907   144.181524   \n",
       "min      0.173229     0.497060    0.067730    4.102182    72.611063   \n",
       "25%      0.173229     0.497060    0.067730   14.036718    72.611063   \n",
       "50%      3.028141     1.131000    0.250601   18.771436    72.611063   \n",
       "75%      6.238814     1.512060    0.535067   25.608406   127.591671   \n",
       "max    137.932739  1244.227020   31.365763  135.781294  1497.351958   \n",
       "\n",
       "                  GF          GH          GI          GL       Class  \n",
       "count     617.000000  617.000000  617.000000  616.000000  617.000000  \n",
       "mean    14679.595398   31.489716   50.584437    8.530961    0.175041  \n",
       "std     19352.959387    9.864239   36.266251   10.327010    0.380310  \n",
       "min        13.038894    9.432735    0.897628    0.001129    0.000000  \n",
       "25%      2798.992584   25.034888   23.011684    0.124392    0.000000  \n",
       "50%      7838.273610   30.608946   41.007968    0.337827    0.000000  \n",
       "75%     19035.709240   36.863947   67.931664   21.978000    0.000000  \n",
       "max    143790.071200   81.210825  191.194764   21.978000    1.000000  \n",
       "\n",
       "[8 rows x 56 columns]"
      ]
     },
     "execution_count": 6,
     "metadata": {},
     "output_type": "execute_result"
    }
   ],
   "source": [
    "dataset_df.describe()"
   ]
  },
  {
   "cell_type": "markdown",
   "id": "2c33fb3c",
   "metadata": {
    "papermill": {
     "duration": 0.012886,
     "end_time": "2023-06-23T01:07:28.719914",
     "exception": false,
     "start_time": "2023-06-23T01:07:28.707028",
     "status": "completed"
    },
    "tags": []
   },
   "source": [
    "## Pie chart for label column: Class"
   ]
  },
  {
   "cell_type": "code",
   "execution_count": 7,
   "id": "abf62ceb",
   "metadata": {
    "execution": {
     "iopub.execute_input": "2023-06-23T01:07:28.748603Z",
     "iopub.status.busy": "2023-06-23T01:07:28.748162Z",
     "iopub.status.idle": "2023-06-23T01:07:28.993230Z",
     "shell.execute_reply": "2023-06-23T01:07:28.992117Z"
    },
    "papermill": {
     "duration": 0.262172,
     "end_time": "2023-06-23T01:07:28.995656",
     "exception": false,
     "start_time": "2023-06-23T01:07:28.733484",
     "status": "completed"
    },
    "tags": []
   },
   "outputs": [
    {
     "data": {
      "text/plain": [
       "<Axes: ylabel='Class'>"
      ]
     },
     "execution_count": 7,
     "metadata": {},
     "output_type": "execute_result"
    },
    {
     "data": {
      "image/png": "[encoded data removed]",
      "text/plain": [
       "<Figure size 640x480 with 1 Axes>"
      ]
     },
     "metadata": {},
     "output_type": "display_data"
    }
   ],
   "source": [
    "plot_df = dataset_df.Class.value_counts()\n",
    "plot_df.plot(kind=\"pie\")"
   ]
  },
  {
   "cell_type": "markdown",
   "id": "1981715b",
   "metadata": {
    "papermill": {
     "duration": 0.013604,
     "end_time": "2023-06-23T01:07:29.026519",
     "exception": false,
     "start_time": "2023-06-23T01:07:29.012915",
     "status": "completed"
    },
    "tags": []
   },
   "source": [
    "## Numerical data distribution"
   ]
  },
  {
   "cell_type": "code",
   "execution_count": 8,
   "id": "41e1cb72",
   "metadata": {
    "execution": {
     "iopub.execute_input": "2023-06-23T01:07:29.057141Z",
     "iopub.status.busy": "2023-06-23T01:07:29.056298Z",
     "iopub.status.idle": "2023-06-23T01:07:29.061870Z",
     "shell.execute_reply": "2023-06-23T01:07:29.061038Z"
    },
    "papermill": {
     "duration": 0.023891,
     "end_time": "2023-06-23T01:07:29.064393",
     "exception": false,
     "start_time": "2023-06-23T01:07:29.040502",
     "status": "completed"
    },
    "tags": []
   },
   "outputs": [],
   "source": [
    "# Store all the numerical column names into a list\n",
    "NUM_FEATURE_COLUMNS = [i for i in dataset_df.columns if i not in [\"Id\", \"EJ\", \"Class\"]]"
   ]
  },
  {
   "cell_type": "code",
   "execution_count": 9,
   "id": "5531aaa6",
   "metadata": {
    "execution": {
     "iopub.execute_input": "2023-06-23T01:07:29.094061Z",
     "iopub.status.busy": "2023-06-23T01:07:29.093233Z",
     "iopub.status.idle": "2023-06-23T01:07:58.851042Z",
     "shell.execute_reply": "2023-06-23T01:07:58.849829Z"
    },
    "papermill": {
     "duration": 29.775583,
     "end_time": "2023-06-23T01:07:58.853667",
     "exception": false,
     "start_time": "2023-06-23T01:07:29.078084",
     "status": "completed"
    },
    "tags": []
   },
   "outputs": [
    {
     "data": {
      "image/png": "[encoded data removed]",
      "text/plain": [
       "<Figure size 1500x1500 with 6 Axes>"
      ]
     },
     "metadata": {},
     "output_type": "display_data"
    }
   ],
   "source": [
    "figure, axis = plt.subplots(3, 2, figsize=(15, 15))\n",
    "plt.subplots_adjust(hspace=0.25, wspace=0.3)\n",
    "\n",
    "for i, column_name in enumerate(NUM_FEATURE_COLUMNS[:6]):\n",
    "    row = i//2\n",
    "    col = i % 2\n",
    "    bp = sns.barplot(ax=axis[row, col], x=dataset_df['Id'], y=dataset_df[column_name])\n",
    "    bp.set(xticklabels=[])\n",
    "    axis[row, col].set_title(column_name)\n",
    "plt.show()"
   ]
  },
  {
   "cell_type": "code",
   "execution_count": 10,
   "id": "63dc6038",
   "metadata": {
    "execution": {
     "iopub.execute_input": "2023-06-23T01:07:58.886949Z",
     "iopub.status.busy": "2023-06-23T01:07:58.886251Z",
     "iopub.status.idle": "2023-06-23T01:07:58.891194Z",
     "shell.execute_reply": "2023-06-23T01:07:58.890030Z"
    },
    "papermill": {
     "duration": 0.024459,
     "end_time": "2023-06-23T01:07:58.893867",
     "exception": false,
     "start_time": "2023-06-23T01:07:58.869408",
     "status": "completed"
    },
    "tags": []
   },
   "outputs": [],
   "source": [
    "FEATURE_COLUMNS = [i for i in dataset_df.columns if i not in [\"Id\"]]"
   ]
  },
  {
   "cell_type": "markdown",
   "id": "da156118",
   "metadata": {
    "papermill": {
     "duration": 0.014304,
     "end_time": "2023-06-23T01:07:58.923341",
     "exception": false,
     "start_time": "2023-06-23T01:07:58.909037",
     "status": "completed"
    },
    "tags": []
   },
   "source": [
    "## KFold validation"
   ]
  },
  {
   "cell_type": "code",
   "execution_count": 11,
   "id": "7ec09835",
   "metadata": {
    "execution": {
     "iopub.execute_input": "2023-06-23T01:07:58.955177Z",
     "iopub.status.busy": "2023-06-23T01:07:58.954481Z",
     "iopub.status.idle": "2023-06-23T01:07:58.959741Z",
     "shell.execute_reply": "2023-06-23T01:07:58.958712Z"
    },
    "papermill": {
     "duration": 0.024224,
     "end_time": "2023-06-23T01:07:58.962314",
     "exception": false,
     "start_time": "2023-06-23T01:07:58.938090",
     "status": "completed"
    },
    "tags": []
   },
   "outputs": [],
   "source": [
    "# Creates a GroupKFold with 5 splits\n",
    "kf = KFold(n_splits=5)"
   ]
  },
  {
   "cell_type": "markdown",
   "id": "058fc570",
   "metadata": {
    "papermill": {
     "duration": 0.01462,
     "end_time": "2023-06-23T01:07:58.994283",
     "exception": false,
     "start_time": "2023-06-23T01:07:58.979663",
     "status": "completed"
    },
    "tags": []
   },
   "source": [
    "## Out of Fold (OOF)"
   ]
  },
  {
   "cell_type": "code",
   "execution_count": 12,
   "id": "b6ee4e32",
   "metadata": {
    "execution": {
     "iopub.execute_input": "2023-06-23T01:07:59.027647Z",
     "iopub.status.busy": "2023-06-23T01:07:59.027238Z",
     "iopub.status.idle": "2023-06-23T01:07:59.034089Z",
     "shell.execute_reply": "2023-06-23T01:07:59.032868Z"
    },
    "papermill": {
     "duration": 0.026033,
     "end_time": "2023-06-23T01:07:59.036570",
     "exception": false,
     "start_time": "2023-06-23T01:07:59.010537",
     "status": "completed"
    },
    "tags": []
   },
   "outputs": [],
   "source": [
    "# Create list of ids for the creation of oof dataframe\n",
    "ID_LIST = dataset_df.index\n",
    "\n",
    "# Create a dataframe of required size with zero values.\n",
    "oof = pd.DataFrame(data=np.zeros((len(ID_LIST),1)), index=ID_LIST)\n",
    "\n",
    "# Create an empty dictionary to store the models trained for each fold.\n",
    "models = {}\n",
    "\n",
    "# Create empty dict to save metrics for the models trained for each fold.\n",
    "accuracy = {}\n",
    "cross_entropy = {}\n",
    "\n",
    "# Save the name of the label column to a variable.\n",
    "label = \"Class\""
   ]
  },
  {
   "cell_type": "markdown",
   "id": "46d5c9da",
   "metadata": {
    "papermill": {
     "duration": 0.014282,
     "end_time": "2023-06-23T01:07:59.065644",
     "exception": false,
     "start_time": "2023-06-23T01:07:59.051362",
     "status": "completed"
    },
    "tags": []
   },
   "source": [
    "## Select a Model"
   ]
  },
  {
   "cell_type": "code",
   "execution_count": 13,
   "id": "c9cfee87",
   "metadata": {
    "execution": {
     "iopub.execute_input": "2023-06-23T01:07:59.097102Z",
     "iopub.status.busy": "2023-06-23T01:07:59.096314Z",
     "iopub.status.idle": "2023-06-23T01:07:59.103913Z",
     "shell.execute_reply": "2023-06-23T01:07:59.103045Z"
    },
    "papermill": {
     "duration": 0.025896,
     "end_time": "2023-06-23T01:07:59.106375",
     "exception": false,
     "start_time": "2023-06-23T01:07:59.080479",
     "status": "completed"
    },
    "tags": []
   },
   "outputs": [
    {
     "data": {
      "text/plain": [
       "[tensorflow_decision_forests.keras.RandomForestModel,\n",
       " tensorflow_decision_forests.keras.GradientBoostedTreesModel,\n",
       " tensorflow_decision_forests.keras.CartModel,\n",
       " tensorflow_decision_forests.keras.DistributedGradientBoostedTreesModel]"
      ]
     },
     "execution_count": 13,
     "metadata": {},
     "output_type": "execute_result"
    }
   ],
   "source": [
    "tfdf.keras.get_all_models()"
   ]
  },
  {
   "cell_type": "markdown",
   "id": "10933895",
   "metadata": {
    "papermill": {
     "duration": 0.015633,
     "end_time": "2023-06-23T01:07:59.137973",
     "exception": false,
     "start_time": "2023-06-23T01:07:59.122340",
     "status": "completed"
    },
    "tags": []
   },
   "source": [
    "## Strategies to handle the dataset imbalance"
   ]
  },
  {
   "cell_type": "code",
   "execution_count": 14,
   "id": "7eb169bf",
   "metadata": {
    "execution": {
     "iopub.execute_input": "2023-06-23T01:07:59.172432Z",
     "iopub.status.busy": "2023-06-23T01:07:59.171682Z",
     "iopub.status.idle": "2023-06-23T01:07:59.178809Z",
     "shell.execute_reply": "2023-06-23T01:07:59.177322Z"
    },
    "papermill": {
     "duration": 0.027385,
     "end_time": "2023-06-23T01:07:59.181536",
     "exception": false,
     "start_time": "2023-06-23T01:07:59.154151",
     "status": "completed"
    },
    "tags": []
   },
   "outputs": [
    {
     "name": "stdout",
     "output_type": "stream",
     "text": [
      "Examples:\n",
      "    Total: 617\n",
      "    Positive: 108 (17.50% of total)\n",
      "\n"
     ]
    }
   ],
   "source": [
    "# Calculate the number of negative and positive values in `Class` column\n",
    "neg, pos = np.bincount(dataset_df['Class'])\n",
    "# Calculate total samples\n",
    "total = neg + pos\n",
    "print('Examples:\\n    Total: {}\\n    Positive: {} ({:.2f}% of total)\\n'.format(total, pos, 100 * pos / total))"
   ]
  },
  {
   "cell_type": "markdown",
   "id": "0e447b35",
   "metadata": {
    "papermill": {
     "duration": 0.015638,
     "end_time": "2023-06-23T01:07:59.213493",
     "exception": false,
     "start_time": "2023-06-23T01:07:59.197855",
     "status": "completed"
    },
    "tags": []
   },
   "source": [
    "## Class weighting"
   ]
  },
  {
   "cell_type": "code",
   "execution_count": 15,
   "id": "3c19f3e8",
   "metadata": {
    "execution": {
     "iopub.execute_input": "2023-06-23T01:07:59.247825Z",
     "iopub.status.busy": "2023-06-23T01:07:59.247354Z",
     "iopub.status.idle": "2023-06-23T01:07:59.255442Z",
     "shell.execute_reply": "2023-06-23T01:07:59.254232Z"
    },
    "papermill": {
     "duration": 0.028634,
     "end_time": "2023-06-23T01:07:59.257921",
     "exception": false,
     "start_time": "2023-06-23T01:07:59.229287",
     "status": "completed"
    },
    "tags": []
   },
   "outputs": [
    {
     "name": "stdout",
     "output_type": "stream",
     "text": [
      "Weight for class 0: 0.61\n",
      "Weight for class 1: 2.86\n"
     ]
    }
   ],
   "source": [
    "# Calculate the number of samples for each label.\n",
    "neg, pos = np.bincount(dataset_df['Class'])\n",
    "\n",
    "# Calculate total samples.\n",
    "total = neg + pos\n",
    "\n",
    "# Calculate the weight for each label.\n",
    "weight_for_0 = (1 / neg) * (total / 2.0)\n",
    "weight_for_1 = (1 / pos) * (total / 2.0)\n",
    "\n",
    "class_weight = {0: weight_for_0, 1: weight_for_1}\n",
    "\n",
    "print('Weight for class 0: {:.2f}'.format(weight_for_0))\n",
    "print('Weight for class 1: {:.2f}'.format(weight_for_1))"
   ]
  },
  {
   "cell_type": "code",
   "execution_count": 16,
   "id": "27716066",
   "metadata": {
    "execution": {
     "iopub.execute_input": "2023-06-23T01:07:59.290599Z",
     "iopub.status.busy": "2023-06-23T01:07:59.289867Z",
     "iopub.status.idle": "2023-06-23T01:08:24.167424Z",
     "shell.execute_reply": "2023-06-23T01:08:24.166319Z"
    },
    "papermill": {
     "duration": 24.897007,
     "end_time": "2023-06-23T01:08:24.170050",
     "exception": false,
     "start_time": "2023-06-23T01:07:59.273043",
     "status": "completed"
    },
    "tags": []
   },
   "outputs": [
    {
     "name": "stdout",
     "output_type": "stream",
     "text": [
      "##### Fold 1\n",
      "Warning: Some of the feature names have been changed automatically to be compatible with SavedModels because fix_feature_names=True.\n",
      "Warning: Some of the feature names have been changed automatically to be compatible with SavedModels because fix_feature_names=True.\n",
      "Use /tmp/tmpf72sh2ts as temporary training directory\n",
      "Reading training dataset...\n",
      "Training dataset read in 0:00:08.123692. Found 493 examples.\n",
      "Training model...\n",
      "Model trained in 0:00:00.328600\n",
      "Compiling model...\n"
     ]
    },
    {
     "name": "stderr",
     "output_type": "stream",
     "text": [
      "[INFO 23-06-23 01:08:08.0624 UTC kernel.cc:1242] Loading model from path /tmp/tmpf72sh2ts/model/ with prefix 2de4861d229646b0\n",
      "[INFO 23-06-23 01:08:08.1229 UTC decision_forest.cc:660] Model loaded with 300 root(s), 14268 node(s), and 56 input feature(s).\n",
      "[INFO 23-06-23 01:08:08.1231 UTC abstract_model.cc:1311] Engine \"RandomForestOptPred\" built\n",
      "[INFO 23-06-23 01:08:08.1233 UTC kernel.cc:1074] Use fast generic engine\n"
     ]
    },
    {
     "name": "stdout",
     "output_type": "stream",
     "text": [
      "WARNING: AutoGraph could not transform <function simple_ml_inference_op_with_handle at 0x79570a73d870> and will run it as-is.\n",
      "Please report this to the TensorFlow team. When filing the bug, set the verbosity to 10 (on Linux, `export AUTOGRAPH_VERBOSITY=10`) and attach the full output.\n",
      "Cause: could not get source code\n",
      "To silence this warning, decorate the function with @tf.autograph.experimental.do_not_convert\n",
      "Model compiled.\n",
      "1/1 [==============================] - 0s 150ms/step\n",
      "1/1 [==============================] - 1s 787ms/step - loss: 0.0000e+00 - accuracy: 0.9516 - binary_crossentropy: 0.2182\n",
      "##### Fold 2\n",
      "Warning: Some of the feature names have been changed automatically to be compatible with SavedModels because fix_feature_names=True.\n",
      "Warning: Some of the feature names have been changed automatically to be compatible with SavedModels because fix_feature_names=True.\n",
      "Use /tmp/tmpb5zbp99r as temporary training directory\n",
      "Reading training dataset...\n",
      "Training dataset read in 0:00:01.110024. Found 493 examples.\n",
      "Training model...\n",
      "Model trained in 0:00:00.268750\n",
      "Compiling model...\n"
     ]
    },
    {
     "name": "stderr",
     "output_type": "stream",
     "text": [
      "[INFO 23-06-23 01:08:13.8200 UTC kernel.cc:1242] Loading model from path /tmp/tmpb5zbp99r/model/ with prefix 76f100424ea342d7\n",
      "[INFO 23-06-23 01:08:13.8752 UTC decision_forest.cc:660] Model loaded with 300 root(s), 13582 node(s), and 56 input feature(s).\n",
      "[INFO 23-06-23 01:08:13.8755 UTC kernel.cc:1074] Use fast generic engine\n"
     ]
    },
    {
     "name": "stdout",
     "output_type": "stream",
     "text": [
      "Model compiled.\n",
      "1/1 [==============================] - 0s 153ms/step\n",
      "1/1 [==============================] - 0s 388ms/step - loss: 0.0000e+00 - accuracy: 0.8790 - binary_crossentropy: 0.2608\n",
      "##### Fold 3\n",
      "Warning: Some of the feature names have been changed automatically to be compatible with SavedModels because fix_feature_names=True.\n",
      "Warning: Some of the feature names have been changed automatically to be compatible with SavedModels because fix_feature_names=True.\n",
      "Use /tmp/tmpcg9j_t0s as temporary training directory\n",
      "Reading training dataset...\n",
      "Training dataset read in 0:00:01.095470. Found 494 examples.\n",
      "Training model...\n",
      "Model trained in 0:00:00.262376\n",
      "Compiling model...\n"
     ]
    },
    {
     "name": "stderr",
     "output_type": "stream",
     "text": [
      "[INFO 23-06-23 01:08:16.8918 UTC kernel.cc:1242] Loading model from path /tmp/tmpcg9j_t0s/model/ with prefix 12e92beec77a457c\n",
      "[INFO 23-06-23 01:08:16.9466 UTC decision_forest.cc:660] Model loaded with 300 root(s), 13376 node(s), and 56 input feature(s).\n",
      "[INFO 23-06-23 01:08:16.9467 UTC kernel.cc:1074] Use fast generic engine\n"
     ]
    },
    {
     "name": "stdout",
     "output_type": "stream",
     "text": [
      "Model compiled.\n",
      "1/1 [==============================] - 0s 142ms/step\n",
      "1/1 [==============================] - 0s 401ms/step - loss: 0.0000e+00 - accuracy: 0.9024 - binary_crossentropy: 0.2741\n",
      "##### Fold 4\n",
      "Warning: Some of the feature names have been changed automatically to be compatible with SavedModels because fix_feature_names=True.\n",
      "Warning: Some of the feature names have been changed automatically to be compatible with SavedModels because fix_feature_names=True.\n",
      "Use /tmp/tmp6xm7_w83 as temporary training directory\n",
      "Reading training dataset...\n",
      "Training dataset read in 0:00:01.090683. Found 494 examples.\n",
      "Training model...\n",
      "Model trained in 0:00:00.265389\n",
      "Compiling model...\n"
     ]
    },
    {
     "name": "stderr",
     "output_type": "stream",
     "text": [
      "[INFO 23-06-23 01:08:19.5723 UTC kernel.cc:1242] Loading model from path /tmp/tmp6xm7_w83/model/ with prefix ef7741335ff9497f\n",
      "[INFO 23-06-23 01:08:19.6265 UTC decision_forest.cc:660] Model loaded with 300 root(s), 13434 node(s), and 56 input feature(s).\n",
      "[INFO 23-06-23 01:08:19.6266 UTC abstract_model.cc:1311] Engine \"RandomForestOptPred\" built\n",
      "[INFO 23-06-23 01:08:19.6266 UTC kernel.cc:1074] Use fast generic engine\n"
     ]
    },
    {
     "name": "stdout",
     "output_type": "stream",
     "text": [
      "Model compiled.\n",
      "1/1 [==============================] - 1s 797ms/step\n",
      "1/1 [==============================] - 0s 388ms/step - loss: 0.0000e+00 - accuracy: 0.9024 - binary_crossentropy: 0.2717\n",
      "##### Fold 5\n",
      "Warning: Some of the feature names have been changed automatically to be compatible with SavedModels because fix_feature_names=True.\n",
      "Warning: Some of the feature names have been changed automatically to be compatible with SavedModels because fix_feature_names=True.\n",
      "Use /tmp/tmpo78r208y as temporary training directory\n",
      "Reading training dataset...\n",
      "Training dataset read in 0:00:01.102949. Found 494 examples.\n",
      "Training model...\n",
      "Model trained in 0:00:00.308662\n",
      "Compiling model...\n"
     ]
    },
    {
     "name": "stderr",
     "output_type": "stream",
     "text": [
      "[INFO 23-06-23 01:08:22.9847 UTC kernel.cc:1242] Loading model from path /tmp/tmpo78r208y/model/ with prefix d5d81f44a75d43ce\n",
      "[INFO 23-06-23 01:08:23.0418 UTC decision_forest.cc:660] Model loaded with 300 root(s), 13980 node(s), and 56 input feature(s).\n",
      "[INFO 23-06-23 01:08:23.0418 UTC kernel.cc:1074] Use fast generic engine\n"
     ]
    },
    {
     "name": "stdout",
     "output_type": "stream",
     "text": [
      "Model compiled.\n",
      "1/1 [==============================] - 0s 146ms/step\n",
      "1/1 [==============================] - 0s 393ms/step - loss: 0.0000e+00 - accuracy: 0.9512 - binary_crossentropy: 0.2172\n"
     ]
    }
   ],
   "source": [
    "# Loop through each fold\n",
    "for i, (train_index, valid_index) in enumerate(kf.split(X=dataset_df)):\n",
    "    print('##### Fold',i+1)\n",
    "    \n",
    "    # Fetch values corresponding to the index\n",
    "    train_df = dataset_df.iloc[train_index]\n",
    "    valid_df = dataset_df.iloc[valid_index]\n",
    "    valid_ids = valid_df.index.values\n",
    "    \n",
    "    # Select only feature columns for training.\n",
    "    train_df = train_df[FEATURE_COLUMNS]\n",
    "    valid_df = valid_df[FEATURE_COLUMNS]\n",
    "    \n",
    "    # There's one more step required before we can train the model.\n",
    "    # We need to convert the dataset from Pandas format (pd.DataFrame)\n",
    "    # into Tensorflow Datasets format (tf.data.Dataset).\n",
    "    # Tensorflow Datasets is a high performance data loading library\n",
    "    # which is helpful when training neural networks with accelerators like GPUs and TPUs.\n",
    "    # Note: Some column names contains white spaces at the end of their name,\n",
    "    # which is non-compatible with SavedModels save format.\n",
    "    # By default, `pd_dataframe_to_tf_dataset` function will convert\n",
    "    # this column names into a compatible format.\n",
    "    # So you can safely ignore the warnings related to this.\n",
    "    train_ds = tfdf.keras.pd_dataframe_to_tf_dataset(train_df, label=label)\n",
    "    valid_ds = tfdf.keras.pd_dataframe_to_tf_dataset(valid_df, label=label)\n",
    "    \n",
    "    # Define the model and metrics\n",
    "    rf = tfdf.keras.RandomForestModel()\n",
    "    rf.compile(metrics=[\"accuracy\", \"binary_crossentropy\"])\n",
    "    \n",
    "    # Train the model\n",
    "    rf.fit(x=train_ds, class_weight=class_weight)\n",
    "    \n",
    "    # Store the model\n",
    "    models[f\"fold_{i+1}\"] = rf\n",
    "    \n",
    "    # Predict OOF value for validation data\n",
    "    predict = rf.predict(x=valid_ds)\n",
    "    \n",
    "    # Store the predictions in oof dataframe\n",
    "    oof.loc[valid_ids, 0] = predict.flatten()\n",
    "    \n",
    "    # Evaluate and store the metrics in respective dicts\n",
    "    evaluation = rf.evaluate(x=valid_ds,return_dict=True)\n",
    "    accuracy[f\"fold_{i+1}\"] = evaluation[\"accuracy\"]\n",
    "    cross_entropy[f\"fold_{i+1}\"] = evaluation[\"binary_crossentropy\"]"
   ]
  },
  {
   "cell_type": "markdown",
   "id": "a3e43f7d",
   "metadata": {
    "papermill": {
     "duration": 0.021092,
     "end_time": "2023-06-23T01:08:24.213326",
     "exception": false,
     "start_time": "2023-06-23T01:08:24.192234",
     "status": "completed"
    },
    "tags": []
   },
   "source": [
    "## Visualize the model"
   ]
  },
  {
   "cell_type": "code",
   "execution_count": 17,
   "id": "77fdd3b0",
   "metadata": {
    "execution": {
     "iopub.execute_input": "2023-06-23T01:08:24.257681Z",
     "iopub.status.busy": "2023-06-23T01:08:24.257275Z",
     "iopub.status.idle": "2023-06-23T01:08:24.272074Z",
     "shell.execute_reply": "2023-06-23T01:08:24.270518Z"
    },
    "papermill": {
     "duration": 0.040239,
     "end_time": "2023-06-23T01:08:24.274804",
     "exception": false,
     "start_time": "2023-06-23T01:08:24.234565",
     "status": "completed"
    },
    "tags": []
   },
   "outputs": [
    {
     "data": {
      "text/html": [
       "\n",
       "<script src=\"https://d3js.org/d3.v6.min.js\"></script>\n",
       "<div id=\"tree_plot_3e34bf2806804337a01a5e0009d46cf4\"></div>\n",
       "<script>\n",
       "/*\n",
       " * Copyright 2021 Google LLC.\n",
       " * Licensed under the Apache License, Version 2.0 (the \"License\");\n",
       " * you may not use this file except in compliance with the License.\n",
       " * You may obtain a copy of the License at\n",
       " *\n",
       " *     https://www.apache.org/licenses/LICENSE-2.0\n",
       " *\n",
       " * Unless required by applicable law or agreed to in writing, software\n",
       " * distributed under the License is distributed on an \"AS IS\" BASIS,\n",
       " * WITHOUT WARRANTIES OR CONDITIONS OF ANY KIND, either express or implied.\n",
       " * See the License for the specific language governing permissions and\n",
       " * limitations under the License.\n",
       " */\n",
       "\n",
       "/**\n",
       " *  Plotting of decision trees generated by TF-DF.\n",
       " *\n",
       " *  A tree is a recursive structure of node objects.\n",
       " *  A node contains one or more of the following components:\n",
       " *\n",
       " *    - A value: Representing the output of the node. If the node is not a leaf,\n",
       " *      the value is only present for analysis i.e. it is not used for\n",
       " *      predictions.\n",
       " *\n",
       " *    - A condition : For non-leaf nodes, the condition (also known as split)\n",
       " *      defines a binary test to branch to the positive or negative child.\n",
       " *\n",
       " *    - An explanation: Generally a plot showing the relation between the label\n",
       " *      and the condition to give insights about the effect of the condition.\n",
       " *\n",
       " *    - Two children : For non-leaf nodes, the children nodes. The first\n",
       " *      children (i.e. \"node.children[0]\") is the negative children (drawn in\n",
       " *      red). The second children is the positive one (drawn in green).\n",
       " *\n",
       " */\n",
       "\n",
       "/**\n",
       " * Plots a single decision tree into a DOM element.\n",
       " * @param {!options} options Dictionary of configurations.\n",
       " * @param {!tree} raw_tree Recursive tree structure.\n",
       " * @param {string} canvas_id Id of the output dom element.\n",
       " */\n",
       "function display_tree(options, raw_tree, canvas_id) {\n",
       "  console.log(options);\n",
       "\n",
       "  // Determine the node placement.\n",
       "  const tree_struct = d3.tree().nodeSize(\n",
       "      [options.node_y_offset, options.node_x_offset])(d3.hierarchy(raw_tree));\n",
       "\n",
       "  // Boundaries of the node placement.\n",
       "  let x_min = Infinity;\n",
       "  let x_max = -x_min;\n",
       "  let y_min = Infinity;\n",
       "  let y_max = -x_min;\n",
       "\n",
       "  tree_struct.each(d => {\n",
       "    if (d.x > x_max) x_max = d.x;\n",
       "    if (d.x < x_min) x_min = d.x;\n",
       "    if (d.y > y_max) y_max = d.y;\n",
       "    if (d.y < y_min) y_min = d.y;\n",
       "  });\n",
       "\n",
       "  // Size of the plot.\n",
       "  const width = y_max - y_min + options.node_x_size + options.margin * 2;\n",
       "  const height = x_max - x_min + options.node_y_size + options.margin * 2 +\n",
       "      options.node_y_offset - options.node_y_size;\n",
       "\n",
       "  const plot = d3.select(canvas_id);\n",
       "\n",
       "  // Tool tip\n",
       "  options.tooltip = plot.append('div')\n",
       "                        .attr('width', 100)\n",
       "                        .attr('height', 100)\n",
       "                        .style('padding', '4px')\n",
       "                        .style('background', '#fff')\n",
       "                        .style('box-shadow', '4px 4px 0px rgba(0,0,0,0.1)')\n",
       "                        .style('border', '1px solid black')\n",
       "                        .style('font-family', 'sans-serif')\n",
       "                        .style('font-size', options.font_size)\n",
       "                        .style('position', 'absolute')\n",
       "                        .style('z-index', '10')\n",
       "                        .attr('pointer-events', 'none')\n",
       "                        .style('display', 'none');\n",
       "\n",
       "  // Create canvas\n",
       "  const svg = plot.append('svg').attr('width', width).attr('height', height);\n",
       "  const graph =\n",
       "      svg.style('overflow', 'visible')\n",
       "          .append('g')\n",
       "          .attr('font-family', 'sans-serif')\n",
       "          .attr('font-size', options.font_size)\n",
       "          .attr(\n",
       "              'transform',\n",
       "              () => `translate(${options.margin},${\n",
       "                  - x_min + options.node_y_offset / 2 + options.margin})`);\n",
       "\n",
       "  // Plot bounding box.\n",
       "  if (options.show_plot_bounding_box) {\n",
       "    svg.append('rect')\n",
       "        .attr('width', width)\n",
       "        .attr('height', height)\n",
       "        .attr('fill', 'none')\n",
       "        .attr('stroke-width', 1.0)\n",
       "        .attr('stroke', 'black');\n",
       "  }\n",
       "\n",
       "  // Draw the edges.\n",
       "  display_edges(options, graph, tree_struct);\n",
       "\n",
       "  // Draw the nodes.\n",
       "  display_nodes(options, graph, tree_struct);\n",
       "}\n",
       "\n",
       "/**\n",
       " * Draw the nodes of the tree.\n",
       " * @param {!options} options Dictionary of configurations.\n",
       " * @param {!graph} graph D3 search handle containing the graph.\n",
       " * @param {!tree_struct} tree_struct Structure of the tree (node placement,\n",
       " *     data, etc.).\n",
       " */\n",
       "function display_nodes(options, graph, tree_struct) {\n",
       "  const nodes = graph.append('g')\n",
       "                    .selectAll('g')\n",
       "                    .data(tree_struct.descendants())\n",
       "                    .join('g')\n",
       "                    .attr('transform', d => `translate(${d.y},${d.x})`);\n",
       "\n",
       "  nodes.append('rect')\n",
       "      .attr('x', 0.5)\n",
       "      .attr('y', 0.5)\n",
       "      .attr('width', options.node_x_size)\n",
       "      .attr('height', options.node_y_size)\n",
       "      .attr('stroke', 'lightgrey')\n",
       "      .attr('stroke-width', 1)\n",
       "      .attr('fill', 'white')\n",
       "      .attr('y', -options.node_y_size / 2);\n",
       "\n",
       "  // Brackets on the right of condition nodes without children.\n",
       "  non_leaf_node_without_children =\n",
       "      nodes.filter(node => node.data.condition != null && node.children == null)\n",
       "          .append('g')\n",
       "          .attr('transform', `translate(${options.node_x_size},0)`);\n",
       "\n",
       "  non_leaf_node_without_children.append('path')\n",
       "      .attr('d', 'M0,0 C 10,0 0,10 10,10')\n",
       "      .attr('fill', 'none')\n",
       "      .attr('stroke-width', 1.0)\n",
       "      .attr('stroke', '#F00');\n",
       "\n",
       "  non_leaf_node_without_children.append('path')\n",
       "      .attr('d', 'M0,0 C 10,0 0,-10 10,-10')\n",
       "      .attr('fill', 'none')\n",
       "      .attr('stroke-width', 1.0)\n",
       "      .attr('stroke', '#0F0');\n",
       "\n",
       "  const node_content = nodes.append('g').attr(\n",
       "      'transform',\n",
       "      `translate(0,${options.node_padding - options.node_y_size / 2})`);\n",
       "\n",
       "  node_content.append(node => create_node_element(options, node));\n",
       "}\n",
       "\n",
       "/**\n",
       " * Creates the D3 content for a single node.\n",
       " * @param {!options} options Dictionary of configurations.\n",
       " * @param {!node} node Node to draw.\n",
       " * @return {!d3} D3 content.\n",
       " */\n",
       "function create_node_element(options, node) {\n",
       "  // Output accumulator.\n",
       "  let output = {\n",
       "    // Content to draw.\n",
       "    content: d3.create('svg:g'),\n",
       "    // Vertical offset to the next element to draw.\n",
       "    vertical_offset: 0\n",
       "  };\n",
       "\n",
       "  // Conditions.\n",
       "  if (node.data.condition != null) {\n",
       "    display_condition(options, node.data.condition, output);\n",
       "  }\n",
       "\n",
       "  // Values.\n",
       "  if (node.data.value != null) {\n",
       "    display_value(options, node.data.value, output);\n",
       "  }\n",
       "\n",
       "  // Explanations.\n",
       "  if (node.data.explanation != null) {\n",
       "    display_explanation(options, node.data.explanation, output);\n",
       "  }\n",
       "\n",
       "  return output.content.node();\n",
       "}\n",
       "\n",
       "\n",
       "/**\n",
       " * Adds a single line of text inside of a node.\n",
       " * @param {!options} options Dictionary of configurations.\n",
       " * @param {string} text Text to display.\n",
       " * @param {!output} output Output display accumulator.\n",
       " */\n",
       "function display_node_text(options, text, output) {\n",
       "  output.content.append('text')\n",
       "      .attr('x', options.node_padding)\n",
       "      .attr('y', output.vertical_offset)\n",
       "      .attr('alignment-baseline', 'hanging')\n",
       "      .text(text);\n",
       "  output.vertical_offset += 10;\n",
       "}\n",
       "\n",
       "/**\n",
       " * Adds a single line of text inside of a node with a tooltip.\n",
       " * @param {!options} options Dictionary of configurations.\n",
       " * @param {string} text Text to display.\n",
       " * @param {string} tooltip Text in the Tooltip.\n",
       " * @param {!output} output Output display accumulator.\n",
       " */\n",
       "function display_node_text_with_tooltip(options, text, tooltip, output) {\n",
       "  const item = output.content.append('text')\n",
       "                   .attr('x', options.node_padding)\n",
       "                   .attr('alignment-baseline', 'hanging')\n",
       "                   .text(text);\n",
       "\n",
       "  add_tooltip(options, item, () => tooltip);\n",
       "  output.vertical_offset += 10;\n",
       "}\n",
       "\n",
       "/**\n",
       " * Adds a tooltip to a dom element.\n",
       " * @param {!options} options Dictionary of configurations.\n",
       " * @param {!dom} target Dom element to equip with a tooltip.\n",
       " * @param {!func} get_content Generates the html content of the tooltip.\n",
       " */\n",
       "function add_tooltip(options, target, get_content) {\n",
       "  function show(d) {\n",
       "    options.tooltip.style('display', 'block');\n",
       "    options.tooltip.html(get_content());\n",
       "  }\n",
       "\n",
       "  function hide(d) {\n",
       "    options.tooltip.style('display', 'none');\n",
       "  }\n",
       "\n",
       "  function move(d) {\n",
       "    options.tooltip.style('display', 'block');\n",
       "    options.tooltip.style('left', (d.pageX + 5) + 'px');\n",
       "    options.tooltip.style('top', d.pageY + 'px');\n",
       "  }\n",
       "\n",
       "  target.on('mouseover', show);\n",
       "  target.on('mouseout', hide);\n",
       "  target.on('mousemove', move);\n",
       "}\n",
       "\n",
       "/**\n",
       " * Adds a condition inside of a node.\n",
       " * @param {!options} options Dictionary of configurations.\n",
       " * @param {!condition} condition Condition to display.\n",
       " * @param {!output} output Output display accumulator.\n",
       " */\n",
       "function display_condition(options, condition, output) {\n",
       "  threshold_format = d3.format('r');\n",
       "\n",
       "  if (condition.type === 'IS_MISSING') {\n",
       "    display_node_text(options, `${condition.attribute} is missing`, output);\n",
       "    return;\n",
       "  }\n",
       "\n",
       "  if (condition.type === 'IS_TRUE') {\n",
       "    display_node_text(options, `${condition.attribute} is true`, output);\n",
       "    return;\n",
       "  }\n",
       "\n",
       "  if (condition.type === 'NUMERICAL_IS_HIGHER_THAN') {\n",
       "    format = d3.format('r');\n",
       "    display_node_text(\n",
       "        options,\n",
       "        `${condition.attribute} >= ${threshold_format(condition.threshold)}`,\n",
       "        output);\n",
       "    return;\n",
       "  }\n",
       "\n",
       "  if (condition.type === 'CATEGORICAL_IS_IN') {\n",
       "    display_node_text_with_tooltip(\n",
       "        options, `${condition.attribute} in [...]`,\n",
       "        `${condition.attribute} in [${condition.mask}]`, output);\n",
       "    return;\n",
       "  }\n",
       "\n",
       "  if (condition.type === 'CATEGORICAL_SET_CONTAINS') {\n",
       "    display_node_text_with_tooltip(\n",
       "        options, `${condition.attribute} intersect [...]`,\n",
       "        `${condition.attribute} intersect [${condition.mask}]`, output);\n",
       "    return;\n",
       "  }\n",
       "\n",
       "  if (condition.type === 'NUMERICAL_SPARSE_OBLIQUE') {\n",
       "    display_node_text_with_tooltip(\n",
       "        options, `Sparse oblique split...`,\n",
       "        `[${condition.attributes}]*[${condition.weights}]>=${\n",
       "            threshold_format(condition.threshold)}`,\n",
       "        output);\n",
       "    return;\n",
       "  }\n",
       "\n",
       "  display_node_text(\n",
       "      options, `Non supported condition ${condition.type}`, output);\n",
       "}\n",
       "\n",
       "/**\n",
       " * Adds a value inside of a node.\n",
       " * @param {!options} options Dictionary of configurations.\n",
       " * @param {!value} value Value to display.\n",
       " * @param {!output} output Output display accumulator.\n",
       " */\n",
       "function display_value(options, value, output) {\n",
       "  if (value.type === 'PROBABILITY') {\n",
       "    const left_margin = 0;\n",
       "    const right_margin = 50;\n",
       "    const plot_width = options.node_x_size - options.node_padding * 2 -\n",
       "        left_margin - right_margin;\n",
       "\n",
       "    let cusum = Array.from(d3.cumsum(value.distribution));\n",
       "    cusum.unshift(0);\n",
       "    const distribution_plot = output.content.append('g').attr(\n",
       "        'transform', `translate(0,${output.vertical_offset + 0.5})`);\n",
       "\n",
       "    distribution_plot.selectAll('rect')\n",
       "        .data(value.distribution)\n",
       "        .join('rect')\n",
       "        .attr('height', 10)\n",
       "        .attr(\n",
       "            'x',\n",
       "            (d, i) =>\n",
       "                (cusum[i] * plot_width + left_margin + options.node_padding))\n",
       "        .attr('width', (d, i) => d * plot_width)\n",
       "        .style('fill', (d, i) => d3.schemeSet1[i]);\n",
       "\n",
       "    const num_examples =\n",
       "        output.content.append('g')\n",
       "            .attr('transform', `translate(0,${output.vertical_offset})`)\n",
       "            .append('text')\n",
       "            .attr('x', options.node_x_size - options.node_padding)\n",
       "            .attr('alignment-baseline', 'hanging')\n",
       "            .attr('text-anchor', 'end')\n",
       "            .text(`(${value.num_examples})`);\n",
       "\n",
       "    const distribution_details = d3.create('ul');\n",
       "    distribution_details.selectAll('li')\n",
       "        .data(value.distribution)\n",
       "        .join('li')\n",
       "        .append('span')\n",
       "        .text(\n",
       "            (d, i) =>\n",
       "                'class ' + i + ': ' + d3.format('.3%')(value.distribution[i]));\n",
       "\n",
       "    add_tooltip(options, distribution_plot, () => distribution_details.html());\n",
       "    add_tooltip(options, num_examples, () => 'Number of examples');\n",
       "\n",
       "    output.vertical_offset += 10;\n",
       "    return;\n",
       "  }\n",
       "\n",
       "  if (value.type === 'REGRESSION') {\n",
       "    display_node_text(\n",
       "        options,\n",
       "        'value: ' + d3.format('r')(value.value) + ` (` +\n",
       "            d3.format('.6')(value.num_examples) + `)`,\n",
       "        output);\n",
       "    return;\n",
       "  }\n",
       "\n",
       "  display_node_text(options, `Non supported value ${value.type}`, output);\n",
       "}\n",
       "\n",
       "/**\n",
       " * Adds an explanation inside of a node.\n",
       " * @param {!options} options Dictionary of configurations.\n",
       " * @param {!explanation} explanation Explanation to display.\n",
       " * @param {!output} output Output display accumulator.\n",
       " */\n",
       "function display_explanation(options, explanation, output) {\n",
       "  // Margin before the explanation.\n",
       "  output.vertical_offset += 10;\n",
       "\n",
       "  display_node_text(\n",
       "      options, `Non supported explanation ${explanation.type}`, output);\n",
       "}\n",
       "\n",
       "\n",
       "/**\n",
       " * Draw the edges of the tree.\n",
       " * @param {!options} options Dictionary of configurations.\n",
       " * @param {!graph} graph D3 search handle containing the graph.\n",
       " * @param {!tree_struct} tree_struct Structure of the tree (node placement,\n",
       " *     data, etc.).\n",
       " */\n",
       "function display_edges(options, graph, tree_struct) {\n",
       "  // Draw an edge between a parent and a child node with a bezier.\n",
       "  function draw_single_edge(d) {\n",
       "    return 'M' + (d.source.y + options.node_x_size) + ',' + d.source.x + ' C' +\n",
       "        (d.source.y + options.node_x_size + options.edge_rounding) + ',' +\n",
       "        d.source.x + ' ' + (d.target.y - options.edge_rounding) + ',' +\n",
       "        d.target.x + ' ' + d.target.y + ',' + d.target.x;\n",
       "  }\n",
       "\n",
       "  graph.append('g')\n",
       "      .attr('fill', 'none')\n",
       "      .attr('stroke-width', 1.2)\n",
       "      .selectAll('path')\n",
       "      .data(tree_struct.links())\n",
       "      .join('path')\n",
       "      .attr('d', draw_single_edge)\n",
       "      .attr(\n",
       "          'stroke', d => (d.target === d.source.children[0]) ? '#0F0' : '#F00');\n",
       "}\n",
       "\n",
       "display_tree({\"margin\": 10, \"node_x_size\": 160, \"node_y_size\": 28, \"node_x_offset\": 180, \"node_y_offset\": 33, \"font_size\": 10, \"edge_rounding\": 20, \"node_padding\": 2, \"show_plot_bounding_box\": false}, {\"value\": {\"type\": \"PROBABILITY\", \"distribution\": [0.5227602930870747, 0.4772397069129253], \"num_examples\": 478.8338456749916}, \"condition\": {\"type\": \"NUMERICAL_IS_HIGHER_THAN\", \"attribute\": \"FR\", \"threshold\": 2.7061350345611572}, \"children\": [{\"value\": {\"type\": \"PROBABILITY\", \"distribution\": [0.014929499065309356, 0.9850705009346906], \"num_examples\": 40.59683209657669}, \"condition\": {\"type\": \"NUMERICAL_IS_HIGHER_THAN\", \"attribute\": \"CC\", \"threshold\": 0.6739449501037598}, \"children\": [{\"value\": {\"type\": \"PROBABILITY\", \"distribution\": [0.050373132637029645, 0.9496268673629703], \"num_examples\": 12.032016575336456}}, {\"value\": {\"type\": \"PROBABILITY\", \"distribution\": [0.0, 1.0], \"num_examples\": 28.564815521240234}}]}, {\"value\": {\"type\": \"PROBABILITY\", \"distribution\": [0.569804063557375, 0.43019593644262494], \"num_examples\": 438.2370135784149}, \"condition\": {\"type\": \"NUMERICAL_IS_HIGHER_THAN\", \"attribute\": \"DI\", \"threshold\": 268.67132568359375}, \"children\": [{\"value\": {\"type\": \"PROBABILITY\", \"distribution\": [0.06605504369032043, 0.9339449563096796], \"num_examples\": 45.877675116062164}, \"condition\": {\"type\": \"NUMERICAL_IS_HIGHER_THAN\", \"attribute\": \"EL\", \"threshold\": 85.41004180908203}, \"children\": [{\"value\": {\"type\": \"PROBABILITY\", \"distribution\": [0.0, 1.0], \"num_examples\": 31.421297073364258}}, {\"value\": {\"type\": \"PROBABILITY\", \"distribution\": [0.20962732333445935, 0.7903726766655407], \"num_examples\": 14.456378042697906}}]}, {\"value\": {\"type\": \"PROBABILITY\", \"distribution\": [0.628706277951115, 0.371293722048885], \"num_examples\": 392.35933846235275}, \"condition\": {\"type\": \"NUMERICAL_IS_HIGHER_THAN\", \"attribute\": \"FL\", \"threshold\": 10.433052062988281}, \"children\": [{\"value\": {\"type\": \"PROBABILITY\", \"distribution\": [0.13424047737713196, 0.865759522622868], \"num_examples\": 85.7842373251915}, \"condition\": {\"type\": \"NUMERICAL_IS_HIGHER_THAN\", \"attribute\": \"EG\", \"threshold\": 1536.67919921875}}, {\"value\": {\"type\": \"PROBABILITY\", \"distribution\": [0.767065105619419, 0.23293489438058096], \"num_examples\": 306.57510113716125}, \"condition\": {\"type\": \"NUMERICAL_IS_HIGHER_THAN\", \"attribute\": \"DN\", \"threshold\": 25.685535430908203}}]}]}]}, \"#tree_plot_3e34bf2806804337a01a5e0009d46cf4\")\n",
       "</script>\n"
      ],
      "text/plain": [
       "<IPython.core.display.HTML object>"
      ]
     },
     "execution_count": 17,
     "metadata": {},
     "output_type": "execute_result"
    }
   ],
   "source": [
    "tfdf.model_plotter.plot_model_in_colab(models['fold_1'], tree_idx=0, max_depth=3)"
   ]
  },
  {
   "cell_type": "markdown",
   "id": "576008b5",
   "metadata": {
    "papermill": {
     "duration": 0.021547,
     "end_time": "2023-06-23T01:08:24.318381",
     "exception": false,
     "start_time": "2023-06-23T01:08:24.296834",
     "status": "completed"
    },
    "tags": []
   },
   "source": [
    "## Evaluate the model on the Out of bag (OOB) data and the validation dataset"
   ]
  },
  {
   "cell_type": "code",
   "execution_count": 18,
   "id": "1d073aec",
   "metadata": {
    "execution": {
     "iopub.execute_input": "2023-06-23T01:08:24.364890Z",
     "iopub.status.busy": "2023-06-23T01:08:24.364429Z",
     "iopub.status.idle": "2023-06-23T01:08:25.502218Z",
     "shell.execute_reply": "2023-06-23T01:08:25.500880Z"
    },
    "papermill": {
     "duration": 1.16434,
     "end_time": "2023-06-23T01:08:25.505025",
     "exception": false,
     "start_time": "2023-06-23T01:08:24.340685",
     "status": "completed"
    },
    "tags": []
   },
   "outputs": [
    {
     "data": {
      "image/png": "[encoded data removed]",
      "text/plain": [
       "<Figure size 1000x1000 with 6 Axes>"
      ]
     },
     "metadata": {},
     "output_type": "display_data"
    }
   ],
   "source": [
    "figure, axis = plt.subplots(3, 2, figsize=(10, 10))\n",
    "plt.subplots_adjust(hspace=0.5, wspace=0.3)\n",
    "\n",
    "for i, fold_no in enumerate(models.keys()):\n",
    "    row = i//2\n",
    "    col = i % 2\n",
    "    logs = models[fold_no].make_inspector().training_logs()\n",
    "    axis[row, col].plot([log.num_trees for log in logs], [log.evaluation.loss for log in logs])\n",
    "    axis[row, col].set_title(f\"Fold {i+1}\")\n",
    "    axis[row, col].set_xlabel('Number of trees')\n",
    "    axis[row, col].set_ylabel('Loss (out-of-bag)')\n",
    "    \n",
    "axis[2][1].set_visible(False)\n",
    "plt.show()"
   ]
  },
  {
   "cell_type": "code",
   "execution_count": 19,
   "id": "7fd0d537",
   "metadata": {
    "execution": {
     "iopub.execute_input": "2023-06-23T01:08:25.553474Z",
     "iopub.status.busy": "2023-06-23T01:08:25.553045Z",
     "iopub.status.idle": "2023-06-23T01:08:25.572407Z",
     "shell.execute_reply": "2023-06-23T01:08:25.570847Z"
    },
    "papermill": {
     "duration": 0.047032,
     "end_time": "2023-06-23T01:08:25.574998",
     "exception": false,
     "start_time": "2023-06-23T01:08:25.527966",
     "status": "completed"
    },
    "tags": []
   },
   "outputs": [
    {
     "name": "stdout",
     "output_type": "stream",
     "text": [
      "fold_1 Evaluation(num_examples=493, accuracy=0.83384120423487, loss=0.4011864148867133, rmse=None, ndcg=None, aucs=None, auuc=None, qini=None)\n",
      "fold_2 Evaluation(num_examples=493, accuracy=0.86791143186256, loss=0.374230902610848, rmse=None, ndcg=None, aucs=None, auuc=None, qini=None)\n",
      "fold_3 Evaluation(num_examples=494, accuracy=0.8625237360976467, loss=0.39912028399338717, rmse=None, ndcg=None, aucs=None, auuc=None, qini=None)\n",
      "fold_4 Evaluation(num_examples=494, accuracy=0.8742180068903357, loss=0.38689070260817593, rmse=None, ndcg=None, aucs=None, auuc=None, qini=None)\n",
      "fold_5 Evaluation(num_examples=494, accuracy=0.8477430594687857, loss=0.39049966583287166, rmse=None, ndcg=None, aucs=None, auuc=None, qini=None)\n"
     ]
    }
   ],
   "source": [
    "for _model in models:\n",
    "    inspector = models[_model].make_inspector()\n",
    "    print(_model, inspector.evaluation())"
   ]
  },
  {
   "cell_type": "code",
   "execution_count": 20,
   "id": "15f6a658",
   "metadata": {
    "execution": {
     "iopub.execute_input": "2023-06-23T01:08:25.624531Z",
     "iopub.status.busy": "2023-06-23T01:08:25.624012Z",
     "iopub.status.idle": "2023-06-23T01:08:25.631587Z",
     "shell.execute_reply": "2023-06-23T01:08:25.630299Z"
    },
    "papermill": {
     "duration": 0.035305,
     "end_time": "2023-06-23T01:08:25.634017",
     "exception": false,
     "start_time": "2023-06-23T01:08:25.598712",
     "status": "completed"
    },
    "tags": []
   },
   "outputs": [
    {
     "name": "stdout",
     "output_type": "stream",
     "text": [
      "fold_1: acc: 0.9516 loss: 0.2182\n",
      "fold_2: acc: 0.8790 loss: 0.2608\n",
      "fold_3: acc: 0.9024 loss: 0.2741\n",
      "fold_4: acc: 0.9024 loss: 0.2717\n",
      "fold_5: acc: 0.9512 loss: 0.2172\n",
      "\n",
      "Average accuracy: 0.9173 Average loss: 0.2484\n"
     ]
    }
   ],
   "source": [
    "average_loss = 0\n",
    "average_acc = 0\n",
    "\n",
    "for _model in models:\n",
    "    average_loss += cross_entropy[_model]\n",
    "    average_acc += accuracy[_model]\n",
    "    print(f\"{_model}: acc: {accuracy[_model]:.4f} loss: {cross_entropy[_model]:.4f}\")\n",
    "    \n",
    "print(f\"\\nAverage accuracy: {average_acc/5:.4f} Average loss: {average_loss/5:.4f}\")"
   ]
  },
  {
   "cell_type": "markdown",
   "id": "64ee0d25",
   "metadata": {
    "papermill": {
     "duration": 0.022742,
     "end_time": "2023-06-23T01:08:25.679915",
     "exception": false,
     "start_time": "2023-06-23T01:08:25.657173",
     "status": "completed"
    },
    "tags": []
   },
   "source": [
    "## Variable importances"
   ]
  },
  {
   "cell_type": "code",
   "execution_count": 21,
   "id": "2498c209",
   "metadata": {
    "execution": {
     "iopub.execute_input": "2023-06-23T01:08:25.728938Z",
     "iopub.status.busy": "2023-06-23T01:08:25.728517Z",
     "iopub.status.idle": "2023-06-23T01:08:25.739949Z",
     "shell.execute_reply": "2023-06-23T01:08:25.738242Z"
    },
    "papermill": {
     "duration": 0.038726,
     "end_time": "2023-06-23T01:08:25.742799",
     "exception": false,
     "start_time": "2023-06-23T01:08:25.704073",
     "status": "completed"
    },
    "tags": []
   },
   "outputs": [
    {
     "name": "stdout",
     "output_type": "stream",
     "text": [
      "Available variable importances:\n",
      "\t SUM_SCORE\n",
      "\t NUM_AS_ROOT\n",
      "\t NUM_NODES\n",
      "\t INV_MEAN_MIN_DEPTH\n"
     ]
    }
   ],
   "source": [
    "inspector = models['fold_1'].make_inspector()\n",
    "\n",
    "print(f\"Available variable importances:\")\n",
    "for importance in inspector.variable_importances().keys():\n",
    "    print(\"\\t\", importance)"
   ]
  },
  {
   "cell_type": "code",
   "execution_count": 22,
   "id": "4beef15f",
   "metadata": {
    "execution": {
     "iopub.execute_input": "2023-06-23T01:08:25.792298Z",
     "iopub.status.busy": "2023-06-23T01:08:25.791854Z",
     "iopub.status.idle": "2023-06-23T01:08:25.801386Z",
     "shell.execute_reply": "2023-06-23T01:08:25.800539Z"
    },
    "papermill": {
     "duration": 0.037549,
     "end_time": "2023-06-23T01:08:25.803759",
     "exception": false,
     "start_time": "2023-06-23T01:08:25.766210",
     "status": "completed"
    },
    "tags": []
   },
   "outputs": [
    {
     "data": {
      "text/plain": [
       "[(\"DU\" (1; #32), 47.0),\n",
       " (\"DI\" (1; #29), 25.0),\n",
       " (\"DA\" (1; #25), 21.0),\n",
       " (\"AB\" (1; #0), 19.0),\n",
       " (\"FL\" (1; #47), 19.0),\n",
       " (\"GL\" (1; #55), 18.0),\n",
       " (\"BQ\" (1; #12), 16.0),\n",
       " (\"CR\" (1; #21), 16.0),\n",
       " (\"FD_\" (1; #44), 16.0),\n",
       " (\"CD_\" (1; #17), 14.0),\n",
       " (\"AF\" (1; #1), 13.0),\n",
       " (\"CC\" (1; #16), 8.0),\n",
       " (\"DF\" (1; #27), 7.0),\n",
       " (\"AR\" (1; #4), 6.0),\n",
       " (\"DH\" (1; #28), 6.0),\n",
       " (\"EB\" (1; #35), 6.0),\n",
       " (\"FI\" (1; #46), 6.0),\n",
       " (\"BC\" (1; #8), 5.0),\n",
       " (\"EH\" (1; #38), 5.0),\n",
       " (\"FR\" (1; #48), 5.0),\n",
       " (\"DE\" (1; #26), 4.0),\n",
       " (\"DL\" (1; #30), 4.0),\n",
       " (\"EE\" (1; #36), 4.0),\n",
       " (\"FE\" (1; #45), 4.0),\n",
       " (\"EU\" (1; #42), 3.0),\n",
       " (\"BN\" (1; #10), 2.0),\n",
       " (\"EL\" (1; #40), 1.0)]"
      ]
     },
     "execution_count": 22,
     "metadata": {},
     "output_type": "execute_result"
    }
   ],
   "source": [
    "# Each line is: (feature name, (index of the feature), importance score)\n",
    "inspector.variable_importances()[\"NUM_AS_ROOT\"]"
   ]
  },
  {
   "cell_type": "markdown",
   "id": "646c9a07",
   "metadata": {
    "papermill": {
     "duration": 0.023307,
     "end_time": "2023-06-23T01:08:25.851302",
     "exception": false,
     "start_time": "2023-06-23T01:08:25.827995",
     "status": "completed"
    },
    "tags": []
   },
   "source": [
    "## Multilayer perceptron"
   ]
  },
  {
   "cell_type": "code",
   "execution_count": 23,
   "id": "4b85819c",
   "metadata": {
    "execution": {
     "iopub.execute_input": "2023-06-23T01:08:25.901412Z",
     "iopub.status.busy": "2023-06-23T01:08:25.901013Z",
     "iopub.status.idle": "2023-06-23T01:08:29.849335Z",
     "shell.execute_reply": "2023-06-23T01:08:29.847802Z"
    },
    "papermill": {
     "duration": 3.9775,
     "end_time": "2023-06-23T01:08:29.852182",
     "exception": false,
     "start_time": "2023-06-23T01:08:25.874682",
     "status": "completed"
    },
    "tags": []
   },
   "outputs": [
    {
     "name": "stdout",
     "output_type": "stream",
     "text": [
      "Epoch 1/200\n",
      "1/1 [==============================] - 2s 2s/step - loss: 0.9252 - binary_accuracy: 0.4870 - val_loss: 0.7824 - val_binary_accuracy: 0.8387\n",
      "Epoch 2/200\n",
      "1/1 [==============================] - 0s 53ms/step - loss: 0.7835 - binary_accuracy: 0.5714 - val_loss: 0.5419 - val_binary_accuracy: 0.8129\n",
      "Epoch 3/200\n",
      "1/1 [==============================] - 0s 57ms/step - loss: 0.6845 - binary_accuracy: 0.6277 - val_loss: 0.5854 - val_binary_accuracy: 0.7742\n",
      "Epoch 4/200\n",
      "1/1 [==============================] - 0s 50ms/step - loss: 0.6509 - binary_accuracy: 0.6753 - val_loss: 0.8018 - val_binary_accuracy: 0.6194\n",
      "Epoch 5/200\n",
      "1/1 [==============================] - 0s 51ms/step - loss: 0.5739 - binary_accuracy: 0.7229 - val_loss: 1.1099 - val_binary_accuracy: 0.4645\n",
      "Epoch 6/200\n",
      "1/1 [==============================] - 0s 51ms/step - loss: 0.5315 - binary_accuracy: 0.7381 - val_loss: 1.4085 - val_binary_accuracy: 0.2839\n",
      "Epoch 7/200\n",
      "1/1 [==============================] - 0s 66ms/step - loss: 0.4963 - binary_accuracy: 0.7835 - val_loss: 1.7230 - val_binary_accuracy: 0.1806\n"
     ]
    },
    {
     "data": {
      "text/plain": [
       "<Axes: title={'center': 'Accuracy'}>"
      ]
     },
     "execution_count": 23,
     "metadata": {},
     "output_type": "execute_result"
    },
    {
     "data": {
      "image/png": "[encoded data removed]",
      "text/plain": [
       "<Figure size 640x480 with 1 Axes>"
      ]
     },
     "metadata": {},
     "output_type": "display_data"
    },
    {
     "data": {
      "image/png": "[encoded data removed]",
      "text/plain": [
       "<Figure size 640x480 with 1 Axes>"
      ]
     },
     "metadata": {},
     "output_type": "display_data"
    }
   ],
   "source": [
    "test_df = pd.read_csv('/kaggle/input/icr-identify-age-related-conditions/test.csv')\n",
    "\n",
    "# Select only feature columns for training.\n",
    "# Maybe I should convert X and y to specific data type for tensorflow.\n",
    "X = dataset_df[NUM_FEATURE_COLUMNS]\n",
    "y = dataset_df[label]\n",
    "\n",
    "# It is important to treat nulls.\n",
    "ISNA_COLUMNS_TRAIN = dataset_df.columns[dataset_df.isna().any()].to_list()\n",
    "X = X.drop(columns=ISNA_COLUMNS_TRAIN)\n",
    "\n",
    "# In case test data have nulls, drop the columns from training data.\n",
    "ISNA_COLUMNS_TEST = test_df.columns[test_df.isna().any()].to_list()\n",
    "X = X.drop(columns=ISNA_COLUMNS_TEST)\n",
    "\n",
    "# I should check what stratify do.\n",
    "X_train, X_valid, y_train, y_valid = train_test_split(X, y, stratify=y, train_size=0.75)\n",
    "\n",
    "mlp = tf.keras.Sequential([\n",
    "    layers.BatchNormalization(input_shape=[X.shape[1]]),\n",
    "    layers.Dense(256, activation='relu'),\n",
    "    layers.BatchNormalization(),\n",
    "    layers.Dropout(0.3),\n",
    "    layers.Dense(256, activation='relu'),\n",
    "    layers.BatchNormalization(),\n",
    "    layers.Dropout(0.3),\n",
    "    layers.Dense(1, activation='sigmoid')\n",
    "])\n",
    "\n",
    "# I need to review metrics later.\n",
    "mlp.compile(\n",
    "    optimizer='adam',\n",
    "    loss='binary_crossentropy',\n",
    "    metrics=['binary_accuracy']\n",
    ")\n",
    "\n",
    "early_stopping = tf.keras.callbacks.EarlyStopping(\n",
    "    patience=5,\n",
    "    min_delta=0.001,\n",
    "    restore_best_weights=True,\n",
    ")\n",
    "\n",
    "# I need to review batch_size and epochs depending on the size of training data.\n",
    "# The model needs to train with small batch size\n",
    "history = mlp.fit(\n",
    "    X_train, y_train, validation_data=(X_valid, y_valid),\n",
    "    batch_size=512,\n",
    "    epochs=200,\n",
    "    callbacks=[early_stopping],\n",
    ")\n",
    "\n",
    "history_df = pd.DataFrame(history.history)\n",
    "history_df.loc[:, ['loss', 'val_loss']].plot(title=\"Cross-entropy\")\n",
    "history_df.loc[:, ['binary_accuracy', 'val_binary_accuracy']].plot(title=\"Accuracy\")"
   ]
  },
  {
   "cell_type": "markdown",
   "id": "db277652",
   "metadata": {
    "papermill": {
     "duration": 0.02863,
     "end_time": "2023-06-23T01:08:29.908176",
     "exception": false,
     "start_time": "2023-06-23T01:08:29.879546",
     "status": "completed"
    },
    "tags": []
   },
   "source": [
    "## Submission"
   ]
  },
  {
   "cell_type": "code",
   "execution_count": 24,
   "id": "092b26b1",
   "metadata": {
    "execution": {
     "iopub.execute_input": "2023-06-23T01:08:29.963509Z",
     "iopub.status.busy": "2023-06-23T01:08:29.963055Z",
     "iopub.status.idle": "2023-06-23T01:08:30.191130Z",
     "shell.execute_reply": "2023-06-23T01:08:30.190278Z"
    },
    "papermill": {
     "duration": 0.258523,
     "end_time": "2023-06-23T01:08:30.193472",
     "exception": false,
     "start_time": "2023-06-23T01:08:29.934949",
     "status": "completed"
    },
    "tags": []
   },
   "outputs": [
    {
     "name": "stdout",
     "output_type": "stream",
     "text": [
      "Warning: Some of the feature names have been changed automatically to be compatible with SavedModels because fix_feature_names=True.\n",
      "1/1 [==============================] - 0s 140ms/step\n",
      "[[0.65333357, 0.34666643], [0.65333357, 0.34666643], [0.65333357, 0.34666643], [0.65333357, 0.34666643], [0.65333357, 0.34666643]]\n"
     ]
    }
   ],
   "source": [
    "# test_df = pd.read_csv('/kaggle/input/icr-identify-age-related-conditions/test.csv')\n",
    "test_ds_pd = test_df\n",
    "test_df_columns = test_ds_pd.columns.to_list()\n",
    "TEST_FEATURE_COLUMNS = [i for i in FEATURE_COLUMNS if i in test_df_columns and i != \"Class\"]\n",
    "test_ds_pd = test_ds_pd[TEST_FEATURE_COLUMNS]\n",
    "test_ds = tfdf.keras.pd_dataframe_to_tf_dataset(test_ds_pd)\n",
    "predictions = models['fold_1'].predict(test_ds)\n",
    "n_predictions = [[round(abs(i-1), 8), i] for i in predictions.ravel()]\n",
    "print(n_predictions)"
   ]
  },
  {
   "cell_type": "code",
   "execution_count": 25,
   "id": "f4105678",
   "metadata": {
    "execution": {
     "iopub.execute_input": "2023-06-23T01:08:30.250085Z",
     "iopub.status.busy": "2023-06-23T01:08:30.249233Z",
     "iopub.status.idle": "2023-06-23T01:08:30.268516Z",
     "shell.execute_reply": "2023-06-23T01:08:30.267198Z"
    },
    "papermill": {
     "duration": 0.051349,
     "end_time": "2023-06-23T01:08:30.272029",
     "exception": false,
     "start_time": "2023-06-23T01:08:30.220680",
     "status": "completed"
    },
    "tags": []
   },
   "outputs": [],
   "source": [
    "sample_submission = pd.read_csv(\"/kaggle/input/icr-identify-age-related-conditions/sample_submission.csv\")\n",
    "sample_submission[['class_0', 'class_1']] = n_predictions\n",
    "sample_submission.to_csv('/kaggle/working/submission.csv', index=False)"
   ]
  },
  {
   "cell_type": "markdown",
   "id": "6fcd6172",
   "metadata": {
    "papermill": {
     "duration": 0.026485,
     "end_time": "2023-06-23T01:08:30.326497",
     "exception": false,
     "start_time": "2023-06-23T01:08:30.300012",
     "status": "completed"
    },
    "tags": []
   },
   "source": [
    "## Submission - Multilayer perceptron"
   ]
  },
  {
   "cell_type": "code",
   "execution_count": 26,
   "id": "d3cbf164",
   "metadata": {
    "execution": {
     "iopub.execute_input": "2023-06-23T01:08:30.384279Z",
     "iopub.status.busy": "2023-06-23T01:08:30.383640Z",
     "iopub.status.idle": "2023-06-23T01:08:30.623621Z",
     "shell.execute_reply": "2023-06-23T01:08:30.622285Z"
    },
    "papermill": {
     "duration": 0.272692,
     "end_time": "2023-06-23T01:08:30.625929",
     "exception": false,
     "start_time": "2023-06-23T01:08:30.353237",
     "status": "completed"
    },
    "tags": []
   },
   "outputs": [
    {
     "name": "stdout",
     "output_type": "stream",
     "text": [
      "1/1 [==============================] - 0s 160ms/step\n",
      "[[0.51664361, 0.4833564], [0.51664361, 0.4833564], [0.51664361, 0.4833564], [0.51664361, 0.4833564], [0.51664361, 0.4833564]]\n"
     ]
    }
   ],
   "source": [
    "mlp_test_ds_pd = test_df\n",
    "MLP_TEST_FEATURE_COLUMNS = [i for i in NUM_FEATURE_COLUMNS if i not in ISNA_COLUMNS_TRAIN and i not in ISNA_COLUMNS_TEST]\n",
    "mlp_test_ds_pd = mlp_test_ds_pd[MLP_TEST_FEATURE_COLUMNS]\n",
    "mlp_predictions = mlp.predict(mlp_test_ds_pd)\n",
    "mlp_n_predictions = [[round(abs(i-1), 8), i] for i in mlp_predictions.ravel()]\n",
    "print(mlp_n_predictions)"
   ]
  },
  {
   "cell_type": "code",
   "execution_count": 27,
   "id": "c3079408",
   "metadata": {
    "execution": {
     "iopub.execute_input": "2023-06-23T01:08:30.682810Z",
     "iopub.status.busy": "2023-06-23T01:08:30.682364Z",
     "iopub.status.idle": "2023-06-23T01:08:30.693005Z",
     "shell.execute_reply": "2023-06-23T01:08:30.691889Z"
    },
    "papermill": {
     "duration": 0.041755,
     "end_time": "2023-06-23T01:08:30.695573",
     "exception": false,
     "start_time": "2023-06-23T01:08:30.653818",
     "status": "completed"
    },
    "tags": []
   },
   "outputs": [],
   "source": [
    "mlp_submission = pd.read_csv(\"/kaggle/input/icr-identify-age-related-conditions/sample_submission.csv\")\n",
    "mlp_submission[['class_0', 'class_1']] = mlp_n_predictions\n",
    "mlp_submission.to_csv('/kaggle/working/submission.csv', index=False)"
   ]
  }
 ],
 "metadata": {
  "kernelspec": {
   "display_name": "Python 3",
   "language": "python",
   "name": "python3"
  },
  "language_info": {
   "codemirror_mode": {
    "name": "ipython",
    "version": 3
   },
   "file_extension": ".py",
   "mimetype": "text/x-python",
   "name": "python",
   "nbconvert_exporter": "python",
   "pygments_lexer": "ipython3",
   "version": "3.10.10"
  },
  "papermill": {
   "default_parameters": {},
   "duration": 89.858013,
   "end_time": "2023-06-23T01:08:33.900695",
   "environment_variables": {},
   "exception": null,
   "input_path": "__notebook__.ipynb",
   "output_path": "__notebook__.ipynb",
   "parameters": {},
   "start_time": "2023-06-23T01:07:04.042682",
   "version": "2.4.0"
  }
 },
 "nbformat": 4,
 "nbformat_minor": 5
}
