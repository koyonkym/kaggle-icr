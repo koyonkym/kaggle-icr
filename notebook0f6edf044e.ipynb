{
 "cells": [
  {
   "cell_type": "code",
   "execution_count": 1,
   "id": "6774f51c",
   "metadata": {
    "_cell_guid": "b1076dfc-b9ad-4769-8c92-a6c4dae69d19",
    "_uuid": "8f2839f25d086af736a60e9eeb907d3b93b6e0e5",
    "execution": {
     "iopub.execute_input": "2023-06-21T16:33:46.126924Z",
     "iopub.status.busy": "2023-06-21T16:33:46.126459Z",
     "iopub.status.idle": "2023-06-21T16:33:46.140681Z",
     "shell.execute_reply": "2023-06-21T16:33:46.139826Z"
    },
    "papermill": {
     "duration": 0.03258,
     "end_time": "2023-06-21T16:33:46.143297",
     "exception": false,
     "start_time": "2023-06-21T16:33:46.110717",
     "status": "completed"
    },
    "tags": []
   },
   "outputs": [
    {
     "name": "stdout",
     "output_type": "stream",
     "text": [
      "/kaggle/input/icr-identify-age-related-conditions/sample_submission.csv\n",
      "/kaggle/input/icr-identify-age-related-conditions/greeks.csv\n",
      "/kaggle/input/icr-identify-age-related-conditions/train.csv\n",
      "/kaggle/input/icr-identify-age-related-conditions/test.csv\n"
     ]
    }
   ],
   "source": [
    "# This Python 3 environment comes with many helpful analytics libraries installed\n",
    "# It is defined by the kaggle/python Docker image: https://github.com/kaggle/docker-python\n",
    "# For example, here's several helpful packages to load\n",
    "\n",
    "import numpy as np # linear algebra\n",
    "import pandas as pd # data processing, CSV file I/O (e.g. pd.read_csv)\n",
    "\n",
    "# Input data files are available in the read-only \"../input/\" directory\n",
    "# For example, running this (by clicking run or pressing Shift+Enter) will list all files under the input directory\n",
    "\n",
    "import os\n",
    "for dirname, _, filenames in os.walk('/kaggle/input'):\n",
    "    for filename in filenames:\n",
    "        print(os.path.join(dirname, filename))\n",
    "\n",
    "# You can write up to 20GB to the current directory (/kaggle/working/) that gets preserved as output when you create a version using \"Save & Run All\" \n",
    "# You can also write temporary files to /kaggle/temp/, but they won't be saved outside of the current session"
   ]
  },
  {
   "cell_type": "code",
   "execution_count": 2,
   "id": "ea582f8a",
   "metadata": {
    "execution": {
     "iopub.execute_input": "2023-06-21T16:33:46.168861Z",
     "iopub.status.busy": "2023-06-21T16:33:46.168368Z",
     "iopub.status.idle": "2023-06-21T16:33:56.777255Z",
     "shell.execute_reply": "2023-06-21T16:33:56.776087Z"
    },
    "papermill": {
     "duration": 10.624594,
     "end_time": "2023-06-21T16:33:56.780028",
     "exception": false,
     "start_time": "2023-06-21T16:33:46.155434",
     "status": "completed"
    },
    "tags": []
   },
   "outputs": [
    {
     "name": "stderr",
     "output_type": "stream",
     "text": [
      "/opt/conda/lib/python3.10/site-packages/tensorflow_io/python/ops/__init__.py:98: UserWarning: unable to load libtensorflow_io_plugins.so: unable to open file: libtensorflow_io_plugins.so, from paths: ['/opt/conda/lib/python3.10/site-packages/tensorflow_io/python/ops/libtensorflow_io_plugins.so']\n",
      "caused by: ['/opt/conda/lib/python3.10/site-packages/tensorflow_io/python/ops/libtensorflow_io_plugins.so: undefined symbol: _ZN3tsl6StatusC1EN10tensorflow5error4CodeESt17basic_string_viewIcSt11char_traitsIcEENS_14SourceLocationE']\n",
      "  warnings.warn(f\"unable to load libtensorflow_io_plugins.so: {e}\")\n",
      "/opt/conda/lib/python3.10/site-packages/tensorflow_io/python/ops/__init__.py:104: UserWarning: file system plugins are not loaded: unable to open file: libtensorflow_io.so, from paths: ['/opt/conda/lib/python3.10/site-packages/tensorflow_io/python/ops/libtensorflow_io.so']\n",
      "caused by: ['/opt/conda/lib/python3.10/site-packages/tensorflow_io/python/ops/libtensorflow_io.so: undefined symbol: _ZTVN10tensorflow13GcsFileSystemE']\n",
      "  warnings.warn(f\"file system plugins are not loaded: {e}\")\n"
     ]
    }
   ],
   "source": [
    "import tensorflow as tf\n",
    "import tensorflow_decision_forests as tfdf\n",
    "import pandas as pd\n",
    "import numpy as np\n",
    "import seaborn as sns\n",
    "import matplotlib.pyplot as plt\n",
    "\n",
    "from sklearn.model_selection import KFold\n",
    "\n",
    "# For deep neural network\n",
    "from sklearn.model_selection import train_test_split\n",
    "from tensorflow.keras import layers"
   ]
  },
  {
   "cell_type": "code",
   "execution_count": 3,
   "id": "b19bb4ea",
   "metadata": {
    "execution": {
     "iopub.execute_input": "2023-06-21T16:33:56.807527Z",
     "iopub.status.busy": "2023-06-21T16:33:56.805609Z",
     "iopub.status.idle": "2023-06-21T16:33:56.813279Z",
     "shell.execute_reply": "2023-06-21T16:33:56.811816Z"
    },
    "papermill": {
     "duration": 0.023203,
     "end_time": "2023-06-21T16:33:56.815464",
     "exception": false,
     "start_time": "2023-06-21T16:33:56.792261",
     "status": "completed"
    },
    "tags": []
   },
   "outputs": [
    {
     "name": "stdout",
     "output_type": "stream",
     "text": [
      "Tensorflow v2.12.0\n",
      "Tensorflow Decision Forests v1.3.0\n"
     ]
    }
   ],
   "source": [
    "print(\"Tensorflow v\" + tf.__version__)\n",
    "print(\"Tensorflow Decision Forests v\" + tfdf.__version__)"
   ]
  },
  {
   "cell_type": "markdown",
   "id": "19f83afc",
   "metadata": {
    "papermill": {
     "duration": 0.011679,
     "end_time": "2023-06-21T16:33:56.839136",
     "exception": false,
     "start_time": "2023-06-21T16:33:56.827457",
     "status": "completed"
    },
    "tags": []
   },
   "source": [
    "## Load the Dataset"
   ]
  },
  {
   "cell_type": "code",
   "execution_count": 4,
   "id": "3377c1a4",
   "metadata": {
    "execution": {
     "iopub.execute_input": "2023-06-21T16:33:56.865485Z",
     "iopub.status.busy": "2023-06-21T16:33:56.864828Z",
     "iopub.status.idle": "2023-06-21T16:33:56.903945Z",
     "shell.execute_reply": "2023-06-21T16:33:56.902429Z"
    },
    "papermill": {
     "duration": 0.055106,
     "end_time": "2023-06-21T16:33:56.906425",
     "exception": false,
     "start_time": "2023-06-21T16:33:56.851319",
     "status": "completed"
    },
    "tags": []
   },
   "outputs": [
    {
     "name": "stdout",
     "output_type": "stream",
     "text": [
      "Full train dataset shape is (617, 58)\n"
     ]
    }
   ],
   "source": [
    "dataset_df = pd.read_csv('/kaggle/input/icr-identify-age-related-conditions/train.csv')\n",
    "print(\"Full train dataset shape is {}\".format(dataset_df.shape))"
   ]
  },
  {
   "cell_type": "code",
   "execution_count": 5,
   "id": "3dc6d8df",
   "metadata": {
    "execution": {
     "iopub.execute_input": "2023-06-21T16:33:56.933577Z",
     "iopub.status.busy": "2023-06-21T16:33:56.932910Z",
     "iopub.status.idle": "2023-06-21T16:33:56.982832Z",
     "shell.execute_reply": "2023-06-21T16:33:56.981642Z"
    },
    "papermill": {
     "duration": 0.066941,
     "end_time": "2023-06-21T16:33:56.985781",
     "exception": false,
     "start_time": "2023-06-21T16:33:56.918840",
     "status": "completed"
    },
    "tags": []
   },
   "outputs": [
    {
     "data": {
      "text/html": [
       "<div>\n",
       "<style scoped>\n",
       "    .dataframe tbody tr th:only-of-type {\n",
       "        vertical-align: middle;\n",
       "    }\n",
       "\n",
       "    .dataframe tbody tr th {\n",
       "        vertical-align: top;\n",
       "    }\n",
       "\n",
       "    .dataframe thead th {\n",
       "        text-align: right;\n",
       "    }\n",
       "</style>\n",
       "<table border=\"1\" class=\"dataframe\">\n",
       "  <thead>\n",
       "    <tr style=\"text-align: right;\">\n",
       "      <th></th>\n",
       "      <th>Id</th>\n",
       "      <th>AB</th>\n",
       "      <th>AF</th>\n",
       "      <th>AH</th>\n",
       "      <th>AM</th>\n",
       "      <th>AR</th>\n",
       "      <th>AX</th>\n",
       "      <th>AY</th>\n",
       "      <th>AZ</th>\n",
       "      <th>BC</th>\n",
       "      <th>...</th>\n",
       "      <th>FL</th>\n",
       "      <th>FR</th>\n",
       "      <th>FS</th>\n",
       "      <th>GB</th>\n",
       "      <th>GE</th>\n",
       "      <th>GF</th>\n",
       "      <th>GH</th>\n",
       "      <th>GI</th>\n",
       "      <th>GL</th>\n",
       "      <th>Class</th>\n",
       "    </tr>\n",
       "  </thead>\n",
       "  <tbody>\n",
       "    <tr>\n",
       "      <th>0</th>\n",
       "      <td>000ff2bfdfe9</td>\n",
       "      <td>0.209377</td>\n",
       "      <td>3109.03329</td>\n",
       "      <td>85.200147</td>\n",
       "      <td>22.394407</td>\n",
       "      <td>8.138688</td>\n",
       "      <td>0.699861</td>\n",
       "      <td>0.025578</td>\n",
       "      <td>9.812214</td>\n",
       "      <td>5.555634</td>\n",
       "      <td>...</td>\n",
       "      <td>7.298162</td>\n",
       "      <td>1.73855</td>\n",
       "      <td>0.094822</td>\n",
       "      <td>11.339138</td>\n",
       "      <td>72.611063</td>\n",
       "      <td>2003.810319</td>\n",
       "      <td>22.136229</td>\n",
       "      <td>69.834944</td>\n",
       "      <td>0.120343</td>\n",
       "      <td>1</td>\n",
       "    </tr>\n",
       "    <tr>\n",
       "      <th>1</th>\n",
       "      <td>007255e47698</td>\n",
       "      <td>0.145282</td>\n",
       "      <td>978.76416</td>\n",
       "      <td>85.200147</td>\n",
       "      <td>36.968889</td>\n",
       "      <td>8.138688</td>\n",
       "      <td>3.632190</td>\n",
       "      <td>0.025578</td>\n",
       "      <td>13.517790</td>\n",
       "      <td>1.229900</td>\n",
       "      <td>...</td>\n",
       "      <td>0.173229</td>\n",
       "      <td>0.49706</td>\n",
       "      <td>0.568932</td>\n",
       "      <td>9.292698</td>\n",
       "      <td>72.611063</td>\n",
       "      <td>27981.562750</td>\n",
       "      <td>29.135430</td>\n",
       "      <td>32.131996</td>\n",
       "      <td>21.978000</td>\n",
       "      <td>0</td>\n",
       "    </tr>\n",
       "    <tr>\n",
       "      <th>2</th>\n",
       "      <td>013f2bd269f5</td>\n",
       "      <td>0.470030</td>\n",
       "      <td>2635.10654</td>\n",
       "      <td>85.200147</td>\n",
       "      <td>32.360553</td>\n",
       "      <td>8.138688</td>\n",
       "      <td>6.732840</td>\n",
       "      <td>0.025578</td>\n",
       "      <td>12.824570</td>\n",
       "      <td>1.229900</td>\n",
       "      <td>...</td>\n",
       "      <td>7.709560</td>\n",
       "      <td>0.97556</td>\n",
       "      <td>1.198821</td>\n",
       "      <td>37.077772</td>\n",
       "      <td>88.609437</td>\n",
       "      <td>13676.957810</td>\n",
       "      <td>28.022851</td>\n",
       "      <td>35.192676</td>\n",
       "      <td>0.196941</td>\n",
       "      <td>0</td>\n",
       "    </tr>\n",
       "    <tr>\n",
       "      <th>3</th>\n",
       "      <td>043ac50845d5</td>\n",
       "      <td>0.252107</td>\n",
       "      <td>3819.65177</td>\n",
       "      <td>120.201618</td>\n",
       "      <td>77.112203</td>\n",
       "      <td>8.138688</td>\n",
       "      <td>3.685344</td>\n",
       "      <td>0.025578</td>\n",
       "      <td>11.053708</td>\n",
       "      <td>1.229900</td>\n",
       "      <td>...</td>\n",
       "      <td>6.122162</td>\n",
       "      <td>0.49706</td>\n",
       "      <td>0.284466</td>\n",
       "      <td>18.529584</td>\n",
       "      <td>82.416803</td>\n",
       "      <td>2094.262452</td>\n",
       "      <td>39.948656</td>\n",
       "      <td>90.493248</td>\n",
       "      <td>0.155829</td>\n",
       "      <td>0</td>\n",
       "    </tr>\n",
       "    <tr>\n",
       "      <th>4</th>\n",
       "      <td>044fb8a146ec</td>\n",
       "      <td>0.380297</td>\n",
       "      <td>3733.04844</td>\n",
       "      <td>85.200147</td>\n",
       "      <td>14.103738</td>\n",
       "      <td>8.138688</td>\n",
       "      <td>3.942255</td>\n",
       "      <td>0.054810</td>\n",
       "      <td>3.396778</td>\n",
       "      <td>102.151980</td>\n",
       "      <td>...</td>\n",
       "      <td>8.153058</td>\n",
       "      <td>48.50134</td>\n",
       "      <td>0.121914</td>\n",
       "      <td>16.408728</td>\n",
       "      <td>146.109943</td>\n",
       "      <td>8524.370502</td>\n",
       "      <td>45.381316</td>\n",
       "      <td>36.262628</td>\n",
       "      <td>0.096614</td>\n",
       "      <td>1</td>\n",
       "    </tr>\n",
       "  </tbody>\n",
       "</table>\n",
       "<p>5 rows × 58 columns</p>\n",
       "</div>"
      ],
      "text/plain": [
       "             Id        AB          AF          AH         AM        AR  \\\n",
       "0  000ff2bfdfe9  0.209377  3109.03329   85.200147  22.394407  8.138688   \n",
       "1  007255e47698  0.145282   978.76416   85.200147  36.968889  8.138688   \n",
       "2  013f2bd269f5  0.470030  2635.10654   85.200147  32.360553  8.138688   \n",
       "3  043ac50845d5  0.252107  3819.65177  120.201618  77.112203  8.138688   \n",
       "4  044fb8a146ec  0.380297  3733.04844   85.200147  14.103738  8.138688   \n",
       "\n",
       "         AX        AY         AZ          BC  ...        FL        FR  \\\n",
       "0  0.699861  0.025578   9.812214    5.555634  ...  7.298162   1.73855   \n",
       "1  3.632190  0.025578  13.517790    1.229900  ...  0.173229   0.49706   \n",
       "2  6.732840  0.025578  12.824570    1.229900  ...  7.709560   0.97556   \n",
       "3  3.685344  0.025578  11.053708    1.229900  ...  6.122162   0.49706   \n",
       "4  3.942255  0.054810   3.396778  102.151980  ...  8.153058  48.50134   \n",
       "\n",
       "         FS         GB          GE            GF         GH         GI  \\\n",
       "0  0.094822  11.339138   72.611063   2003.810319  22.136229  69.834944   \n",
       "1  0.568932   9.292698   72.611063  27981.562750  29.135430  32.131996   \n",
       "2  1.198821  37.077772   88.609437  13676.957810  28.022851  35.192676   \n",
       "3  0.284466  18.529584   82.416803   2094.262452  39.948656  90.493248   \n",
       "4  0.121914  16.408728  146.109943   8524.370502  45.381316  36.262628   \n",
       "\n",
       "          GL  Class  \n",
       "0   0.120343      1  \n",
       "1  21.978000      0  \n",
       "2   0.196941      0  \n",
       "3   0.155829      0  \n",
       "4   0.096614      1  \n",
       "\n",
       "[5 rows x 58 columns]"
      ]
     },
     "execution_count": 5,
     "metadata": {},
     "output_type": "execute_result"
    }
   ],
   "source": [
    "dataset_df.head()"
   ]
  },
  {
   "cell_type": "markdown",
   "id": "e0a0425e",
   "metadata": {
    "papermill": {
     "duration": 0.012465,
     "end_time": "2023-06-21T16:33:57.011319",
     "exception": false,
     "start_time": "2023-06-21T16:33:56.998854",
     "status": "completed"
    },
    "tags": []
   },
   "source": [
    "## Quick basic dataset exploration"
   ]
  },
  {
   "cell_type": "code",
   "execution_count": 6,
   "id": "738a88c4",
   "metadata": {
    "execution": {
     "iopub.execute_input": "2023-06-21T16:33:57.039600Z",
     "iopub.status.busy": "2023-06-21T16:33:57.039163Z",
     "iopub.status.idle": "2023-06-21T16:33:57.210535Z",
     "shell.execute_reply": "2023-06-21T16:33:57.209394Z"
    },
    "papermill": {
     "duration": 0.188906,
     "end_time": "2023-06-21T16:33:57.212934",
     "exception": false,
     "start_time": "2023-06-21T16:33:57.024028",
     "status": "completed"
    },
    "tags": []
   },
   "outputs": [
    {
     "data": {
      "text/html": [
       "<div>\n",
       "<style scoped>\n",
       "    .dataframe tbody tr th:only-of-type {\n",
       "        vertical-align: middle;\n",
       "    }\n",
       "\n",
       "    .dataframe tbody tr th {\n",
       "        vertical-align: top;\n",
       "    }\n",
       "\n",
       "    .dataframe thead th {\n",
       "        text-align: right;\n",
       "    }\n",
       "</style>\n",
       "<table border=\"1\" class=\"dataframe\">\n",
       "  <thead>\n",
       "    <tr style=\"text-align: right;\">\n",
       "      <th></th>\n",
       "      <th>AB</th>\n",
       "      <th>AF</th>\n",
       "      <th>AH</th>\n",
       "      <th>AM</th>\n",
       "      <th>AR</th>\n",
       "      <th>AX</th>\n",
       "      <th>AY</th>\n",
       "      <th>AZ</th>\n",
       "      <th>BC</th>\n",
       "      <th>BD</th>\n",
       "      <th>...</th>\n",
       "      <th>FL</th>\n",
       "      <th>FR</th>\n",
       "      <th>FS</th>\n",
       "      <th>GB</th>\n",
       "      <th>GE</th>\n",
       "      <th>GF</th>\n",
       "      <th>GH</th>\n",
       "      <th>GI</th>\n",
       "      <th>GL</th>\n",
       "      <th>Class</th>\n",
       "    </tr>\n",
       "  </thead>\n",
       "  <tbody>\n",
       "    <tr>\n",
       "      <th>count</th>\n",
       "      <td>617.000000</td>\n",
       "      <td>617.000000</td>\n",
       "      <td>617.000000</td>\n",
       "      <td>617.000000</td>\n",
       "      <td>617.000000</td>\n",
       "      <td>617.000000</td>\n",
       "      <td>617.000000</td>\n",
       "      <td>617.000000</td>\n",
       "      <td>617.000000</td>\n",
       "      <td>617.000000</td>\n",
       "      <td>...</td>\n",
       "      <td>616.000000</td>\n",
       "      <td>617.000000</td>\n",
       "      <td>615.000000</td>\n",
       "      <td>617.000000</td>\n",
       "      <td>617.000000</td>\n",
       "      <td>617.000000</td>\n",
       "      <td>617.000000</td>\n",
       "      <td>617.000000</td>\n",
       "      <td>616.000000</td>\n",
       "      <td>617.000000</td>\n",
       "    </tr>\n",
       "    <tr>\n",
       "      <th>mean</th>\n",
       "      <td>0.477149</td>\n",
       "      <td>3502.013221</td>\n",
       "      <td>118.624513</td>\n",
       "      <td>38.968552</td>\n",
       "      <td>10.128242</td>\n",
       "      <td>5.545576</td>\n",
       "      <td>0.060320</td>\n",
       "      <td>10.566447</td>\n",
       "      <td>8.053012</td>\n",
       "      <td>5350.388655</td>\n",
       "      <td>...</td>\n",
       "      <td>5.433199</td>\n",
       "      <td>3.533905</td>\n",
       "      <td>0.421501</td>\n",
       "      <td>20.724856</td>\n",
       "      <td>131.714987</td>\n",
       "      <td>14679.595398</td>\n",
       "      <td>31.489716</td>\n",
       "      <td>50.584437</td>\n",
       "      <td>8.530961</td>\n",
       "      <td>0.175041</td>\n",
       "    </tr>\n",
       "    <tr>\n",
       "      <th>std</th>\n",
       "      <td>0.468388</td>\n",
       "      <td>2300.322717</td>\n",
       "      <td>127.838950</td>\n",
       "      <td>69.728226</td>\n",
       "      <td>10.518877</td>\n",
       "      <td>2.551696</td>\n",
       "      <td>0.416817</td>\n",
       "      <td>4.350645</td>\n",
       "      <td>65.166943</td>\n",
       "      <td>3021.326641</td>\n",
       "      <td>...</td>\n",
       "      <td>11.496257</td>\n",
       "      <td>50.181948</td>\n",
       "      <td>1.305365</td>\n",
       "      <td>9.991907</td>\n",
       "      <td>144.181524</td>\n",
       "      <td>19352.959387</td>\n",
       "      <td>9.864239</td>\n",
       "      <td>36.266251</td>\n",
       "      <td>10.327010</td>\n",
       "      <td>0.380310</td>\n",
       "    </tr>\n",
       "    <tr>\n",
       "      <th>min</th>\n",
       "      <td>0.081187</td>\n",
       "      <td>192.593280</td>\n",
       "      <td>85.200147</td>\n",
       "      <td>3.177522</td>\n",
       "      <td>8.138688</td>\n",
       "      <td>0.699861</td>\n",
       "      <td>0.025578</td>\n",
       "      <td>3.396778</td>\n",
       "      <td>1.229900</td>\n",
       "      <td>1693.624320</td>\n",
       "      <td>...</td>\n",
       "      <td>0.173229</td>\n",
       "      <td>0.497060</td>\n",
       "      <td>0.067730</td>\n",
       "      <td>4.102182</td>\n",
       "      <td>72.611063</td>\n",
       "      <td>13.038894</td>\n",
       "      <td>9.432735</td>\n",
       "      <td>0.897628</td>\n",
       "      <td>0.001129</td>\n",
       "      <td>0.000000</td>\n",
       "    </tr>\n",
       "    <tr>\n",
       "      <th>25%</th>\n",
       "      <td>0.252107</td>\n",
       "      <td>2197.345480</td>\n",
       "      <td>85.200147</td>\n",
       "      <td>12.270314</td>\n",
       "      <td>8.138688</td>\n",
       "      <td>4.128294</td>\n",
       "      <td>0.025578</td>\n",
       "      <td>8.129580</td>\n",
       "      <td>1.229900</td>\n",
       "      <td>4155.702870</td>\n",
       "      <td>...</td>\n",
       "      <td>0.173229</td>\n",
       "      <td>0.497060</td>\n",
       "      <td>0.067730</td>\n",
       "      <td>14.036718</td>\n",
       "      <td>72.611063</td>\n",
       "      <td>2798.992584</td>\n",
       "      <td>25.034888</td>\n",
       "      <td>23.011684</td>\n",
       "      <td>0.124392</td>\n",
       "      <td>0.000000</td>\n",
       "    </tr>\n",
       "    <tr>\n",
       "      <th>50%</th>\n",
       "      <td>0.354659</td>\n",
       "      <td>3120.318960</td>\n",
       "      <td>85.200147</td>\n",
       "      <td>20.533110</td>\n",
       "      <td>8.138688</td>\n",
       "      <td>5.031912</td>\n",
       "      <td>0.025578</td>\n",
       "      <td>10.461320</td>\n",
       "      <td>1.229900</td>\n",
       "      <td>4997.960730</td>\n",
       "      <td>...</td>\n",
       "      <td>3.028141</td>\n",
       "      <td>1.131000</td>\n",
       "      <td>0.250601</td>\n",
       "      <td>18.771436</td>\n",
       "      <td>72.611063</td>\n",
       "      <td>7838.273610</td>\n",
       "      <td>30.608946</td>\n",
       "      <td>41.007968</td>\n",
       "      <td>0.337827</td>\n",
       "      <td>0.000000</td>\n",
       "    </tr>\n",
       "    <tr>\n",
       "      <th>75%</th>\n",
       "      <td>0.559763</td>\n",
       "      <td>4361.637390</td>\n",
       "      <td>113.739540</td>\n",
       "      <td>39.139886</td>\n",
       "      <td>8.138688</td>\n",
       "      <td>6.431634</td>\n",
       "      <td>0.036845</td>\n",
       "      <td>12.969516</td>\n",
       "      <td>5.081244</td>\n",
       "      <td>6035.885700</td>\n",
       "      <td>...</td>\n",
       "      <td>6.238814</td>\n",
       "      <td>1.512060</td>\n",
       "      <td>0.535067</td>\n",
       "      <td>25.608406</td>\n",
       "      <td>127.591671</td>\n",
       "      <td>19035.709240</td>\n",
       "      <td>36.863947</td>\n",
       "      <td>67.931664</td>\n",
       "      <td>21.978000</td>\n",
       "      <td>0.000000</td>\n",
       "    </tr>\n",
       "    <tr>\n",
       "      <th>max</th>\n",
       "      <td>6.161666</td>\n",
       "      <td>28688.187660</td>\n",
       "      <td>1910.123198</td>\n",
       "      <td>630.518230</td>\n",
       "      <td>178.943634</td>\n",
       "      <td>38.270880</td>\n",
       "      <td>10.315851</td>\n",
       "      <td>38.971568</td>\n",
       "      <td>1463.693448</td>\n",
       "      <td>53060.599240</td>\n",
       "      <td>...</td>\n",
       "      <td>137.932739</td>\n",
       "      <td>1244.227020</td>\n",
       "      <td>31.365763</td>\n",
       "      <td>135.781294</td>\n",
       "      <td>1497.351958</td>\n",
       "      <td>143790.071200</td>\n",
       "      <td>81.210825</td>\n",
       "      <td>191.194764</td>\n",
       "      <td>21.978000</td>\n",
       "      <td>1.000000</td>\n",
       "    </tr>\n",
       "  </tbody>\n",
       "</table>\n",
       "<p>8 rows × 56 columns</p>\n",
       "</div>"
      ],
      "text/plain": [
       "               AB            AF           AH          AM          AR  \\\n",
       "count  617.000000    617.000000   617.000000  617.000000  617.000000   \n",
       "mean     0.477149   3502.013221   118.624513   38.968552   10.128242   \n",
       "std      0.468388   2300.322717   127.838950   69.728226   10.518877   \n",
       "min      0.081187    192.593280    85.200147    3.177522    8.138688   \n",
       "25%      0.252107   2197.345480    85.200147   12.270314    8.138688   \n",
       "50%      0.354659   3120.318960    85.200147   20.533110    8.138688   \n",
       "75%      0.559763   4361.637390   113.739540   39.139886    8.138688   \n",
       "max      6.161666  28688.187660  1910.123198  630.518230  178.943634   \n",
       "\n",
       "               AX          AY          AZ           BC           BD   ...  \\\n",
       "count  617.000000  617.000000  617.000000   617.000000    617.000000  ...   \n",
       "mean     5.545576    0.060320   10.566447     8.053012   5350.388655  ...   \n",
       "std      2.551696    0.416817    4.350645    65.166943   3021.326641  ...   \n",
       "min      0.699861    0.025578    3.396778     1.229900   1693.624320  ...   \n",
       "25%      4.128294    0.025578    8.129580     1.229900   4155.702870  ...   \n",
       "50%      5.031912    0.025578   10.461320     1.229900   4997.960730  ...   \n",
       "75%      6.431634    0.036845   12.969516     5.081244   6035.885700  ...   \n",
       "max     38.270880   10.315851   38.971568  1463.693448  53060.599240  ...   \n",
       "\n",
       "               FL           FR          FS          GB           GE  \\\n",
       "count  616.000000   617.000000  615.000000  617.000000   617.000000   \n",
       "mean     5.433199     3.533905    0.421501   20.724856   131.714987   \n",
       "std     11.496257    50.181948    1.305365    9.991907   144.181524   \n",
       "min      0.173229     0.497060    0.067730    4.102182    72.611063   \n",
       "25%      0.173229     0.497060    0.067730   14.036718    72.611063   \n",
       "50%      3.028141     1.131000    0.250601   18.771436    72.611063   \n",
       "75%      6.238814     1.512060    0.535067   25.608406   127.591671   \n",
       "max    137.932739  1244.227020   31.365763  135.781294  1497.351958   \n",
       "\n",
       "                  GF          GH          GI          GL       Class  \n",
       "count     617.000000  617.000000  617.000000  616.000000  617.000000  \n",
       "mean    14679.595398   31.489716   50.584437    8.530961    0.175041  \n",
       "std     19352.959387    9.864239   36.266251   10.327010    0.380310  \n",
       "min        13.038894    9.432735    0.897628    0.001129    0.000000  \n",
       "25%      2798.992584   25.034888   23.011684    0.124392    0.000000  \n",
       "50%      7838.273610   30.608946   41.007968    0.337827    0.000000  \n",
       "75%     19035.709240   36.863947   67.931664   21.978000    0.000000  \n",
       "max    143790.071200   81.210825  191.194764   21.978000    1.000000  \n",
       "\n",
       "[8 rows x 56 columns]"
      ]
     },
     "execution_count": 6,
     "metadata": {},
     "output_type": "execute_result"
    }
   ],
   "source": [
    "dataset_df.describe()"
   ]
  },
  {
   "cell_type": "markdown",
   "id": "d321f289",
   "metadata": {
    "papermill": {
     "duration": 0.015364,
     "end_time": "2023-06-21T16:33:57.242000",
     "exception": false,
     "start_time": "2023-06-21T16:33:57.226636",
     "status": "completed"
    },
    "tags": []
   },
   "source": [
    "## Pie chart for label column: Class"
   ]
  },
  {
   "cell_type": "code",
   "execution_count": 7,
   "id": "e6a47eb0",
   "metadata": {
    "execution": {
     "iopub.execute_input": "2023-06-21T16:33:57.269936Z",
     "iopub.status.busy": "2023-06-21T16:33:57.269522Z",
     "iopub.status.idle": "2023-06-21T16:33:57.508840Z",
     "shell.execute_reply": "2023-06-21T16:33:57.507429Z"
    },
    "papermill": {
     "duration": 0.257945,
     "end_time": "2023-06-21T16:33:57.513223",
     "exception": false,
     "start_time": "2023-06-21T16:33:57.255278",
     "status": "completed"
    },
    "tags": []
   },
   "outputs": [
    {
     "data": {
      "text/plain": [
       "<Axes: ylabel='Class'>"
      ]
     },
     "execution_count": 7,
     "metadata": {},
     "output_type": "execute_result"
    },
    {
     "data": {
      "image/png": "[encoded data removed]",
      "text/plain": [
       "<Figure size 640x480 with 1 Axes>"
      ]
     },
     "metadata": {},
     "output_type": "display_data"
    }
   ],
   "source": [
    "plot_df = dataset_df.Class.value_counts()\n",
    "plot_df.plot(kind=\"pie\")"
   ]
  },
  {
   "cell_type": "markdown",
   "id": "6d20316f",
   "metadata": {
    "papermill": {
     "duration": 0.026046,
     "end_time": "2023-06-21T16:33:57.568170",
     "exception": false,
     "start_time": "2023-06-21T16:33:57.542124",
     "status": "completed"
    },
    "tags": []
   },
   "source": [
    "## Numerical data distribution"
   ]
  },
  {
   "cell_type": "code",
   "execution_count": 8,
   "id": "de3c30d0",
   "metadata": {
    "execution": {
     "iopub.execute_input": "2023-06-21T16:33:57.597420Z",
     "iopub.status.busy": "2023-06-21T16:33:57.596969Z",
     "iopub.status.idle": "2023-06-21T16:33:57.602004Z",
     "shell.execute_reply": "2023-06-21T16:33:57.601131Z"
    },
    "papermill": {
     "duration": 0.022099,
     "end_time": "2023-06-21T16:33:57.604075",
     "exception": false,
     "start_time": "2023-06-21T16:33:57.581976",
     "status": "completed"
    },
    "tags": []
   },
   "outputs": [],
   "source": [
    "# Store all the numerical column names into a list\n",
    "NUM_FEATURE_COLUMNS = [i for i in dataset_df.columns if i not in [\"Id\", \"EJ\", \"Class\"]]"
   ]
  },
  {
   "cell_type": "code",
   "execution_count": 9,
   "id": "1f8f1b3e",
   "metadata": {
    "execution": {
     "iopub.execute_input": "2023-06-21T16:33:57.633435Z",
     "iopub.status.busy": "2023-06-21T16:33:57.632689Z",
     "iopub.status.idle": "2023-06-21T16:34:27.050130Z",
     "shell.execute_reply": "2023-06-21T16:34:27.048797Z"
    },
    "papermill": {
     "duration": 29.435382,
     "end_time": "2023-06-21T16:34:27.053098",
     "exception": false,
     "start_time": "2023-06-21T16:33:57.617716",
     "status": "completed"
    },
    "tags": []
   },
   "outputs": [
    {
     "data": {
      "image/png": "[encoded data removed]",
      "text/plain": [
       "<Figure size 1500x1500 with 6 Axes>"
      ]
     },
     "metadata": {},
     "output_type": "display_data"
    }
   ],
   "source": [
    "figure, axis = plt.subplots(3, 2, figsize=(15, 15))\n",
    "plt.subplots_adjust(hspace=0.25, wspace=0.3)\n",
    "\n",
    "for i, column_name in enumerate(NUM_FEATURE_COLUMNS[:6]):\n",
    "    row = i//2\n",
    "    col = i % 2\n",
    "    bp = sns.barplot(ax=axis[row, col], x=dataset_df['Id'], y=dataset_df[column_name])\n",
    "    bp.set(xticklabels=[])\n",
    "    axis[row, col].set_title(column_name)\n",
    "plt.show()"
   ]
  },
  {
   "cell_type": "code",
   "execution_count": 10,
   "id": "bf96d96e",
   "metadata": {
    "execution": {
     "iopub.execute_input": "2023-06-21T16:34:27.084595Z",
     "iopub.status.busy": "2023-06-21T16:34:27.084171Z",
     "iopub.status.idle": "2023-06-21T16:34:27.089709Z",
     "shell.execute_reply": "2023-06-21T16:34:27.088592Z"
    },
    "papermill": {
     "duration": 0.024031,
     "end_time": "2023-06-21T16:34:27.092094",
     "exception": false,
     "start_time": "2023-06-21T16:34:27.068063",
     "status": "completed"
    },
    "tags": []
   },
   "outputs": [],
   "source": [
    "FEATURE_COLUMNS = [i for i in dataset_df.columns if i not in [\"Id\"]]"
   ]
  },
  {
   "cell_type": "markdown",
   "id": "2f7891c4",
   "metadata": {
    "papermill": {
     "duration": 0.014223,
     "end_time": "2023-06-21T16:34:27.121013",
     "exception": false,
     "start_time": "2023-06-21T16:34:27.106790",
     "status": "completed"
    },
    "tags": []
   },
   "source": [
    "## KFold validation"
   ]
  },
  {
   "cell_type": "code",
   "execution_count": 11,
   "id": "f56404bb",
   "metadata": {
    "execution": {
     "iopub.execute_input": "2023-06-21T16:34:27.153636Z",
     "iopub.status.busy": "2023-06-21T16:34:27.153215Z",
     "iopub.status.idle": "2023-06-21T16:34:27.158234Z",
     "shell.execute_reply": "2023-06-21T16:34:27.157085Z"
    },
    "papermill": {
     "duration": 0.024159,
     "end_time": "2023-06-21T16:34:27.160540",
     "exception": false,
     "start_time": "2023-06-21T16:34:27.136381",
     "status": "completed"
    },
    "tags": []
   },
   "outputs": [],
   "source": [
    "# Creates a GroupKFold with 5 splits\n",
    "kf = KFold(n_splits=5)"
   ]
  },
  {
   "cell_type": "markdown",
   "id": "5304c43f",
   "metadata": {
    "papermill": {
     "duration": 0.014809,
     "end_time": "2023-06-21T16:34:27.190325",
     "exception": false,
     "start_time": "2023-06-21T16:34:27.175516",
     "status": "completed"
    },
    "tags": []
   },
   "source": [
    "## Out of Fold (OOF)"
   ]
  },
  {
   "cell_type": "code",
   "execution_count": 12,
   "id": "92fa286b",
   "metadata": {
    "execution": {
     "iopub.execute_input": "2023-06-21T16:34:27.224200Z",
     "iopub.status.busy": "2023-06-21T16:34:27.223453Z",
     "iopub.status.idle": "2023-06-21T16:34:27.230347Z",
     "shell.execute_reply": "2023-06-21T16:34:27.229179Z"
    },
    "papermill": {
     "duration": 0.025481,
     "end_time": "2023-06-21T16:34:27.232776",
     "exception": false,
     "start_time": "2023-06-21T16:34:27.207295",
     "status": "completed"
    },
    "tags": []
   },
   "outputs": [],
   "source": [
    "# Create list of ids for the creation of oof dataframe\n",
    "ID_LIST = dataset_df.index\n",
    "\n",
    "# Create a dataframe of required size with zero values.\n",
    "oof = pd.DataFrame(data=np.zeros((len(ID_LIST),1)), index=ID_LIST)\n",
    "\n",
    "# Create an empty dictionary to store the models trained for each fold.\n",
    "models = {}\n",
    "\n",
    "# Create empty dict to save metrics for the models trained for each fold.\n",
    "accuracy = {}\n",
    "cross_entropy = {}\n",
    "\n",
    "# Save the name of the label column to a variable.\n",
    "label = \"Class\""
   ]
  },
  {
   "cell_type": "markdown",
   "id": "b2cbf290",
   "metadata": {
    "papermill": {
     "duration": 0.014639,
     "end_time": "2023-06-21T16:34:27.262042",
     "exception": false,
     "start_time": "2023-06-21T16:34:27.247403",
     "status": "completed"
    },
    "tags": []
   },
   "source": [
    "## Select a Model"
   ]
  },
  {
   "cell_type": "code",
   "execution_count": 13,
   "id": "6787600c",
   "metadata": {
    "execution": {
     "iopub.execute_input": "2023-06-21T16:34:27.292255Z",
     "iopub.status.busy": "2023-06-21T16:34:27.291844Z",
     "iopub.status.idle": "2023-06-21T16:34:27.298878Z",
     "shell.execute_reply": "2023-06-21T16:34:27.297777Z"
    },
    "papermill": {
     "duration": 0.024804,
     "end_time": "2023-06-21T16:34:27.301171",
     "exception": false,
     "start_time": "2023-06-21T16:34:27.276367",
     "status": "completed"
    },
    "tags": []
   },
   "outputs": [
    {
     "data": {
      "text/plain": [
       "[tensorflow_decision_forests.keras.RandomForestModel,\n",
       " tensorflow_decision_forests.keras.GradientBoostedTreesModel,\n",
       " tensorflow_decision_forests.keras.CartModel,\n",
       " tensorflow_decision_forests.keras.DistributedGradientBoostedTreesModel]"
      ]
     },
     "execution_count": 13,
     "metadata": {},
     "output_type": "execute_result"
    }
   ],
   "source": [
    "tfdf.keras.get_all_models()"
   ]
  },
  {
   "cell_type": "markdown",
   "id": "3ec9e463",
   "metadata": {
    "papermill": {
     "duration": 0.014054,
     "end_time": "2023-06-21T16:34:27.330373",
     "exception": false,
     "start_time": "2023-06-21T16:34:27.316319",
     "status": "completed"
    },
    "tags": []
   },
   "source": [
    "## Strategies to handle the dataset imbalance"
   ]
  },
  {
   "cell_type": "code",
   "execution_count": 14,
   "id": "ab36a722",
   "metadata": {
    "execution": {
     "iopub.execute_input": "2023-06-21T16:34:27.362210Z",
     "iopub.status.busy": "2023-06-21T16:34:27.361533Z",
     "iopub.status.idle": "2023-06-21T16:34:27.368740Z",
     "shell.execute_reply": "2023-06-21T16:34:27.367224Z"
    },
    "papermill": {
     "duration": 0.025691,
     "end_time": "2023-06-21T16:34:27.371008",
     "exception": false,
     "start_time": "2023-06-21T16:34:27.345317",
     "status": "completed"
    },
    "tags": []
   },
   "outputs": [
    {
     "name": "stdout",
     "output_type": "stream",
     "text": [
      "Examples:\n",
      "    Total: 617\n",
      "    Positive: 108 (17.50% of total)\n",
      "\n"
     ]
    }
   ],
   "source": [
    "# Calculate the number of negative and positive values in `Class` column\n",
    "neg, pos = np.bincount(dataset_df['Class'])\n",
    "# Calculate total samples\n",
    "total = neg + pos\n",
    "print('Examples:\\n    Total: {}\\n    Positive: {} ({:.2f}% of total)\\n'.format(total, pos, 100 * pos / total))"
   ]
  },
  {
   "cell_type": "markdown",
   "id": "09bdf9c5",
   "metadata": {
    "papermill": {
     "duration": 0.014442,
     "end_time": "2023-06-21T16:34:27.400300",
     "exception": false,
     "start_time": "2023-06-21T16:34:27.385858",
     "status": "completed"
    },
    "tags": []
   },
   "source": [
    "## Class weighting"
   ]
  },
  {
   "cell_type": "code",
   "execution_count": 15,
   "id": "5dee9c5b",
   "metadata": {
    "execution": {
     "iopub.execute_input": "2023-06-21T16:34:27.432210Z",
     "iopub.status.busy": "2023-06-21T16:34:27.431797Z",
     "iopub.status.idle": "2023-06-21T16:34:27.439450Z",
     "shell.execute_reply": "2023-06-21T16:34:27.438279Z"
    },
    "papermill": {
     "duration": 0.026132,
     "end_time": "2023-06-21T16:34:27.441832",
     "exception": false,
     "start_time": "2023-06-21T16:34:27.415700",
     "status": "completed"
    },
    "tags": []
   },
   "outputs": [
    {
     "name": "stdout",
     "output_type": "stream",
     "text": [
      "Weight for class 0: 0.61\n",
      "Weight for class 1: 2.86\n"
     ]
    }
   ],
   "source": [
    "# Calculate the number of samples for each label.\n",
    "neg, pos = np.bincount(dataset_df['Class'])\n",
    "\n",
    "# Calculate total samples.\n",
    "total = neg + pos\n",
    "\n",
    "# Calculate the weight for each label.\n",
    "weight_for_0 = (1 / neg) * (total / 2.0)\n",
    "weight_for_1 = (1 / pos) * (total / 2.0)\n",
    "\n",
    "class_weight = {0: weight_for_0, 1: weight_for_1}\n",
    "\n",
    "print('Weight for class 0: {:.2f}'.format(weight_for_0))\n",
    "print('Weight for class 1: {:.2f}'.format(weight_for_1))"
   ]
  },
  {
   "cell_type": "code",
   "execution_count": 16,
   "id": "729eca66",
   "metadata": {
    "execution": {
     "iopub.execute_input": "2023-06-21T16:34:27.473180Z",
     "iopub.status.busy": "2023-06-21T16:34:27.472788Z",
     "iopub.status.idle": "2023-06-21T16:34:51.850566Z",
     "shell.execute_reply": "2023-06-21T16:34:51.849520Z"
    },
    "papermill": {
     "duration": 24.396523,
     "end_time": "2023-06-21T16:34:51.853159",
     "exception": false,
     "start_time": "2023-06-21T16:34:27.456636",
     "status": "completed"
    },
    "tags": []
   },
   "outputs": [
    {
     "name": "stdout",
     "output_type": "stream",
     "text": [
      "##### Fold 1\n",
      "Warning: Some of the feature names have been changed automatically to be compatible with SavedModels because fix_feature_names=True.\n",
      "Warning: Some of the feature names have been changed automatically to be compatible with SavedModels because fix_feature_names=True.\n",
      "Use /tmp/tmpdcg5ezgr as temporary training directory\n",
      "Reading training dataset...\n",
      "Training dataset read in 0:00:07.996330. Found 493 examples.\n",
      "Training model...\n",
      "Model trained in 0:00:00.309101\n",
      "Compiling model...\n"
     ]
    },
    {
     "name": "stderr",
     "output_type": "stream",
     "text": [
      "[INFO 23-06-21 16:34:36.0732 UTC kernel.cc:1242] Loading model from path /tmp/tmpdcg5ezgr/model/ with prefix 8ea2652aa35341a4\n",
      "[INFO 23-06-21 16:34:36.1310 UTC decision_forest.cc:660] Model loaded with 300 root(s), 14268 node(s), and 56 input feature(s).\n",
      "[INFO 23-06-21 16:34:36.1313 UTC abstract_model.cc:1311] Engine \"RandomForestOptPred\" built\n",
      "[INFO 23-06-21 16:34:36.1315 UTC kernel.cc:1074] Use fast generic engine\n"
     ]
    },
    {
     "name": "stdout",
     "output_type": "stream",
     "text": [
      "WARNING: AutoGraph could not transform <function simple_ml_inference_op_with_handle at 0x7a0618865900> and will run it as-is.\n",
      "Please report this to the TensorFlow team. When filing the bug, set the verbosity to 10 (on Linux, `export AUTOGRAPH_VERBOSITY=10`) and attach the full output.\n",
      "Cause: could not get source code\n",
      "To silence this warning, decorate the function with @tf.autograph.experimental.do_not_convert\n",
      "Model compiled.\n",
      "1/1 [==============================] - 0s 142ms/step\n",
      "1/1 [==============================] - 1s 768ms/step - loss: 0.0000e+00 - accuracy: 0.9516 - binary_crossentropy: 0.2182\n",
      "##### Fold 2\n",
      "Warning: Some of the feature names have been changed automatically to be compatible with SavedModels because fix_feature_names=True.\n",
      "Warning: Some of the feature names have been changed automatically to be compatible with SavedModels because fix_feature_names=True.\n",
      "Use /tmp/tmpan5e4xc_ as temporary training directory\n",
      "Reading training dataset...\n",
      "Training dataset read in 0:00:01.025097. Found 493 examples.\n",
      "Training model...\n",
      "Model trained in 0:00:00.253731\n",
      "Compiling model...\n"
     ]
    },
    {
     "name": "stderr",
     "output_type": "stream",
     "text": [
      "[INFO 23-06-21 16:34:41.6186 UTC kernel.cc:1242] Loading model from path /tmp/tmpan5e4xc_/model/ with prefix c12569f4c4304055\n",
      "[INFO 23-06-21 16:34:41.6708 UTC decision_forest.cc:660] Model loaded with 300 root(s), 13582 node(s), and 56 input feature(s).\n",
      "[INFO 23-06-21 16:34:41.6711 UTC kernel.cc:1074] Use fast generic engine\n"
     ]
    },
    {
     "name": "stdout",
     "output_type": "stream",
     "text": [
      "Model compiled.\n",
      "1/1 [==============================] - 0s 145ms/step\n",
      "1/1 [==============================] - 0s 372ms/step - loss: 0.0000e+00 - accuracy: 0.8790 - binary_crossentropy: 0.2608\n",
      "##### Fold 3\n",
      "Warning: Some of the feature names have been changed automatically to be compatible with SavedModels because fix_feature_names=True.\n",
      "Warning: Some of the feature names have been changed automatically to be compatible with SavedModels because fix_feature_names=True.\n",
      "Use /tmp/tmp3nkq6htx as temporary training directory\n",
      "Reading training dataset...\n",
      "Training dataset read in 0:00:01.573602. Found 494 examples.\n",
      "Training model...\n",
      "Model trained in 0:00:00.247016\n",
      "Compiling model...\n"
     ]
    },
    {
     "name": "stderr",
     "output_type": "stream",
     "text": [
      "[INFO 23-06-21 16:34:44.7187 UTC kernel.cc:1242] Loading model from path /tmp/tmp3nkq6htx/model/ with prefix fe73ace926c94331\n",
      "[INFO 23-06-21 16:34:44.7710 UTC decision_forest.cc:660] Model loaded with 300 root(s), 13376 node(s), and 56 input feature(s).\n",
      "[INFO 23-06-21 16:34:44.7711 UTC kernel.cc:1074] Use fast generic engine\n"
     ]
    },
    {
     "name": "stdout",
     "output_type": "stream",
     "text": [
      "Model compiled.\n",
      "1/1 [==============================] - 0s 145ms/step\n",
      "1/1 [==============================] - 0s 385ms/step - loss: 0.0000e+00 - accuracy: 0.9024 - binary_crossentropy: 0.2741\n",
      "##### Fold 4\n",
      "Warning: Some of the feature names have been changed automatically to be compatible with SavedModels because fix_feature_names=True.\n",
      "Warning: Some of the feature names have been changed automatically to be compatible with SavedModels because fix_feature_names=True.\n",
      "Use /tmp/tmp0d65_fng as temporary training directory\n",
      "Reading training dataset...\n",
      "Training dataset read in 0:00:01.010800. Found 494 examples.\n",
      "Training model...\n",
      "Model trained in 0:00:00.248823\n",
      "Compiling model...\n"
     ]
    },
    {
     "name": "stderr",
     "output_type": "stream",
     "text": [
      "[INFO 23-06-21 16:34:47.6970 UTC kernel.cc:1242] Loading model from path /tmp/tmp0d65_fng/model/ with prefix 4ec1d95e1dde48d3\n",
      "[INFO 23-06-21 16:34:47.7484 UTC decision_forest.cc:660] Model loaded with 300 root(s), 13434 node(s), and 56 input feature(s).\n",
      "[INFO 23-06-21 16:34:47.7484 UTC abstract_model.cc:1311] Engine \"RandomForestOptPred\" built\n",
      "[INFO 23-06-21 16:34:47.7485 UTC kernel.cc:1074] Use fast generic engine\n"
     ]
    },
    {
     "name": "stdout",
     "output_type": "stream",
     "text": [
      "Model compiled.\n",
      "1/1 [==============================] - 0s 141ms/step\n",
      "1/1 [==============================] - 0s 381ms/step - loss: 0.0000e+00 - accuracy: 0.9024 - binary_crossentropy: 0.2717\n",
      "##### Fold 5\n",
      "Warning: Some of the feature names have been changed automatically to be compatible with SavedModels because fix_feature_names=True.\n",
      "Warning: Some of the feature names have been changed automatically to be compatible with SavedModels because fix_feature_names=True.\n",
      "Use /tmp/tmp9efhjqzl as temporary training directory\n",
      "Reading training dataset...\n",
      "Training dataset read in 0:00:01.023071. Found 494 examples.\n",
      "Training model...\n",
      "Model trained in 0:00:00.260932\n",
      "Compiling model...\n"
     ]
    },
    {
     "name": "stderr",
     "output_type": "stream",
     "text": [
      "[INFO 23-06-21 16:34:50.6831 UTC kernel.cc:1242] Loading model from path /tmp/tmp9efhjqzl/model/ with prefix 30232617c74f4958\n",
      "[INFO 23-06-21 16:34:50.7369 UTC decision_forest.cc:660] Model loaded with 300 root(s), 13980 node(s), and 56 input feature(s).\n",
      "[INFO 23-06-21 16:34:50.7369 UTC kernel.cc:1074] Use fast generic engine\n"
     ]
    },
    {
     "name": "stdout",
     "output_type": "stream",
     "text": [
      "Model compiled.\n",
      "1/1 [==============================] - 0s 137ms/step\n",
      "1/1 [==============================] - 0s 371ms/step - loss: 0.0000e+00 - accuracy: 0.9512 - binary_crossentropy: 0.2172\n"
     ]
    }
   ],
   "source": [
    "# Loop through each fold\n",
    "for i, (train_index, valid_index) in enumerate(kf.split(X=dataset_df)):\n",
    "    print('##### Fold',i+1)\n",
    "    \n",
    "    # Fetch values corresponding to the index\n",
    "    train_df = dataset_df.iloc[train_index]\n",
    "    valid_df = dataset_df.iloc[valid_index]\n",
    "    valid_ids = valid_df.index.values\n",
    "    \n",
    "    # Select only feature columns for training.\n",
    "    train_df = train_df[FEATURE_COLUMNS]\n",
    "    valid_df = valid_df[FEATURE_COLUMNS]\n",
    "    \n",
    "    # There's one more step required before we can train the model.\n",
    "    # We need to convert the dataset from Pandas format (pd.DataFrame)\n",
    "    # into Tensorflow Datasets format (tf.data.Dataset).\n",
    "    # Tensorflow Datasets is a high performance data loading library\n",
    "    # which is helpful when training neural networks with accelerators like GPUs and TPUs.\n",
    "    # Note: Some column names contains white spaces at the end of their name,\n",
    "    # which is non-compatible with SavedModels save format.\n",
    "    # By default, `pd_dataframe_to_tf_dataset` function will convert\n",
    "    # this column names into a compatible format.\n",
    "    # So you can safely ignore the warnings related to this.\n",
    "    train_ds = tfdf.keras.pd_dataframe_to_tf_dataset(train_df, label=label)\n",
    "    valid_ds = tfdf.keras.pd_dataframe_to_tf_dataset(valid_df, label=label)\n",
    "    \n",
    "    # Define the model and metrics\n",
    "    rf = tfdf.keras.RandomForestModel()\n",
    "    rf.compile(metrics=[\"accuracy\", \"binary_crossentropy\"])\n",
    "    \n",
    "    # Train the model\n",
    "    rf.fit(x=train_ds, class_weight=class_weight)\n",
    "    \n",
    "    # Store the model\n",
    "    models[f\"fold_{i+1}\"] = rf\n",
    "    \n",
    "    # Predict OOF value for validation data\n",
    "    predict = rf.predict(x=valid_ds)\n",
    "    \n",
    "    # Store the predictions in oof dataframe\n",
    "    oof.loc[valid_ids, 0] = predict.flatten()\n",
    "    \n",
    "    # Evaluate and store the metrics in respective dicts\n",
    "    evaluation = rf.evaluate(x=valid_ds,return_dict=True)\n",
    "    accuracy[f\"fold_{i+1}\"] = evaluation[\"accuracy\"]\n",
    "    cross_entropy[f\"fold_{i+1}\"] = evaluation[\"binary_crossentropy\"]"
   ]
  },
  {
   "cell_type": "markdown",
   "id": "f53727cb",
   "metadata": {
    "papermill": {
     "duration": 0.021406,
     "end_time": "2023-06-21T16:34:51.896309",
     "exception": false,
     "start_time": "2023-06-21T16:34:51.874903",
     "status": "completed"
    },
    "tags": []
   },
   "source": [
    "## Visualize the model"
   ]
  },
  {
   "cell_type": "code",
   "execution_count": 17,
   "id": "c2b4ceb6",
   "metadata": {
    "execution": {
     "iopub.execute_input": "2023-06-21T16:34:51.940935Z",
     "iopub.status.busy": "2023-06-21T16:34:51.940506Z",
     "iopub.status.idle": "2023-06-21T16:34:51.955028Z",
     "shell.execute_reply": "2023-06-21T16:34:51.953889Z"
    },
    "papermill": {
     "duration": 0.039748,
     "end_time": "2023-06-21T16:34:51.957328",
     "exception": false,
     "start_time": "2023-06-21T16:34:51.917580",
     "status": "completed"
    },
    "tags": []
   },
   "outputs": [
    {
     "data": {
      "text/html": [
       "\n",
       "<script src=\"https://d3js.org/d3.v6.min.js\"></script>\n",
       "<div id=\"tree_plot_95d8dccc351a4127978d0c1037871a02\"></div>\n",
       "<script>\n",
       "/*\n",
       " * Copyright 2021 Google LLC.\n",
       " * Licensed under the Apache License, Version 2.0 (the \"License\");\n",
       " * you may not use this file except in compliance with the License.\n",
       " * You may obtain a copy of the License at\n",
       " *\n",
       " *     https://www.apache.org/licenses/LICENSE-2.0\n",
       " *\n",
       " * Unless required by applicable law or agreed to in writing, software\n",
       " * distributed under the License is distributed on an \"AS IS\" BASIS,\n",
       " * WITHOUT WARRANTIES OR CONDITIONS OF ANY KIND, either express or implied.\n",
       " * See the License for the specific language governing permissions and\n",
       " * limitations under the License.\n",
       " */\n",
       "\n",
       "/**\n",
       " *  Plotting of decision trees generated by TF-DF.\n",
       " *\n",
       " *  A tree is a recursive structure of node objects.\n",
       " *  A node contains one or more of the following components:\n",
       " *\n",
       " *    - A value: Representing the output of the node. If the node is not a leaf,\n",
       " *      the value is only present for analysis i.e. it is not used for\n",
       " *      predictions.\n",
       " *\n",
       " *    - A condition : For non-leaf nodes, the condition (also known as split)\n",
       " *      defines a binary test to branch to the positive or negative child.\n",
       " *\n",
       " *    - An explanation: Generally a plot showing the relation between the label\n",
       " *      and the condition to give insights about the effect of the condition.\n",
       " *\n",
       " *    - Two children : For non-leaf nodes, the children nodes. The first\n",
       " *      children (i.e. \"node.children[0]\") is the negative children (drawn in\n",
       " *      red). The second children is the positive one (drawn in green).\n",
       " *\n",
       " */\n",
       "\n",
       "/**\n",
       " * Plots a single decision tree into a DOM element.\n",
       " * @param {!options} options Dictionary of configurations.\n",
       " * @param {!tree} raw_tree Recursive tree structure.\n",
       " * @param {string} canvas_id Id of the output dom element.\n",
       " */\n",
       "function display_tree(options, raw_tree, canvas_id) {\n",
       "  console.log(options);\n",
       "\n",
       "  // Determine the node placement.\n",
       "  const tree_struct = d3.tree().nodeSize(\n",
       "      [options.node_y_offset, options.node_x_offset])(d3.hierarchy(raw_tree));\n",
       "\n",
       "  // Boundaries of the node placement.\n",
       "  let x_min = Infinity;\n",
       "  let x_max = -x_min;\n",
       "  let y_min = Infinity;\n",
       "  let y_max = -x_min;\n",
       "\n",
       "  tree_struct.each(d => {\n",
       "    if (d.x > x_max) x_max = d.x;\n",
       "    if (d.x < x_min) x_min = d.x;\n",
       "    if (d.y > y_max) y_max = d.y;\n",
       "    if (d.y < y_min) y_min = d.y;\n",
       "  });\n",
       "\n",
       "  // Size of the plot.\n",
       "  const width = y_max - y_min + options.node_x_size + options.margin * 2;\n",
       "  const height = x_max - x_min + options.node_y_size + options.margin * 2 +\n",
       "      options.node_y_offset - options.node_y_size;\n",
       "\n",
       "  const plot = d3.select(canvas_id);\n",
       "\n",
       "  // Tool tip\n",
       "  options.tooltip = plot.append('div')\n",
       "                        .attr('width', 100)\n",
       "                        .attr('height', 100)\n",
       "                        .style('padding', '4px')\n",
       "                        .style('background', '#fff')\n",
       "                        .style('box-shadow', '4px 4px 0px rgba(0,0,0,0.1)')\n",
       "                        .style('border', '1px solid black')\n",
       "                        .style('font-family', 'sans-serif')\n",
       "                        .style('font-size', options.font_size)\n",
       "                        .style('position', 'absolute')\n",
       "                        .style('z-index', '10')\n",
       "                        .attr('pointer-events', 'none')\n",
       "                        .style('display', 'none');\n",
       "\n",
       "  // Create canvas\n",
       "  const svg = plot.append('svg').attr('width', width).attr('height', height);\n",
       "  const graph =\n",
       "      svg.style('overflow', 'visible')\n",
       "          .append('g')\n",
       "          .attr('font-family', 'sans-serif')\n",
       "          .attr('font-size', options.font_size)\n",
       "          .attr(\n",
       "              'transform',\n",
       "              () => `translate(${options.margin},${\n",
       "                  - x_min + options.node_y_offset / 2 + options.margin})`);\n",
       "\n",
       "  // Plot bounding box.\n",
       "  if (options.show_plot_bounding_box) {\n",
       "    svg.append('rect')\n",
       "        .attr('width', width)\n",
       "        .attr('height', height)\n",
       "        .attr('fill', 'none')\n",
       "        .attr('stroke-width', 1.0)\n",
       "        .attr('stroke', 'black');\n",
       "  }\n",
       "\n",
       "  // Draw the edges.\n",
       "  display_edges(options, graph, tree_struct);\n",
       "\n",
       "  // Draw the nodes.\n",
       "  display_nodes(options, graph, tree_struct);\n",
       "}\n",
       "\n",
       "/**\n",
       " * Draw the nodes of the tree.\n",
       " * @param {!options} options Dictionary of configurations.\n",
       " * @param {!graph} graph D3 search handle containing the graph.\n",
       " * @param {!tree_struct} tree_struct Structure of the tree (node placement,\n",
       " *     data, etc.).\n",
       " */\n",
       "function display_nodes(options, graph, tree_struct) {\n",
       "  const nodes = graph.append('g')\n",
       "                    .selectAll('g')\n",
       "                    .data(tree_struct.descendants())\n",
       "                    .join('g')\n",
       "                    .attr('transform', d => `translate(${d.y},${d.x})`);\n",
       "\n",
       "  nodes.append('rect')\n",
       "      .attr('x', 0.5)\n",
       "      .attr('y', 0.5)\n",
       "      .attr('width', options.node_x_size)\n",
       "      .attr('height', options.node_y_size)\n",
       "      .attr('stroke', 'lightgrey')\n",
       "      .attr('stroke-width', 1)\n",
       "      .attr('fill', 'white')\n",
       "      .attr('y', -options.node_y_size / 2);\n",
       "\n",
       "  // Brackets on the right of condition nodes without children.\n",
       "  non_leaf_node_without_children =\n",
       "      nodes.filter(node => node.data.condition != null && node.children == null)\n",
       "          .append('g')\n",
       "          .attr('transform', `translate(${options.node_x_size},0)`);\n",
       "\n",
       "  non_leaf_node_without_children.append('path')\n",
       "      .attr('d', 'M0,0 C 10,0 0,10 10,10')\n",
       "      .attr('fill', 'none')\n",
       "      .attr('stroke-width', 1.0)\n",
       "      .attr('stroke', '#F00');\n",
       "\n",
       "  non_leaf_node_without_children.append('path')\n",
       "      .attr('d', 'M0,0 C 10,0 0,-10 10,-10')\n",
       "      .attr('fill', 'none')\n",
       "      .attr('stroke-width', 1.0)\n",
       "      .attr('stroke', '#0F0');\n",
       "\n",
       "  const node_content = nodes.append('g').attr(\n",
       "      'transform',\n",
       "      `translate(0,${options.node_padding - options.node_y_size / 2})`);\n",
       "\n",
       "  node_content.append(node => create_node_element(options, node));\n",
       "}\n",
       "\n",
       "/**\n",
       " * Creates the D3 content for a single node.\n",
       " * @param {!options} options Dictionary of configurations.\n",
       " * @param {!node} node Node to draw.\n",
       " * @return {!d3} D3 content.\n",
       " */\n",
       "function create_node_element(options, node) {\n",
       "  // Output accumulator.\n",
       "  let output = {\n",
       "    // Content to draw.\n",
       "    content: d3.create('svg:g'),\n",
       "    // Vertical offset to the next element to draw.\n",
       "    vertical_offset: 0\n",
       "  };\n",
       "\n",
       "  // Conditions.\n",
       "  if (node.data.condition != null) {\n",
       "    display_condition(options, node.data.condition, output);\n",
       "  }\n",
       "\n",
       "  // Values.\n",
       "  if (node.data.value != null) {\n",
       "    display_value(options, node.data.value, output);\n",
       "  }\n",
       "\n",
       "  // Explanations.\n",
       "  if (node.data.explanation != null) {\n",
       "    display_explanation(options, node.data.explanation, output);\n",
       "  }\n",
       "\n",
       "  return output.content.node();\n",
       "}\n",
       "\n",
       "\n",
       "/**\n",
       " * Adds a single line of text inside of a node.\n",
       " * @param {!options} options Dictionary of configurations.\n",
       " * @param {string} text Text to display.\n",
       " * @param {!output} output Output display accumulator.\n",
       " */\n",
       "function display_node_text(options, text, output) {\n",
       "  output.content.append('text')\n",
       "      .attr('x', options.node_padding)\n",
       "      .attr('y', output.vertical_offset)\n",
       "      .attr('alignment-baseline', 'hanging')\n",
       "      .text(text);\n",
       "  output.vertical_offset += 10;\n",
       "}\n",
       "\n",
       "/**\n",
       " * Adds a single line of text inside of a node with a tooltip.\n",
       " * @param {!options} options Dictionary of configurations.\n",
       " * @param {string} text Text to display.\n",
       " * @param {string} tooltip Text in the Tooltip.\n",
       " * @param {!output} output Output display accumulator.\n",
       " */\n",
       "function display_node_text_with_tooltip(options, text, tooltip, output) {\n",
       "  const item = output.content.append('text')\n",
       "                   .attr('x', options.node_padding)\n",
       "                   .attr('alignment-baseline', 'hanging')\n",
       "                   .text(text);\n",
       "\n",
       "  add_tooltip(options, item, () => tooltip);\n",
       "  output.vertical_offset += 10;\n",
       "}\n",
       "\n",
       "/**\n",
       " * Adds a tooltip to a dom element.\n",
       " * @param {!options} options Dictionary of configurations.\n",
       " * @param {!dom} target Dom element to equip with a tooltip.\n",
       " * @param {!func} get_content Generates the html content of the tooltip.\n",
       " */\n",
       "function add_tooltip(options, target, get_content) {\n",
       "  function show(d) {\n",
       "    options.tooltip.style('display', 'block');\n",
       "    options.tooltip.html(get_content());\n",
       "  }\n",
       "\n",
       "  function hide(d) {\n",
       "    options.tooltip.style('display', 'none');\n",
       "  }\n",
       "\n",
       "  function move(d) {\n",
       "    options.tooltip.style('display', 'block');\n",
       "    options.tooltip.style('left', (d.pageX + 5) + 'px');\n",
       "    options.tooltip.style('top', d.pageY + 'px');\n",
       "  }\n",
       "\n",
       "  target.on('mouseover', show);\n",
       "  target.on('mouseout', hide);\n",
       "  target.on('mousemove', move);\n",
       "}\n",
       "\n",
       "/**\n",
       " * Adds a condition inside of a node.\n",
       " * @param {!options} options Dictionary of configurations.\n",
       " * @param {!condition} condition Condition to display.\n",
       " * @param {!output} output Output display accumulator.\n",
       " */\n",
       "function display_condition(options, condition, output) {\n",
       "  threshold_format = d3.format('r');\n",
       "\n",
       "  if (condition.type === 'IS_MISSING') {\n",
       "    display_node_text(options, `${condition.attribute} is missing`, output);\n",
       "    return;\n",
       "  }\n",
       "\n",
       "  if (condition.type === 'IS_TRUE') {\n",
       "    display_node_text(options, `${condition.attribute} is true`, output);\n",
       "    return;\n",
       "  }\n",
       "\n",
       "  if (condition.type === 'NUMERICAL_IS_HIGHER_THAN') {\n",
       "    format = d3.format('r');\n",
       "    display_node_text(\n",
       "        options,\n",
       "        `${condition.attribute} >= ${threshold_format(condition.threshold)}`,\n",
       "        output);\n",
       "    return;\n",
       "  }\n",
       "\n",
       "  if (condition.type === 'CATEGORICAL_IS_IN') {\n",
       "    display_node_text_with_tooltip(\n",
       "        options, `${condition.attribute} in [...]`,\n",
       "        `${condition.attribute} in [${condition.mask}]`, output);\n",
       "    return;\n",
       "  }\n",
       "\n",
       "  if (condition.type === 'CATEGORICAL_SET_CONTAINS') {\n",
       "    display_node_text_with_tooltip(\n",
       "        options, `${condition.attribute} intersect [...]`,\n",
       "        `${condition.attribute} intersect [${condition.mask}]`, output);\n",
       "    return;\n",
       "  }\n",
       "\n",
       "  if (condition.type === 'NUMERICAL_SPARSE_OBLIQUE') {\n",
       "    display_node_text_with_tooltip(\n",
       "        options, `Sparse oblique split...`,\n",
       "        `[${condition.attributes}]*[${condition.weights}]>=${\n",
       "            threshold_format(condition.threshold)}`,\n",
       "        output);\n",
       "    return;\n",
       "  }\n",
       "\n",
       "  display_node_text(\n",
       "      options, `Non supported condition ${condition.type}`, output);\n",
       "}\n",
       "\n",
       "/**\n",
       " * Adds a value inside of a node.\n",
       " * @param {!options} options Dictionary of configurations.\n",
       " * @param {!value} value Value to display.\n",
       " * @param {!output} output Output display accumulator.\n",
       " */\n",
       "function display_value(options, value, output) {\n",
       "  if (value.type === 'PROBABILITY') {\n",
       "    const left_margin = 0;\n",
       "    const right_margin = 50;\n",
       "    const plot_width = options.node_x_size - options.node_padding * 2 -\n",
       "        left_margin - right_margin;\n",
       "\n",
       "    let cusum = Array.from(d3.cumsum(value.distribution));\n",
       "    cusum.unshift(0);\n",
       "    const distribution_plot = output.content.append('g').attr(\n",
       "        'transform', `translate(0,${output.vertical_offset + 0.5})`);\n",
       "\n",
       "    distribution_plot.selectAll('rect')\n",
       "        .data(value.distribution)\n",
       "        .join('rect')\n",
       "        .attr('height', 10)\n",
       "        .attr(\n",
       "            'x',\n",
       "            (d, i) =>\n",
       "                (cusum[i] * plot_width + left_margin + options.node_padding))\n",
       "        .attr('width', (d, i) => d * plot_width)\n",
       "        .style('fill', (d, i) => d3.schemeSet1[i]);\n",
       "\n",
       "    const num_examples =\n",
       "        output.content.append('g')\n",
       "            .attr('transform', `translate(0,${output.vertical_offset})`)\n",
       "            .append('text')\n",
       "            .attr('x', options.node_x_size - options.node_padding)\n",
       "            .attr('alignment-baseline', 'hanging')\n",
       "            .attr('text-anchor', 'end')\n",
       "            .text(`(${value.num_examples})`);\n",
       "\n",
       "    const distribution_details = d3.create('ul');\n",
       "    distribution_details.selectAll('li')\n",
       "        .data(value.distribution)\n",
       "        .join('li')\n",
       "        .append('span')\n",
       "        .text(\n",
       "            (d, i) =>\n",
       "                'class ' + i + ': ' + d3.format('.3%')(value.distribution[i]));\n",
       "\n",
       "    add_tooltip(options, distribution_plot, () => distribution_details.html());\n",
       "    add_tooltip(options, num_examples, () => 'Number of examples');\n",
       "\n",
       "    output.vertical_offset += 10;\n",
       "    return;\n",
       "  }\n",
       "\n",
       "  if (value.type === 'REGRESSION') {\n",
       "    display_node_text(\n",
       "        options,\n",
       "        'value: ' + d3.format('r')(value.value) + ` (` +\n",
       "            d3.format('.6')(value.num_examples) + `)`,\n",
       "        output);\n",
       "    return;\n",
       "  }\n",
       "\n",
       "  display_node_text(options, `Non supported value ${value.type}`, output);\n",
       "}\n",
       "\n",
       "/**\n",
       " * Adds an explanation inside of a node.\n",
       " * @param {!options} options Dictionary of configurations.\n",
       " * @param {!explanation} explanation Explanation to display.\n",
       " * @param {!output} output Output display accumulator.\n",
       " */\n",
       "function display_explanation(options, explanation, output) {\n",
       "  // Margin before the explanation.\n",
       "  output.vertical_offset += 10;\n",
       "\n",
       "  display_node_text(\n",
       "      options, `Non supported explanation ${explanation.type}`, output);\n",
       "}\n",
       "\n",
       "\n",
       "/**\n",
       " * Draw the edges of the tree.\n",
       " * @param {!options} options Dictionary of configurations.\n",
       " * @param {!graph} graph D3 search handle containing the graph.\n",
       " * @param {!tree_struct} tree_struct Structure of the tree (node placement,\n",
       " *     data, etc.).\n",
       " */\n",
       "function display_edges(options, graph, tree_struct) {\n",
       "  // Draw an edge between a parent and a child node with a bezier.\n",
       "  function draw_single_edge(d) {\n",
       "    return 'M' + (d.source.y + options.node_x_size) + ',' + d.source.x + ' C' +\n",
       "        (d.source.y + options.node_x_size + options.edge_rounding) + ',' +\n",
       "        d.source.x + ' ' + (d.target.y - options.edge_rounding) + ',' +\n",
       "        d.target.x + ' ' + d.target.y + ',' + d.target.x;\n",
       "  }\n",
       "\n",
       "  graph.append('g')\n",
       "      .attr('fill', 'none')\n",
       "      .attr('stroke-width', 1.2)\n",
       "      .selectAll('path')\n",
       "      .data(tree_struct.links())\n",
       "      .join('path')\n",
       "      .attr('d', draw_single_edge)\n",
       "      .attr(\n",
       "          'stroke', d => (d.target === d.source.children[0]) ? '#0F0' : '#F00');\n",
       "}\n",
       "\n",
       "display_tree({\"margin\": 10, \"node_x_size\": 160, \"node_y_size\": 28, \"node_x_offset\": 180, \"node_y_offset\": 33, \"font_size\": 10, \"edge_rounding\": 20, \"node_padding\": 2, \"show_plot_bounding_box\": false}, {\"value\": {\"type\": \"PROBABILITY\", \"distribution\": [0.5227602930870747, 0.4772397069129253], \"num_examples\": 478.8338456749916}, \"condition\": {\"type\": \"NUMERICAL_IS_HIGHER_THAN\", \"attribute\": \"FR\", \"threshold\": 2.7061350345611572}, \"children\": [{\"value\": {\"type\": \"PROBABILITY\", \"distribution\": [0.014929499065309356, 0.9850705009346906], \"num_examples\": 40.59683209657669}, \"condition\": {\"type\": \"NUMERICAL_IS_HIGHER_THAN\", \"attribute\": \"CC\", \"threshold\": 0.6739449501037598}, \"children\": [{\"value\": {\"type\": \"PROBABILITY\", \"distribution\": [0.050373132637029645, 0.9496268673629703], \"num_examples\": 12.032016575336456}}, {\"value\": {\"type\": \"PROBABILITY\", \"distribution\": [0.0, 1.0], \"num_examples\": 28.564815521240234}}]}, {\"value\": {\"type\": \"PROBABILITY\", \"distribution\": [0.569804063557375, 0.43019593644262494], \"num_examples\": 438.2370135784149}, \"condition\": {\"type\": \"NUMERICAL_IS_HIGHER_THAN\", \"attribute\": \"DI\", \"threshold\": 268.67132568359375}, \"children\": [{\"value\": {\"type\": \"PROBABILITY\", \"distribution\": [0.06605504369032043, 0.9339449563096796], \"num_examples\": 45.877675116062164}, \"condition\": {\"type\": \"NUMERICAL_IS_HIGHER_THAN\", \"attribute\": \"EL\", \"threshold\": 85.41004180908203}, \"children\": [{\"value\": {\"type\": \"PROBABILITY\", \"distribution\": [0.0, 1.0], \"num_examples\": 31.421297073364258}}, {\"value\": {\"type\": \"PROBABILITY\", \"distribution\": [0.20962732333445935, 0.7903726766655407], \"num_examples\": 14.456378042697906}}]}, {\"value\": {\"type\": \"PROBABILITY\", \"distribution\": [0.628706277951115, 0.371293722048885], \"num_examples\": 392.35933846235275}, \"condition\": {\"type\": \"NUMERICAL_IS_HIGHER_THAN\", \"attribute\": \"FL\", \"threshold\": 10.433052062988281}, \"children\": [{\"value\": {\"type\": \"PROBABILITY\", \"distribution\": [0.13424047737713196, 0.865759522622868], \"num_examples\": 85.7842373251915}, \"condition\": {\"type\": \"NUMERICAL_IS_HIGHER_THAN\", \"attribute\": \"EG\", \"threshold\": 1536.67919921875}}, {\"value\": {\"type\": \"PROBABILITY\", \"distribution\": [0.767065105619419, 0.23293489438058096], \"num_examples\": 306.57510113716125}, \"condition\": {\"type\": \"NUMERICAL_IS_HIGHER_THAN\", \"attribute\": \"DN\", \"threshold\": 25.685535430908203}}]}]}]}, \"#tree_plot_95d8dccc351a4127978d0c1037871a02\")\n",
       "</script>\n"
      ],
      "text/plain": [
       "<IPython.core.display.HTML object>"
      ]
     },
     "execution_count": 17,
     "metadata": {},
     "output_type": "execute_result"
    }
   ],
   "source": [
    "tfdf.model_plotter.plot_model_in_colab(models['fold_1'], tree_idx=0, max_depth=3)"
   ]
  },
  {
   "cell_type": "markdown",
   "id": "3c45d881",
   "metadata": {
    "papermill": {
     "duration": 0.021564,
     "end_time": "2023-06-21T16:34:52.000806",
     "exception": false,
     "start_time": "2023-06-21T16:34:51.979242",
     "status": "completed"
    },
    "tags": []
   },
   "source": [
    "## Evaluate the model on the Out of bag (OOB) data and the validation dataset"
   ]
  },
  {
   "cell_type": "code",
   "execution_count": 18,
   "id": "92349059",
   "metadata": {
    "execution": {
     "iopub.execute_input": "2023-06-21T16:34:52.046189Z",
     "iopub.status.busy": "2023-06-21T16:34:52.045509Z",
     "iopub.status.idle": "2023-06-21T16:34:53.121569Z",
     "shell.execute_reply": "2023-06-21T16:34:53.120379Z"
    },
    "papermill": {
     "duration": 1.10197,
     "end_time": "2023-06-21T16:34:53.124614",
     "exception": false,
     "start_time": "2023-06-21T16:34:52.022644",
     "status": "completed"
    },
    "tags": []
   },
   "outputs": [
    {
     "data": {
      "image/png": "[encoded data removed]",
      "text/plain": [
       "<Figure size 1000x1000 with 6 Axes>"
      ]
     },
     "metadata": {},
     "output_type": "display_data"
    }
   ],
   "source": [
    "figure, axis = plt.subplots(3, 2, figsize=(10, 10))\n",
    "plt.subplots_adjust(hspace=0.5, wspace=0.3)\n",
    "\n",
    "for i, fold_no in enumerate(models.keys()):\n",
    "    row = i//2\n",
    "    col = i % 2\n",
    "    logs = models[fold_no].make_inspector().training_logs()\n",
    "    axis[row, col].plot([log.num_trees for log in logs], [log.evaluation.loss for log in logs])\n",
    "    axis[row, col].set_title(f\"Fold {i+1}\")\n",
    "    axis[row, col].set_xlabel('Number of trees')\n",
    "    axis[row, col].set_ylabel('Loss (out-of-bag)')\n",
    "    \n",
    "axis[2][1].set_visible(False)\n",
    "plt.show()"
   ]
  },
  {
   "cell_type": "code",
   "execution_count": 19,
   "id": "3446cb91",
   "metadata": {
    "execution": {
     "iopub.execute_input": "2023-06-21T16:34:53.173859Z",
     "iopub.status.busy": "2023-06-21T16:34:53.173428Z",
     "iopub.status.idle": "2023-06-21T16:34:53.188735Z",
     "shell.execute_reply": "2023-06-21T16:34:53.187564Z"
    },
    "papermill": {
     "duration": 0.042833,
     "end_time": "2023-06-21T16:34:53.191049",
     "exception": false,
     "start_time": "2023-06-21T16:34:53.148216",
     "status": "completed"
    },
    "tags": []
   },
   "outputs": [
    {
     "name": "stdout",
     "output_type": "stream",
     "text": [
      "fold_1 Evaluation(num_examples=493, accuracy=0.83384120423487, loss=0.4011864148867133, rmse=None, ndcg=None, aucs=None, auuc=None, qini=None)\n",
      "fold_2 Evaluation(num_examples=493, accuracy=0.86791143186256, loss=0.374230902610848, rmse=None, ndcg=None, aucs=None, auuc=None, qini=None)\n",
      "fold_3 Evaluation(num_examples=494, accuracy=0.8625237360976467, loss=0.39912028399338717, rmse=None, ndcg=None, aucs=None, auuc=None, qini=None)\n",
      "fold_4 Evaluation(num_examples=494, accuracy=0.8742180068903357, loss=0.38689070260817593, rmse=None, ndcg=None, aucs=None, auuc=None, qini=None)\n",
      "fold_5 Evaluation(num_examples=494, accuracy=0.8477430594687857, loss=0.39049966583287166, rmse=None, ndcg=None, aucs=None, auuc=None, qini=None)\n"
     ]
    }
   ],
   "source": [
    "for _model in models:\n",
    "    inspector = models[_model].make_inspector()\n",
    "    print(_model, inspector.evaluation())"
   ]
  },
  {
   "cell_type": "code",
   "execution_count": 20,
   "id": "c940c508",
   "metadata": {
    "execution": {
     "iopub.execute_input": "2023-06-21T16:34:53.239307Z",
     "iopub.status.busy": "2023-06-21T16:34:53.238470Z",
     "iopub.status.idle": "2023-06-21T16:34:53.245717Z",
     "shell.execute_reply": "2023-06-21T16:34:53.244637Z"
    },
    "papermill": {
     "duration": 0.034187,
     "end_time": "2023-06-21T16:34:53.248260",
     "exception": false,
     "start_time": "2023-06-21T16:34:53.214073",
     "status": "completed"
    },
    "tags": []
   },
   "outputs": [
    {
     "name": "stdout",
     "output_type": "stream",
     "text": [
      "fold_1: acc: 0.9516 loss: 0.2182\n",
      "fold_2: acc: 0.8790 loss: 0.2608\n",
      "fold_3: acc: 0.9024 loss: 0.2741\n",
      "fold_4: acc: 0.9024 loss: 0.2717\n",
      "fold_5: acc: 0.9512 loss: 0.2172\n",
      "\n",
      "Average accuracy: 0.9173 Average loss: 0.2484\n"
     ]
    }
   ],
   "source": [
    "average_loss = 0\n",
    "average_acc = 0\n",
    "\n",
    "for _model in models:\n",
    "    average_loss += cross_entropy[_model]\n",
    "    average_acc += accuracy[_model]\n",
    "    print(f\"{_model}: acc: {accuracy[_model]:.4f} loss: {cross_entropy[_model]:.4f}\")\n",
    "    \n",
    "print(f\"\\nAverage accuracy: {average_acc/5:.4f} Average loss: {average_loss/5:.4f}\")"
   ]
  },
  {
   "cell_type": "markdown",
   "id": "ec0f899d",
   "metadata": {
    "papermill": {
     "duration": 0.022842,
     "end_time": "2023-06-21T16:34:53.294253",
     "exception": false,
     "start_time": "2023-06-21T16:34:53.271411",
     "status": "completed"
    },
    "tags": []
   },
   "source": [
    "## Variable importances"
   ]
  },
  {
   "cell_type": "code",
   "execution_count": 21,
   "id": "047f3965",
   "metadata": {
    "execution": {
     "iopub.execute_input": "2023-06-21T16:34:53.342680Z",
     "iopub.status.busy": "2023-06-21T16:34:53.342251Z",
     "iopub.status.idle": "2023-06-21T16:34:53.352807Z",
     "shell.execute_reply": "2023-06-21T16:34:53.351254Z"
    },
    "papermill": {
     "duration": 0.038149,
     "end_time": "2023-06-21T16:34:53.355503",
     "exception": false,
     "start_time": "2023-06-21T16:34:53.317354",
     "status": "completed"
    },
    "tags": []
   },
   "outputs": [
    {
     "name": "stdout",
     "output_type": "stream",
     "text": [
      "Available variable importances:\n",
      "\t NUM_AS_ROOT\n",
      "\t INV_MEAN_MIN_DEPTH\n",
      "\t SUM_SCORE\n",
      "\t NUM_NODES\n"
     ]
    }
   ],
   "source": [
    "inspector = models['fold_1'].make_inspector()\n",
    "\n",
    "print(f\"Available variable importances:\")\n",
    "for importance in inspector.variable_importances().keys():\n",
    "    print(\"\\t\", importance)"
   ]
  },
  {
   "cell_type": "code",
   "execution_count": 22,
   "id": "51949cca",
   "metadata": {
    "execution": {
     "iopub.execute_input": "2023-06-21T16:34:53.404225Z",
     "iopub.status.busy": "2023-06-21T16:34:53.403418Z",
     "iopub.status.idle": "2023-06-21T16:34:53.412968Z",
     "shell.execute_reply": "2023-06-21T16:34:53.411936Z"
    },
    "papermill": {
     "duration": 0.036484,
     "end_time": "2023-06-21T16:34:53.415198",
     "exception": false,
     "start_time": "2023-06-21T16:34:53.378714",
     "status": "completed"
    },
    "tags": []
   },
   "outputs": [
    {
     "data": {
      "text/plain": [
       "[(\"DU\" (1; #32), 47.0),\n",
       " (\"DI\" (1; #29), 25.0),\n",
       " (\"DA\" (1; #25), 21.0),\n",
       " (\"AB\" (1; #0), 19.0),\n",
       " (\"FL\" (1; #47), 19.0),\n",
       " (\"GL\" (1; #55), 18.0),\n",
       " (\"BQ\" (1; #12), 16.0),\n",
       " (\"CR\" (1; #21), 16.0),\n",
       " (\"FD_\" (1; #44), 16.0),\n",
       " (\"CD_\" (1; #17), 14.0),\n",
       " (\"AF\" (1; #1), 13.0),\n",
       " (\"CC\" (1; #16), 8.0),\n",
       " (\"DF\" (1; #27), 7.0),\n",
       " (\"AR\" (1; #4), 6.0),\n",
       " (\"DH\" (1; #28), 6.0),\n",
       " (\"EB\" (1; #35), 6.0),\n",
       " (\"FI\" (1; #46), 6.0),\n",
       " (\"BC\" (1; #8), 5.0),\n",
       " (\"EH\" (1; #38), 5.0),\n",
       " (\"FR\" (1; #48), 5.0),\n",
       " (\"DE\" (1; #26), 4.0),\n",
       " (\"DL\" (1; #30), 4.0),\n",
       " (\"EE\" (1; #36), 4.0),\n",
       " (\"FE\" (1; #45), 4.0),\n",
       " (\"EU\" (1; #42), 3.0),\n",
       " (\"BN\" (1; #10), 2.0),\n",
       " (\"EL\" (1; #40), 1.0)]"
      ]
     },
     "execution_count": 22,
     "metadata": {},
     "output_type": "execute_result"
    }
   ],
   "source": [
    "# Each line is: (feature name, (index of the feature), importance score)\n",
    "inspector.variable_importances()[\"NUM_AS_ROOT\"]"
   ]
  },
  {
   "cell_type": "markdown",
   "id": "0b399ca2",
   "metadata": {
    "papermill": {
     "duration": 0.022949,
     "end_time": "2023-06-21T16:34:53.461342",
     "exception": false,
     "start_time": "2023-06-21T16:34:53.438393",
     "status": "completed"
    },
    "tags": []
   },
   "source": [
    "## Deep neural network"
   ]
  },
  {
   "cell_type": "code",
   "execution_count": 23,
   "id": "1876204c",
   "metadata": {
    "execution": {
     "iopub.execute_input": "2023-06-21T16:34:53.510255Z",
     "iopub.status.busy": "2023-06-21T16:34:53.509578Z",
     "iopub.status.idle": "2023-06-21T16:35:03.425015Z",
     "shell.execute_reply": "2023-06-21T16:35:03.423706Z"
    },
    "papermill": {
     "duration": 9.943033,
     "end_time": "2023-06-21T16:35:03.427730",
     "exception": false,
     "start_time": "2023-06-21T16:34:53.484697",
     "status": "completed"
    },
    "tags": []
   },
   "outputs": [
    {
     "name": "stdout",
     "output_type": "stream",
     "text": [
      "Epoch 1/200\n",
      "2/2 [==============================] - 2s 329ms/step - loss: 0.9207 - binary_accuracy: 0.4675 - val_loss: 0.7014 - val_binary_accuracy: 0.6968\n",
      "Epoch 2/200\n",
      "2/2 [==============================] - 0s 39ms/step - loss: 0.7422 - binary_accuracy: 0.6147 - val_loss: 3.0140 - val_binary_accuracy: 0.1742\n",
      "Epoch 3/200\n",
      "2/2 [==============================] - 0s 40ms/step - loss: 0.6377 - binary_accuracy: 0.7035 - val_loss: 4.1387 - val_binary_accuracy: 0.1742\n",
      "Epoch 4/200\n",
      "2/2 [==============================] - 0s 40ms/step - loss: 0.6021 - binary_accuracy: 0.7359 - val_loss: 4.1235 - val_binary_accuracy: 0.1742\n",
      "Epoch 5/200\n",
      "2/2 [==============================] - 0s 40ms/step - loss: 0.5238 - binary_accuracy: 0.7706 - val_loss: 3.8312 - val_binary_accuracy: 0.1742\n",
      "Epoch 6/200\n",
      "2/2 [==============================] - 0s 38ms/step - loss: 0.4567 - binary_accuracy: 0.8160 - val_loss: 3.3555 - val_binary_accuracy: 0.1742\n",
      "Epoch 7/200\n",
      "2/2 [==============================] - 0s 40ms/step - loss: 0.4266 - binary_accuracy: 0.8398 - val_loss: 3.0403 - val_binary_accuracy: 0.1742\n",
      "Epoch 8/200\n",
      "2/2 [==============================] - 0s 39ms/step - loss: 0.4553 - binary_accuracy: 0.7922 - val_loss: 2.8406 - val_binary_accuracy: 0.1742\n",
      "Epoch 9/200\n",
      "2/2 [==============================] - 0s 40ms/step - loss: 0.3999 - binary_accuracy: 0.8442 - val_loss: 2.6950 - val_binary_accuracy: 0.1742\n",
      "Epoch 10/200\n",
      "2/2 [==============================] - 0s 38ms/step - loss: 0.3332 - binary_accuracy: 0.8961 - val_loss: 2.5710 - val_binary_accuracy: 0.1742\n",
      "Epoch 11/200\n",
      "2/2 [==============================] - 0s 42ms/step - loss: 0.3698 - binary_accuracy: 0.8745 - val_loss: 2.3975 - val_binary_accuracy: 0.1742\n",
      "Epoch 12/200\n",
      "2/2 [==============================] - 0s 38ms/step - loss: 0.3225 - binary_accuracy: 0.8810 - val_loss: 2.2031 - val_binary_accuracy: 0.1742\n",
      "Epoch 13/200\n",
      "2/2 [==============================] - 0s 40ms/step - loss: 0.3065 - binary_accuracy: 0.8961 - val_loss: 2.0280 - val_binary_accuracy: 0.1742\n",
      "Epoch 14/200\n",
      "2/2 [==============================] - 0s 41ms/step - loss: 0.2813 - binary_accuracy: 0.9048 - val_loss: 1.9535 - val_binary_accuracy: 0.1742\n",
      "Epoch 15/200\n",
      "2/2 [==============================] - 0s 39ms/step - loss: 0.2948 - binary_accuracy: 0.9048 - val_loss: 1.9122 - val_binary_accuracy: 0.1806\n",
      "Epoch 16/200\n",
      "2/2 [==============================] - 0s 39ms/step - loss: 0.2370 - binary_accuracy: 0.9351 - val_loss: 1.9012 - val_binary_accuracy: 0.1871\n",
      "Epoch 17/200\n",
      "2/2 [==============================] - 0s 38ms/step - loss: 0.2838 - binary_accuracy: 0.9134 - val_loss: 1.9150 - val_binary_accuracy: 0.1871\n",
      "Epoch 18/200\n",
      "2/2 [==============================] - 0s 39ms/step - loss: 0.2215 - binary_accuracy: 0.9416 - val_loss: 1.8776 - val_binary_accuracy: 0.1871\n",
      "Epoch 19/200\n",
      "2/2 [==============================] - 0s 39ms/step - loss: 0.2573 - binary_accuracy: 0.9286 - val_loss: 1.7910 - val_binary_accuracy: 0.1935\n",
      "Epoch 20/200\n",
      "2/2 [==============================] - 0s 40ms/step - loss: 0.2231 - binary_accuracy: 0.9286 - val_loss: 1.7183 - val_binary_accuracy: 0.2065\n",
      "Epoch 21/200\n",
      "2/2 [==============================] - 0s 39ms/step - loss: 0.1920 - binary_accuracy: 0.9437 - val_loss: 1.5809 - val_binary_accuracy: 0.2258\n",
      "Epoch 22/200\n",
      "2/2 [==============================] - 0s 39ms/step - loss: 0.1963 - binary_accuracy: 0.9307 - val_loss: 1.4233 - val_binary_accuracy: 0.2903\n",
      "Epoch 23/200\n",
      "2/2 [==============================] - 0s 41ms/step - loss: 0.1990 - binary_accuracy: 0.9351 - val_loss: 1.2328 - val_binary_accuracy: 0.3613\n",
      "Epoch 24/200\n",
      "2/2 [==============================] - 0s 39ms/step - loss: 0.2067 - binary_accuracy: 0.9351 - val_loss: 1.1148 - val_binary_accuracy: 0.4258\n",
      "Epoch 25/200\n",
      "2/2 [==============================] - 0s 39ms/step - loss: 0.2186 - binary_accuracy: 0.9221 - val_loss: 1.0184 - val_binary_accuracy: 0.5032\n",
      "Epoch 26/200\n",
      "2/2 [==============================] - 0s 39ms/step - loss: 0.1748 - binary_accuracy: 0.9437 - val_loss: 0.9370 - val_binary_accuracy: 0.5226\n",
      "Epoch 27/200\n",
      "2/2 [==============================] - 0s 40ms/step - loss: 0.1759 - binary_accuracy: 0.9481 - val_loss: 0.8658 - val_binary_accuracy: 0.6194\n",
      "Epoch 28/200\n",
      "2/2 [==============================] - 0s 42ms/step - loss: 0.1394 - binary_accuracy: 0.9719 - val_loss: 0.8119 - val_binary_accuracy: 0.6774\n",
      "Epoch 29/200\n",
      "2/2 [==============================] - 0s 56ms/step - loss: 0.1529 - binary_accuracy: 0.9567 - val_loss: 0.7888 - val_binary_accuracy: 0.7097\n",
      "Epoch 30/200\n",
      "2/2 [==============================] - 0s 43ms/step - loss: 0.1281 - binary_accuracy: 0.9632 - val_loss: 0.7926 - val_binary_accuracy: 0.7097\n",
      "Epoch 31/200\n",
      "2/2 [==============================] - 0s 41ms/step - loss: 0.1612 - binary_accuracy: 0.9567 - val_loss: 0.7916 - val_binary_accuracy: 0.7161\n",
      "Epoch 32/200\n",
      "2/2 [==============================] - 0s 40ms/step - loss: 0.1359 - binary_accuracy: 0.9675 - val_loss: 0.7844 - val_binary_accuracy: 0.7355\n",
      "Epoch 33/200\n",
      "2/2 [==============================] - 0s 39ms/step - loss: 0.1299 - binary_accuracy: 0.9697 - val_loss: 0.7926 - val_binary_accuracy: 0.7355\n",
      "Epoch 34/200\n",
      "2/2 [==============================] - 0s 38ms/step - loss: 0.1181 - binary_accuracy: 0.9762 - val_loss: 0.7958 - val_binary_accuracy: 0.7419\n",
      "Epoch 35/200\n",
      "2/2 [==============================] - 0s 41ms/step - loss: 0.1239 - binary_accuracy: 0.9697 - val_loss: 0.7977 - val_binary_accuracy: 0.7355\n",
      "Epoch 36/200\n",
      "2/2 [==============================] - 0s 55ms/step - loss: 0.1098 - binary_accuracy: 0.9697 - val_loss: 0.7772 - val_binary_accuracy: 0.7548\n",
      "Epoch 37/200\n",
      "2/2 [==============================] - 0s 38ms/step - loss: 0.1174 - binary_accuracy: 0.9632 - val_loss: 0.7599 - val_binary_accuracy: 0.7548\n",
      "Epoch 38/200\n",
      "2/2 [==============================] - 0s 40ms/step - loss: 0.1175 - binary_accuracy: 0.9654 - val_loss: 0.7166 - val_binary_accuracy: 0.8000\n",
      "Epoch 39/200\n",
      "2/2 [==============================] - 0s 42ms/step - loss: 0.1084 - binary_accuracy: 0.9697 - val_loss: 0.6579 - val_binary_accuracy: 0.8452\n",
      "Epoch 40/200\n",
      "2/2 [==============================] - 0s 41ms/step - loss: 0.1058 - binary_accuracy: 0.9762 - val_loss: 0.6191 - val_binary_accuracy: 0.8516\n",
      "Epoch 41/200\n",
      "2/2 [==============================] - 0s 42ms/step - loss: 0.1352 - binary_accuracy: 0.9654 - val_loss: 0.5984 - val_binary_accuracy: 0.8645\n",
      "Epoch 42/200\n",
      "2/2 [==============================] - 0s 39ms/step - loss: 0.1153 - binary_accuracy: 0.9740 - val_loss: 0.5993 - val_binary_accuracy: 0.8645\n",
      "Epoch 43/200\n",
      "2/2 [==============================] - 0s 41ms/step - loss: 0.1017 - binary_accuracy: 0.9740 - val_loss: 0.5994 - val_binary_accuracy: 0.8645\n",
      "Epoch 44/200\n",
      "2/2 [==============================] - 0s 41ms/step - loss: 0.0893 - binary_accuracy: 0.9762 - val_loss: 0.6033 - val_binary_accuracy: 0.8645\n",
      "Epoch 45/200\n",
      "2/2 [==============================] - 0s 40ms/step - loss: 0.0834 - binary_accuracy: 0.9848 - val_loss: 0.6122 - val_binary_accuracy: 0.8645\n",
      "Epoch 46/200\n",
      "2/2 [==============================] - 0s 39ms/step - loss: 0.0894 - binary_accuracy: 0.9740 - val_loss: 0.6235 - val_binary_accuracy: 0.8645\n",
      "Epoch 47/200\n",
      "2/2 [==============================] - 0s 39ms/step - loss: 0.0839 - binary_accuracy: 0.9784 - val_loss: 0.6339 - val_binary_accuracy: 0.8645\n",
      "Epoch 48/200\n",
      "2/2 [==============================] - 0s 38ms/step - loss: 0.0836 - binary_accuracy: 0.9848 - val_loss: 0.6414 - val_binary_accuracy: 0.8645\n",
      "Epoch 49/200\n",
      "2/2 [==============================] - 0s 37ms/step - loss: 0.0765 - binary_accuracy: 0.9827 - val_loss: 0.6437 - val_binary_accuracy: 0.8645\n",
      "Epoch 50/200\n",
      "2/2 [==============================] - 0s 38ms/step - loss: 0.0703 - binary_accuracy: 0.9848 - val_loss: 0.6393 - val_binary_accuracy: 0.8645\n",
      "Epoch 51/200\n",
      "2/2 [==============================] - 0s 39ms/step - loss: 0.1810 - binary_accuracy: 0.9394 - val_loss: 0.6250 - val_binary_accuracy: 0.8710\n",
      "Epoch 52/200\n",
      "2/2 [==============================] - 0s 45ms/step - loss: 0.0646 - binary_accuracy: 0.9848 - val_loss: 0.6049 - val_binary_accuracy: 0.8839\n",
      "Epoch 53/200\n",
      "2/2 [==============================] - 0s 48ms/step - loss: 0.0668 - binary_accuracy: 0.9848 - val_loss: 0.5897 - val_binary_accuracy: 0.8839\n",
      "Epoch 54/200\n",
      "2/2 [==============================] - 0s 43ms/step - loss: 0.0671 - binary_accuracy: 0.9848 - val_loss: 0.5809 - val_binary_accuracy: 0.8903\n",
      "Epoch 55/200\n",
      "2/2 [==============================] - 0s 48ms/step - loss: 0.0696 - binary_accuracy: 0.9805 - val_loss: 0.5726 - val_binary_accuracy: 0.8903\n",
      "Epoch 56/200\n",
      "2/2 [==============================] - 0s 43ms/step - loss: 0.0875 - binary_accuracy: 0.9719 - val_loss: 0.5671 - val_binary_accuracy: 0.8903\n",
      "Epoch 57/200\n",
      "2/2 [==============================] - 0s 44ms/step - loss: 0.0547 - binary_accuracy: 0.9892 - val_loss: 0.5636 - val_binary_accuracy: 0.8903\n",
      "Epoch 58/200\n",
      "2/2 [==============================] - 0s 53ms/step - loss: 0.0604 - binary_accuracy: 0.9848 - val_loss: 0.5652 - val_binary_accuracy: 0.8968\n",
      "Epoch 59/200\n",
      "2/2 [==============================] - 0s 59ms/step - loss: 0.0632 - binary_accuracy: 0.9892 - val_loss: 0.5690 - val_binary_accuracy: 0.8968\n",
      "Epoch 60/200\n",
      "2/2 [==============================] - 0s 42ms/step - loss: 0.0583 - binary_accuracy: 0.9913 - val_loss: 0.5654 - val_binary_accuracy: 0.8903\n",
      "Epoch 61/200\n",
      "2/2 [==============================] - 0s 43ms/step - loss: 0.0724 - binary_accuracy: 0.9892 - val_loss: 0.5577 - val_binary_accuracy: 0.8903\n",
      "Epoch 62/200\n",
      "2/2 [==============================] - 0s 46ms/step - loss: 0.0729 - binary_accuracy: 0.9805 - val_loss: 0.5475 - val_binary_accuracy: 0.9032\n",
      "Epoch 63/200\n",
      "2/2 [==============================] - 0s 49ms/step - loss: 0.0403 - binary_accuracy: 0.9935 - val_loss: 0.5459 - val_binary_accuracy: 0.9032\n",
      "Epoch 64/200\n",
      "2/2 [==============================] - 0s 44ms/step - loss: 0.0722 - binary_accuracy: 0.9827 - val_loss: 0.5392 - val_binary_accuracy: 0.9097\n",
      "Epoch 65/200\n",
      "2/2 [==============================] - 0s 43ms/step - loss: 0.0496 - binary_accuracy: 0.9957 - val_loss: 0.5342 - val_binary_accuracy: 0.9097\n",
      "Epoch 66/200\n",
      "2/2 [==============================] - 0s 54ms/step - loss: 0.0582 - binary_accuracy: 0.9848 - val_loss: 0.5325 - val_binary_accuracy: 0.9097\n",
      "Epoch 67/200\n",
      "2/2 [==============================] - 0s 43ms/step - loss: 0.0553 - binary_accuracy: 0.9892 - val_loss: 0.5285 - val_binary_accuracy: 0.9032\n",
      "Epoch 68/200\n",
      "2/2 [==============================] - 0s 44ms/step - loss: 0.0594 - binary_accuracy: 0.9892 - val_loss: 0.5266 - val_binary_accuracy: 0.9032\n",
      "Epoch 69/200\n",
      "2/2 [==============================] - 0s 42ms/step - loss: 0.0573 - binary_accuracy: 0.9913 - val_loss: 0.5303 - val_binary_accuracy: 0.9032\n",
      "Epoch 70/200\n",
      "2/2 [==============================] - 0s 44ms/step - loss: 0.0400 - binary_accuracy: 0.9935 - val_loss: 0.5363 - val_binary_accuracy: 0.9097\n",
      "Epoch 71/200\n",
      "2/2 [==============================] - 0s 39ms/step - loss: 0.0354 - binary_accuracy: 0.9978 - val_loss: 0.5429 - val_binary_accuracy: 0.9097\n",
      "Epoch 72/200\n",
      "2/2 [==============================] - 0s 39ms/step - loss: 0.0387 - binary_accuracy: 0.9935 - val_loss: 0.5475 - val_binary_accuracy: 0.9097\n",
      "Epoch 73/200\n",
      "2/2 [==============================] - 0s 40ms/step - loss: 0.0328 - binary_accuracy: 0.9978 - val_loss: 0.5520 - val_binary_accuracy: 0.9161\n",
      "Epoch 74/200\n",
      "2/2 [==============================] - 0s 38ms/step - loss: 0.0453 - binary_accuracy: 0.9870 - val_loss: 0.5556 - val_binary_accuracy: 0.9161\n",
      "Epoch 75/200\n",
      "2/2 [==============================] - 0s 41ms/step - loss: 0.0492 - binary_accuracy: 0.9892 - val_loss: 0.5600 - val_binary_accuracy: 0.9097\n",
      "Epoch 76/200\n",
      "2/2 [==============================] - 0s 40ms/step - loss: 0.0403 - binary_accuracy: 0.9978 - val_loss: 0.5637 - val_binary_accuracy: 0.9097\n",
      "Epoch 77/200\n",
      "2/2 [==============================] - 0s 39ms/step - loss: 0.0443 - binary_accuracy: 0.9870 - val_loss: 0.5676 - val_binary_accuracy: 0.9097\n",
      "Epoch 78/200\n",
      "2/2 [==============================] - 0s 41ms/step - loss: 0.0389 - binary_accuracy: 0.9957 - val_loss: 0.5733 - val_binary_accuracy: 0.9097\n",
      "Epoch 79/200\n",
      "2/2 [==============================] - 0s 39ms/step - loss: 0.0355 - binary_accuracy: 0.9978 - val_loss: 0.5795 - val_binary_accuracy: 0.9097\n",
      "Epoch 80/200\n",
      "2/2 [==============================] - 0s 38ms/step - loss: 0.0368 - binary_accuracy: 0.9892 - val_loss: 0.5837 - val_binary_accuracy: 0.9097\n",
      "Epoch 81/200\n",
      "2/2 [==============================] - 0s 39ms/step - loss: 0.0507 - binary_accuracy: 0.9870 - val_loss: 0.5818 - val_binary_accuracy: 0.9097\n",
      "Epoch 82/200\n",
      "2/2 [==============================] - 0s 39ms/step - loss: 0.0422 - binary_accuracy: 0.9870 - val_loss: 0.5825 - val_binary_accuracy: 0.9161\n",
      "Epoch 83/200\n",
      "2/2 [==============================] - 0s 44ms/step - loss: 0.0421 - binary_accuracy: 0.9870 - val_loss: 0.5824 - val_binary_accuracy: 0.9161\n",
      "Epoch 84/200\n",
      "2/2 [==============================] - 0s 40ms/step - loss: 0.0374 - binary_accuracy: 0.9913 - val_loss: 0.5818 - val_binary_accuracy: 0.9161\n",
      "Epoch 85/200\n",
      "2/2 [==============================] - 0s 41ms/step - loss: 0.0374 - binary_accuracy: 0.9913 - val_loss: 0.5799 - val_binary_accuracy: 0.9161\n",
      "Epoch 86/200\n",
      "2/2 [==============================] - 0s 39ms/step - loss: 0.0301 - binary_accuracy: 0.9957 - val_loss: 0.5788 - val_binary_accuracy: 0.9161\n",
      "Epoch 87/200\n",
      "2/2 [==============================] - 0s 45ms/step - loss: 0.0345 - binary_accuracy: 0.9957 - val_loss: 0.5773 - val_binary_accuracy: 0.9161\n",
      "Epoch 88/200\n",
      "2/2 [==============================] - 0s 53ms/step - loss: 0.0290 - binary_accuracy: 0.9957 - val_loss: 0.5759 - val_binary_accuracy: 0.9161\n",
      "Epoch 89/200\n",
      "2/2 [==============================] - 0s 40ms/step - loss: 0.0239 - binary_accuracy: 1.0000 - val_loss: 0.5753 - val_binary_accuracy: 0.9161\n",
      "Epoch 90/200\n",
      "2/2 [==============================] - 0s 44ms/step - loss: 0.0254 - binary_accuracy: 0.9978 - val_loss: 0.5761 - val_binary_accuracy: 0.9161\n",
      "Epoch 91/200\n",
      "2/2 [==============================] - 0s 39ms/step - loss: 0.0202 - binary_accuracy: 1.0000 - val_loss: 0.5767 - val_binary_accuracy: 0.9097\n",
      "Epoch 92/200\n",
      "2/2 [==============================] - 0s 39ms/step - loss: 0.0289 - binary_accuracy: 0.9935 - val_loss: 0.5778 - val_binary_accuracy: 0.9032\n",
      "Epoch 93/200\n",
      "2/2 [==============================] - 0s 43ms/step - loss: 0.0286 - binary_accuracy: 0.9978 - val_loss: 0.5804 - val_binary_accuracy: 0.9032\n",
      "Epoch 94/200\n",
      "2/2 [==============================] - 0s 42ms/step - loss: 0.0385 - binary_accuracy: 0.9957 - val_loss: 0.5836 - val_binary_accuracy: 0.9032\n",
      "Epoch 95/200\n",
      "2/2 [==============================] - 0s 40ms/step - loss: 0.0254 - binary_accuracy: 0.9957 - val_loss: 0.5855 - val_binary_accuracy: 0.9032\n",
      "Epoch 96/200\n",
      "2/2 [==============================] - 0s 40ms/step - loss: 0.0380 - binary_accuracy: 0.9892 - val_loss: 0.5886 - val_binary_accuracy: 0.9032\n",
      "Epoch 97/200\n",
      "2/2 [==============================] - 0s 40ms/step - loss: 0.0275 - binary_accuracy: 0.9935 - val_loss: 0.5915 - val_binary_accuracy: 0.9032\n",
      "Epoch 98/200\n",
      "2/2 [==============================] - 0s 39ms/step - loss: 0.0226 - binary_accuracy: 0.9978 - val_loss: 0.5919 - val_binary_accuracy: 0.9032\n",
      "Epoch 99/200\n",
      "2/2 [==============================] - 0s 39ms/step - loss: 0.0370 - binary_accuracy: 0.9935 - val_loss: 0.5920 - val_binary_accuracy: 0.9032\n",
      "Epoch 100/200\n",
      "2/2 [==============================] - 0s 39ms/step - loss: 0.0247 - binary_accuracy: 0.9935 - val_loss: 0.5900 - val_binary_accuracy: 0.8968\n",
      "Epoch 101/200\n",
      "2/2 [==============================] - 0s 38ms/step - loss: 0.0230 - binary_accuracy: 0.9978 - val_loss: 0.5901 - val_binary_accuracy: 0.8968\n",
      "Epoch 102/200\n",
      "2/2 [==============================] - 0s 39ms/step - loss: 0.0270 - binary_accuracy: 0.9957 - val_loss: 0.5903 - val_binary_accuracy: 0.8968\n",
      "Epoch 103/200\n",
      "2/2 [==============================] - 0s 39ms/step - loss: 0.0295 - binary_accuracy: 0.9892 - val_loss: 0.5930 - val_binary_accuracy: 0.8968\n",
      "Epoch 104/200\n",
      "2/2 [==============================] - 0s 40ms/step - loss: 0.0243 - binary_accuracy: 0.9913 - val_loss: 0.5943 - val_binary_accuracy: 0.8968\n",
      "Epoch 105/200\n",
      "2/2 [==============================] - 0s 40ms/step - loss: 0.0157 - binary_accuracy: 1.0000 - val_loss: 0.5957 - val_binary_accuracy: 0.8903\n",
      "Epoch 106/200\n",
      "2/2 [==============================] - 0s 38ms/step - loss: 0.0218 - binary_accuracy: 0.9978 - val_loss: 0.5974 - val_binary_accuracy: 0.8903\n",
      "Epoch 107/200\n",
      "2/2 [==============================] - 0s 38ms/step - loss: 0.0261 - binary_accuracy: 0.9913 - val_loss: 0.6007 - val_binary_accuracy: 0.8968\n",
      "Epoch 108/200\n",
      "2/2 [==============================] - 0s 41ms/step - loss: 0.0223 - binary_accuracy: 0.9957 - val_loss: 0.6039 - val_binary_accuracy: 0.8903\n",
      "Epoch 109/200\n",
      "2/2 [==============================] - 0s 42ms/step - loss: 0.0180 - binary_accuracy: 1.0000 - val_loss: 0.6071 - val_binary_accuracy: 0.8903\n",
      "Epoch 110/200\n",
      "2/2 [==============================] - 0s 42ms/step - loss: 0.0250 - binary_accuracy: 0.9957 - val_loss: 0.6093 - val_binary_accuracy: 0.9032\n",
      "Epoch 111/200\n",
      "2/2 [==============================] - 0s 42ms/step - loss: 0.0170 - binary_accuracy: 0.9978 - val_loss: 0.6112 - val_binary_accuracy: 0.9032\n",
      "Epoch 112/200\n",
      "2/2 [==============================] - 0s 38ms/step - loss: 0.0237 - binary_accuracy: 0.9957 - val_loss: 0.6141 - val_binary_accuracy: 0.8968\n",
      "Epoch 113/200\n",
      "2/2 [==============================] - 0s 38ms/step - loss: 0.0165 - binary_accuracy: 0.9978 - val_loss: 0.6172 - val_binary_accuracy: 0.8968\n",
      "Epoch 114/200\n",
      "2/2 [==============================] - 0s 39ms/step - loss: 0.0234 - binary_accuracy: 0.9935 - val_loss: 0.6212 - val_binary_accuracy: 0.8968\n",
      "Epoch 115/200\n",
      "2/2 [==============================] - 0s 37ms/step - loss: 0.0188 - binary_accuracy: 0.9957 - val_loss: 0.6262 - val_binary_accuracy: 0.8968\n",
      "Epoch 116/200\n",
      "2/2 [==============================] - 0s 38ms/step - loss: 0.0176 - binary_accuracy: 0.9978 - val_loss: 0.6283 - val_binary_accuracy: 0.8968\n",
      "Epoch 117/200\n",
      "2/2 [==============================] - 0s 37ms/step - loss: 0.0597 - binary_accuracy: 0.9870 - val_loss: 0.6297 - val_binary_accuracy: 0.8903\n",
      "Epoch 118/200\n",
      "2/2 [==============================] - 0s 50ms/step - loss: 0.0145 - binary_accuracy: 1.0000 - val_loss: 0.6358 - val_binary_accuracy: 0.8903\n"
     ]
    },
    {
     "data": {
      "text/plain": [
       "<Axes: title={'center': 'Accuracy'}>"
      ]
     },
     "execution_count": 23,
     "metadata": {},
     "output_type": "execute_result"
    },
    {
     "data": {
      "image/png": "[encoded data removed]",
      "text/plain": [
       "<Figure size 640x480 with 1 Axes>"
      ]
     },
     "metadata": {},
     "output_type": "display_data"
    },
    {
     "data": {
      "image/png": "[encoded data removed]",
      "text/plain": [
       "<Figure size 640x480 with 1 Axes>"
      ]
     },
     "metadata": {},
     "output_type": "display_data"
    }
   ],
   "source": [
    "# Select only feature columns for training.\n",
    "# Maybe I should convert X and y to specific data type for tensorflow.\n",
    "X = dataset_df[NUM_FEATURE_COLUMNS]\n",
    "y = dataset_df[label]\n",
    "\n",
    "ISNA_COLUMNS = dataset_df.columns[dataset_df.isna().any()].to_list()\n",
    "X = X.drop(columns=ISNA_COLUMNS)\n",
    "\n",
    "# I should check what stratify do.\n",
    "X_train, X_valid, y_train, y_valid = train_test_split(X, y, stratify=y, train_size=0.75)\n",
    "\n",
    "dnn = tf.keras.Sequential([\n",
    "    layers.BatchNormalization(input_shape=[X.shape[1]]),\n",
    "    layers.Dense(256, activation='relu'),\n",
    "    layers.BatchNormalization(),\n",
    "    layers.Dropout(0.3),\n",
    "    layers.Dense(256, activation='relu'),\n",
    "    layers.BatchNormalization(),\n",
    "    layers.Dropout(0.3),\n",
    "    layers.Dense(1, activation='sigmoid')\n",
    "])\n",
    "\n",
    "# I need to review metrics later.\n",
    "dnn.compile(\n",
    "    optimizer='adam',\n",
    "    loss='binary_crossentropy',\n",
    "    metrics=['binary_accuracy']\n",
    ")\n",
    "\n",
    "early_stopping = tf.keras.callbacks.EarlyStopping(\n",
    "#     patience=5,\n",
    "    patience=50,\n",
    "    min_delta=0.001,\n",
    "    restore_best_weights=True,\n",
    ")\n",
    "\n",
    "# I need to review batch_size and epochs depending on the size of training data.\n",
    "# The model needs to train with small batch size\n",
    "history = dnn.fit(\n",
    "    X_train, y_train, validation_data=(X_valid, y_valid),\n",
    "#     batch_size=512,\n",
    "    batch_size=256,\n",
    "    epochs=200,\n",
    "    callbacks=[early_stopping],\n",
    ")\n",
    "\n",
    "history_df = pd.DataFrame(history.history)\n",
    "history_df.loc[:, ['loss', 'val_loss']].plot(title=\"Cross-entropy\")\n",
    "history_df.loc[:, ['binary_accuracy', 'val_binary_accuracy']].plot(title=\"Accuracy\")"
   ]
  },
  {
   "cell_type": "markdown",
   "id": "1c53a9f8",
   "metadata": {
    "papermill": {
     "duration": 0.054699,
     "end_time": "2023-06-21T16:35:03.538137",
     "exception": false,
     "start_time": "2023-06-21T16:35:03.483438",
     "status": "completed"
    },
    "tags": []
   },
   "source": [
    "## Submission"
   ]
  },
  {
   "cell_type": "code",
   "execution_count": 24,
   "id": "35131a27",
   "metadata": {
    "execution": {
     "iopub.execute_input": "2023-06-21T16:35:03.650642Z",
     "iopub.status.busy": "2023-06-21T16:35:03.650177Z",
     "iopub.status.idle": "2023-06-21T16:35:03.879730Z",
     "shell.execute_reply": "2023-06-21T16:35:03.878534Z"
    },
    "papermill": {
     "duration": 0.288844,
     "end_time": "2023-06-21T16:35:03.881993",
     "exception": false,
     "start_time": "2023-06-21T16:35:03.593149",
     "status": "completed"
    },
    "tags": []
   },
   "outputs": [
    {
     "name": "stdout",
     "output_type": "stream",
     "text": [
      "Warning: Some of the feature names have been changed automatically to be compatible with SavedModels because fix_feature_names=True.\n",
      "1/1 [==============================] - 0s 135ms/step\n",
      "[[0.65333357, 0.34666643], [0.65333357, 0.34666643], [0.65333357, 0.34666643], [0.65333357, 0.34666643], [0.65333357, 0.34666643]]\n"
     ]
    }
   ],
   "source": [
    "test_df = pd.read_csv('/kaggle/input/icr-identify-age-related-conditions/test.csv')\n",
    "test_ds_pd = test_df\n",
    "test_df_columns = test_ds_pd.columns.to_list()\n",
    "TEST_FEATURE_COLUMNS = [i for i in FEATURE_COLUMNS if i in test_df_columns and i != \"Class\"]\n",
    "test_ds_pd = test_ds_pd[TEST_FEATURE_COLUMNS]\n",
    "test_ds = tfdf.keras.pd_dataframe_to_tf_dataset(test_ds_pd)\n",
    "predictions = models['fold_1'].predict(test_ds)\n",
    "n_predictions = [[round(abs(i-1), 8), i] for i in predictions.ravel()]\n",
    "print(n_predictions)"
   ]
  },
  {
   "cell_type": "code",
   "execution_count": 25,
   "id": "73a1c1b3",
   "metadata": {
    "execution": {
     "iopub.execute_input": "2023-06-21T16:35:03.994455Z",
     "iopub.status.busy": "2023-06-21T16:35:03.994063Z",
     "iopub.status.idle": "2023-06-21T16:35:04.011443Z",
     "shell.execute_reply": "2023-06-21T16:35:04.010606Z"
    },
    "papermill": {
     "duration": 0.076809,
     "end_time": "2023-06-21T16:35:04.013967",
     "exception": false,
     "start_time": "2023-06-21T16:35:03.937158",
     "status": "completed"
    },
    "tags": []
   },
   "outputs": [],
   "source": [
    "sample_submission = pd.read_csv(\"/kaggle/input/icr-identify-age-related-conditions/sample_submission.csv\")\n",
    "sample_submission[['class_0', 'class_1']] = n_predictions\n",
    "sample_submission.to_csv('/kaggle/working/submission.csv', index=False)"
   ]
  },
  {
   "cell_type": "markdown",
   "id": "d6dcbd5f",
   "metadata": {
    "papermill": {
     "duration": 0.055811,
     "end_time": "2023-06-21T16:35:04.125658",
     "exception": false,
     "start_time": "2023-06-21T16:35:04.069847",
     "status": "completed"
    },
    "tags": []
   },
   "source": [
    "## Submission - Deep neural network"
   ]
  },
  {
   "cell_type": "code",
   "execution_count": 26,
   "id": "bdce28bf",
   "metadata": {
    "execution": {
     "iopub.execute_input": "2023-06-21T16:35:04.240136Z",
     "iopub.status.busy": "2023-06-21T16:35:04.239502Z",
     "iopub.status.idle": "2023-06-21T16:35:04.468273Z",
     "shell.execute_reply": "2023-06-21T16:35:04.466952Z"
    },
    "papermill": {
     "duration": 0.289035,
     "end_time": "2023-06-21T16:35:04.470634",
     "exception": false,
     "start_time": "2023-06-21T16:35:04.181599",
     "status": "completed"
    },
    "tags": []
   },
   "outputs": [
    {
     "name": "stdout",
     "output_type": "stream",
     "text": [
      "1/1 [==============================] - 0s 156ms/step\n",
      "[[0.50545853, 0.49454147], [0.50545853, 0.49454147], [0.50545853, 0.49454147], [0.50545853, 0.49454147], [0.50545853, 0.49454147]]\n"
     ]
    }
   ],
   "source": [
    "dnn_test_ds_pd = test_df\n",
    "DNN_TEST_FEATURE_COLUMNS = [i for i in NUM_FEATURE_COLUMNS if i not in ISNA_COLUMNS]\n",
    "dnn_test_ds_pd = dnn_test_ds_pd[DNN_TEST_FEATURE_COLUMNS]\n",
    "dnn_predictions = dnn.predict(dnn_test_ds_pd)\n",
    "dnn_n_predictions = [[round(abs(i-1), 8), i] for i in dnn_predictions.ravel()]\n",
    "print(dnn_n_predictions)"
   ]
  },
  {
   "cell_type": "code",
   "execution_count": 27,
   "id": "5cb2d758",
   "metadata": {
    "execution": {
     "iopub.execute_input": "2023-06-21T16:35:04.585280Z",
     "iopub.status.busy": "2023-06-21T16:35:04.584832Z",
     "iopub.status.idle": "2023-06-21T16:35:04.597083Z",
     "shell.execute_reply": "2023-06-21T16:35:04.595704Z"
    },
    "papermill": {
     "duration": 0.072144,
     "end_time": "2023-06-21T16:35:04.599801",
     "exception": false,
     "start_time": "2023-06-21T16:35:04.527657",
     "status": "completed"
    },
    "tags": []
   },
   "outputs": [],
   "source": [
    "dnn_submission = pd.read_csv(\"/kaggle/input/icr-identify-age-related-conditions/sample_submission.csv\")\n",
    "dnn_submission[['class_0', 'class_1']] = dnn_n_predictions\n",
    "dnn_submission.to_csv('/kaggle/working/submission.csv', index=False)"
   ]
  }
 ],
 "metadata": {
  "kernelspec": {
   "display_name": "Python 3",
   "language": "python",
   "name": "python3"
  },
  "language_info": {
   "codemirror_mode": {
    "name": "ipython",
    "version": 3
   },
   "file_extension": ".py",
   "mimetype": "text/x-python",
   "name": "python",
   "nbconvert_exporter": "python",
   "pygments_lexer": "ipython3",
   "version": "3.10.10"
  },
  "papermill": {
   "default_parameters": {},
   "duration": 94.209651,
   "end_time": "2023-06-21T16:35:07.277733",
   "environment_variables": {},
   "exception": null,
   "input_path": "__notebook__.ipynb",
   "output_path": "__notebook__.ipynb",
   "parameters": {},
   "start_time": "2023-06-21T16:33:33.068082",
   "version": "2.4.0"
  }
 },
 "nbformat": 4,
 "nbformat_minor": 5
}
