{
 "cells": [
  {
   "cell_type": "code",
   "execution_count": 1,
   "id": "4920cac4",
   "metadata": {
    "_cell_guid": "b1076dfc-b9ad-4769-8c92-a6c4dae69d19",
    "_uuid": "8f2839f25d086af736a60e9eeb907d3b93b6e0e5",
    "execution": {
     "iopub.execute_input": "2023-06-22T01:36:04.040894Z",
     "iopub.status.busy": "2023-06-22T01:36:04.040495Z",
     "iopub.status.idle": "2023-06-22T01:36:04.056123Z",
     "shell.execute_reply": "2023-06-22T01:36:04.054787Z"
    },
    "papermill": {
     "duration": 0.033181,
     "end_time": "2023-06-22T01:36:04.059081",
     "exception": false,
     "start_time": "2023-06-22T01:36:04.025900",
     "status": "completed"
    },
    "tags": []
   },
   "outputs": [
    {
     "name": "stdout",
     "output_type": "stream",
     "text": [
      "/kaggle/input/icr-identify-age-related-conditions/sample_submission.csv\n",
      "/kaggle/input/icr-identify-age-related-conditions/greeks.csv\n",
      "/kaggle/input/icr-identify-age-related-conditions/train.csv\n",
      "/kaggle/input/icr-identify-age-related-conditions/test.csv\n"
     ]
    }
   ],
   "source": [
    "# This Python 3 environment comes with many helpful analytics libraries installed\n",
    "# It is defined by the kaggle/python Docker image: https://github.com/kaggle/docker-python\n",
    "# For example, here's several helpful packages to load\n",
    "\n",
    "import numpy as np # linear algebra\n",
    "import pandas as pd # data processing, CSV file I/O (e.g. pd.read_csv)\n",
    "\n",
    "# Input data files are available in the read-only \"../input/\" directory\n",
    "# For example, running this (by clicking run or pressing Shift+Enter) will list all files under the input directory\n",
    "\n",
    "import os\n",
    "for dirname, _, filenames in os.walk('/kaggle/input'):\n",
    "    for filename in filenames:\n",
    "        print(os.path.join(dirname, filename))\n",
    "\n",
    "# You can write up to 20GB to the current directory (/kaggle/working/) that gets preserved as output when you create a version using \"Save & Run All\" \n",
    "# You can also write temporary files to /kaggle/temp/, but they won't be saved outside of the current session"
   ]
  },
  {
   "cell_type": "code",
   "execution_count": 2,
   "id": "ceb3c6cf",
   "metadata": {
    "execution": {
     "iopub.execute_input": "2023-06-22T01:36:04.087274Z",
     "iopub.status.busy": "2023-06-22T01:36:04.086799Z",
     "iopub.status.idle": "2023-06-22T01:36:17.449087Z",
     "shell.execute_reply": "2023-06-22T01:36:17.447679Z"
    },
    "papermill": {
     "duration": 13.380073,
     "end_time": "2023-06-22T01:36:17.452015",
     "exception": false,
     "start_time": "2023-06-22T01:36:04.071942",
     "status": "completed"
    },
    "tags": []
   },
   "outputs": [
    {
     "name": "stderr",
     "output_type": "stream",
     "text": [
      "/opt/conda/lib/python3.10/site-packages/tensorflow_io/python/ops/__init__.py:98: UserWarning: unable to load libtensorflow_io_plugins.so: unable to open file: libtensorflow_io_plugins.so, from paths: ['/opt/conda/lib/python3.10/site-packages/tensorflow_io/python/ops/libtensorflow_io_plugins.so']\n",
      "caused by: ['/opt/conda/lib/python3.10/site-packages/tensorflow_io/python/ops/libtensorflow_io_plugins.so: undefined symbol: _ZN3tsl6StatusC1EN10tensorflow5error4CodeESt17basic_string_viewIcSt11char_traitsIcEENS_14SourceLocationE']\n",
      "  warnings.warn(f\"unable to load libtensorflow_io_plugins.so: {e}\")\n",
      "/opt/conda/lib/python3.10/site-packages/tensorflow_io/python/ops/__init__.py:104: UserWarning: file system plugins are not loaded: unable to open file: libtensorflow_io.so, from paths: ['/opt/conda/lib/python3.10/site-packages/tensorflow_io/python/ops/libtensorflow_io.so']\n",
      "caused by: ['/opt/conda/lib/python3.10/site-packages/tensorflow_io/python/ops/libtensorflow_io.so: undefined symbol: _ZTVN10tensorflow13GcsFileSystemE']\n",
      "  warnings.warn(f\"file system plugins are not loaded: {e}\")\n"
     ]
    }
   ],
   "source": [
    "import tensorflow as tf\n",
    "import tensorflow_decision_forests as tfdf\n",
    "import pandas as pd\n",
    "import numpy as np\n",
    "import seaborn as sns\n",
    "import matplotlib.pyplot as plt\n",
    "\n",
    "from sklearn.model_selection import KFold\n",
    "\n",
    "# For deep neural network\n",
    "from sklearn.model_selection import train_test_split\n",
    "from tensorflow.keras import layers"
   ]
  },
  {
   "cell_type": "code",
   "execution_count": 3,
   "id": "a334fe78",
   "metadata": {
    "execution": {
     "iopub.execute_input": "2023-06-22T01:36:17.484480Z",
     "iopub.status.busy": "2023-06-22T01:36:17.483340Z",
     "iopub.status.idle": "2023-06-22T01:36:17.491561Z",
     "shell.execute_reply": "2023-06-22T01:36:17.489771Z"
    },
    "papermill": {
     "duration": 0.027963,
     "end_time": "2023-06-22T01:36:17.494544",
     "exception": false,
     "start_time": "2023-06-22T01:36:17.466581",
     "status": "completed"
    },
    "tags": []
   },
   "outputs": [
    {
     "name": "stdout",
     "output_type": "stream",
     "text": [
      "Tensorflow v2.12.0\n",
      "Tensorflow Decision Forests v1.3.0\n"
     ]
    }
   ],
   "source": [
    "print(\"Tensorflow v\" + tf.__version__)\n",
    "print(\"Tensorflow Decision Forests v\" + tfdf.__version__)"
   ]
  },
  {
   "cell_type": "markdown",
   "id": "4fb129c0",
   "metadata": {
    "papermill": {
     "duration": 0.013193,
     "end_time": "2023-06-22T01:36:17.520673",
     "exception": false,
     "start_time": "2023-06-22T01:36:17.507480",
     "status": "completed"
    },
    "tags": []
   },
   "source": [
    "## Load the Dataset"
   ]
  },
  {
   "cell_type": "code",
   "execution_count": 4,
   "id": "4f05a910",
   "metadata": {
    "execution": {
     "iopub.execute_input": "2023-06-22T01:36:17.549441Z",
     "iopub.status.busy": "2023-06-22T01:36:17.548716Z",
     "iopub.status.idle": "2023-06-22T01:36:17.590635Z",
     "shell.execute_reply": "2023-06-22T01:36:17.588984Z"
    },
    "papermill": {
     "duration": 0.058791,
     "end_time": "2023-06-22T01:36:17.593279",
     "exception": false,
     "start_time": "2023-06-22T01:36:17.534488",
     "status": "completed"
    },
    "tags": []
   },
   "outputs": [
    {
     "name": "stdout",
     "output_type": "stream",
     "text": [
      "Full train dataset shape is (617, 58)\n"
     ]
    }
   ],
   "source": [
    "dataset_df = pd.read_csv('/kaggle/input/icr-identify-age-related-conditions/train.csv')\n",
    "print(\"Full train dataset shape is {}\".format(dataset_df.shape))"
   ]
  },
  {
   "cell_type": "code",
   "execution_count": 5,
   "id": "128b0c7f",
   "metadata": {
    "execution": {
     "iopub.execute_input": "2023-06-22T01:36:17.620808Z",
     "iopub.status.busy": "2023-06-22T01:36:17.620378Z",
     "iopub.status.idle": "2023-06-22T01:36:17.673254Z",
     "shell.execute_reply": "2023-06-22T01:36:17.672282Z"
    },
    "papermill": {
     "duration": 0.069204,
     "end_time": "2023-06-22T01:36:17.675466",
     "exception": false,
     "start_time": "2023-06-22T01:36:17.606262",
     "status": "completed"
    },
    "tags": []
   },
   "outputs": [
    {
     "data": {
      "text/html": [
       "<div>\n",
       "<style scoped>\n",
       "    .dataframe tbody tr th:only-of-type {\n",
       "        vertical-align: middle;\n",
       "    }\n",
       "\n",
       "    .dataframe tbody tr th {\n",
       "        vertical-align: top;\n",
       "    }\n",
       "\n",
       "    .dataframe thead th {\n",
       "        text-align: right;\n",
       "    }\n",
       "</style>\n",
       "<table border=\"1\" class=\"dataframe\">\n",
       "  <thead>\n",
       "    <tr style=\"text-align: right;\">\n",
       "      <th></th>\n",
       "      <th>Id</th>\n",
       "      <th>AB</th>\n",
       "      <th>AF</th>\n",
       "      <th>AH</th>\n",
       "      <th>AM</th>\n",
       "      <th>AR</th>\n",
       "      <th>AX</th>\n",
       "      <th>AY</th>\n",
       "      <th>AZ</th>\n",
       "      <th>BC</th>\n",
       "      <th>...</th>\n",
       "      <th>FL</th>\n",
       "      <th>FR</th>\n",
       "      <th>FS</th>\n",
       "      <th>GB</th>\n",
       "      <th>GE</th>\n",
       "      <th>GF</th>\n",
       "      <th>GH</th>\n",
       "      <th>GI</th>\n",
       "      <th>GL</th>\n",
       "      <th>Class</th>\n",
       "    </tr>\n",
       "  </thead>\n",
       "  <tbody>\n",
       "    <tr>\n",
       "      <th>0</th>\n",
       "      <td>000ff2bfdfe9</td>\n",
       "      <td>0.209377</td>\n",
       "      <td>3109.03329</td>\n",
       "      <td>85.200147</td>\n",
       "      <td>22.394407</td>\n",
       "      <td>8.138688</td>\n",
       "      <td>0.699861</td>\n",
       "      <td>0.025578</td>\n",
       "      <td>9.812214</td>\n",
       "      <td>5.555634</td>\n",
       "      <td>...</td>\n",
       "      <td>7.298162</td>\n",
       "      <td>1.73855</td>\n",
       "      <td>0.094822</td>\n",
       "      <td>11.339138</td>\n",
       "      <td>72.611063</td>\n",
       "      <td>2003.810319</td>\n",
       "      <td>22.136229</td>\n",
       "      <td>69.834944</td>\n",
       "      <td>0.120343</td>\n",
       "      <td>1</td>\n",
       "    </tr>\n",
       "    <tr>\n",
       "      <th>1</th>\n",
       "      <td>007255e47698</td>\n",
       "      <td>0.145282</td>\n",
       "      <td>978.76416</td>\n",
       "      <td>85.200147</td>\n",
       "      <td>36.968889</td>\n",
       "      <td>8.138688</td>\n",
       "      <td>3.632190</td>\n",
       "      <td>0.025578</td>\n",
       "      <td>13.517790</td>\n",
       "      <td>1.229900</td>\n",
       "      <td>...</td>\n",
       "      <td>0.173229</td>\n",
       "      <td>0.49706</td>\n",
       "      <td>0.568932</td>\n",
       "      <td>9.292698</td>\n",
       "      <td>72.611063</td>\n",
       "      <td>27981.562750</td>\n",
       "      <td>29.135430</td>\n",
       "      <td>32.131996</td>\n",
       "      <td>21.978000</td>\n",
       "      <td>0</td>\n",
       "    </tr>\n",
       "    <tr>\n",
       "      <th>2</th>\n",
       "      <td>013f2bd269f5</td>\n",
       "      <td>0.470030</td>\n",
       "      <td>2635.10654</td>\n",
       "      <td>85.200147</td>\n",
       "      <td>32.360553</td>\n",
       "      <td>8.138688</td>\n",
       "      <td>6.732840</td>\n",
       "      <td>0.025578</td>\n",
       "      <td>12.824570</td>\n",
       "      <td>1.229900</td>\n",
       "      <td>...</td>\n",
       "      <td>7.709560</td>\n",
       "      <td>0.97556</td>\n",
       "      <td>1.198821</td>\n",
       "      <td>37.077772</td>\n",
       "      <td>88.609437</td>\n",
       "      <td>13676.957810</td>\n",
       "      <td>28.022851</td>\n",
       "      <td>35.192676</td>\n",
       "      <td>0.196941</td>\n",
       "      <td>0</td>\n",
       "    </tr>\n",
       "    <tr>\n",
       "      <th>3</th>\n",
       "      <td>043ac50845d5</td>\n",
       "      <td>0.252107</td>\n",
       "      <td>3819.65177</td>\n",
       "      <td>120.201618</td>\n",
       "      <td>77.112203</td>\n",
       "      <td>8.138688</td>\n",
       "      <td>3.685344</td>\n",
       "      <td>0.025578</td>\n",
       "      <td>11.053708</td>\n",
       "      <td>1.229900</td>\n",
       "      <td>...</td>\n",
       "      <td>6.122162</td>\n",
       "      <td>0.49706</td>\n",
       "      <td>0.284466</td>\n",
       "      <td>18.529584</td>\n",
       "      <td>82.416803</td>\n",
       "      <td>2094.262452</td>\n",
       "      <td>39.948656</td>\n",
       "      <td>90.493248</td>\n",
       "      <td>0.155829</td>\n",
       "      <td>0</td>\n",
       "    </tr>\n",
       "    <tr>\n",
       "      <th>4</th>\n",
       "      <td>044fb8a146ec</td>\n",
       "      <td>0.380297</td>\n",
       "      <td>3733.04844</td>\n",
       "      <td>85.200147</td>\n",
       "      <td>14.103738</td>\n",
       "      <td>8.138688</td>\n",
       "      <td>3.942255</td>\n",
       "      <td>0.054810</td>\n",
       "      <td>3.396778</td>\n",
       "      <td>102.151980</td>\n",
       "      <td>...</td>\n",
       "      <td>8.153058</td>\n",
       "      <td>48.50134</td>\n",
       "      <td>0.121914</td>\n",
       "      <td>16.408728</td>\n",
       "      <td>146.109943</td>\n",
       "      <td>8524.370502</td>\n",
       "      <td>45.381316</td>\n",
       "      <td>36.262628</td>\n",
       "      <td>0.096614</td>\n",
       "      <td>1</td>\n",
       "    </tr>\n",
       "  </tbody>\n",
       "</table>\n",
       "<p>5 rows × 58 columns</p>\n",
       "</div>"
      ],
      "text/plain": [
       "             Id        AB          AF          AH         AM        AR  \\\n",
       "0  000ff2bfdfe9  0.209377  3109.03329   85.200147  22.394407  8.138688   \n",
       "1  007255e47698  0.145282   978.76416   85.200147  36.968889  8.138688   \n",
       "2  013f2bd269f5  0.470030  2635.10654   85.200147  32.360553  8.138688   \n",
       "3  043ac50845d5  0.252107  3819.65177  120.201618  77.112203  8.138688   \n",
       "4  044fb8a146ec  0.380297  3733.04844   85.200147  14.103738  8.138688   \n",
       "\n",
       "         AX        AY         AZ          BC  ...        FL        FR  \\\n",
       "0  0.699861  0.025578   9.812214    5.555634  ...  7.298162   1.73855   \n",
       "1  3.632190  0.025578  13.517790    1.229900  ...  0.173229   0.49706   \n",
       "2  6.732840  0.025578  12.824570    1.229900  ...  7.709560   0.97556   \n",
       "3  3.685344  0.025578  11.053708    1.229900  ...  6.122162   0.49706   \n",
       "4  3.942255  0.054810   3.396778  102.151980  ...  8.153058  48.50134   \n",
       "\n",
       "         FS         GB          GE            GF         GH         GI  \\\n",
       "0  0.094822  11.339138   72.611063   2003.810319  22.136229  69.834944   \n",
       "1  0.568932   9.292698   72.611063  27981.562750  29.135430  32.131996   \n",
       "2  1.198821  37.077772   88.609437  13676.957810  28.022851  35.192676   \n",
       "3  0.284466  18.529584   82.416803   2094.262452  39.948656  90.493248   \n",
       "4  0.121914  16.408728  146.109943   8524.370502  45.381316  36.262628   \n",
       "\n",
       "          GL  Class  \n",
       "0   0.120343      1  \n",
       "1  21.978000      0  \n",
       "2   0.196941      0  \n",
       "3   0.155829      0  \n",
       "4   0.096614      1  \n",
       "\n",
       "[5 rows x 58 columns]"
      ]
     },
     "execution_count": 5,
     "metadata": {},
     "output_type": "execute_result"
    }
   ],
   "source": [
    "dataset_df.head()"
   ]
  },
  {
   "cell_type": "markdown",
   "id": "3e4f2af3",
   "metadata": {
    "papermill": {
     "duration": 0.013456,
     "end_time": "2023-06-22T01:36:17.702414",
     "exception": false,
     "start_time": "2023-06-22T01:36:17.688958",
     "status": "completed"
    },
    "tags": []
   },
   "source": [
    "## Quick basic dataset exploration"
   ]
  },
  {
   "cell_type": "code",
   "execution_count": 6,
   "id": "2ee2694f",
   "metadata": {
    "execution": {
     "iopub.execute_input": "2023-06-22T01:36:17.732169Z",
     "iopub.status.busy": "2023-06-22T01:36:17.731463Z",
     "iopub.status.idle": "2023-06-22T01:36:17.915216Z",
     "shell.execute_reply": "2023-06-22T01:36:17.913753Z"
    },
    "papermill": {
     "duration": 0.20174,
     "end_time": "2023-06-22T01:36:17.917992",
     "exception": false,
     "start_time": "2023-06-22T01:36:17.716252",
     "status": "completed"
    },
    "tags": []
   },
   "outputs": [
    {
     "data": {
      "text/html": [
       "<div>\n",
       "<style scoped>\n",
       "    .dataframe tbody tr th:only-of-type {\n",
       "        vertical-align: middle;\n",
       "    }\n",
       "\n",
       "    .dataframe tbody tr th {\n",
       "        vertical-align: top;\n",
       "    }\n",
       "\n",
       "    .dataframe thead th {\n",
       "        text-align: right;\n",
       "    }\n",
       "</style>\n",
       "<table border=\"1\" class=\"dataframe\">\n",
       "  <thead>\n",
       "    <tr style=\"text-align: right;\">\n",
       "      <th></th>\n",
       "      <th>AB</th>\n",
       "      <th>AF</th>\n",
       "      <th>AH</th>\n",
       "      <th>AM</th>\n",
       "      <th>AR</th>\n",
       "      <th>AX</th>\n",
       "      <th>AY</th>\n",
       "      <th>AZ</th>\n",
       "      <th>BC</th>\n",
       "      <th>BD</th>\n",
       "      <th>...</th>\n",
       "      <th>FL</th>\n",
       "      <th>FR</th>\n",
       "      <th>FS</th>\n",
       "      <th>GB</th>\n",
       "      <th>GE</th>\n",
       "      <th>GF</th>\n",
       "      <th>GH</th>\n",
       "      <th>GI</th>\n",
       "      <th>GL</th>\n",
       "      <th>Class</th>\n",
       "    </tr>\n",
       "  </thead>\n",
       "  <tbody>\n",
       "    <tr>\n",
       "      <th>count</th>\n",
       "      <td>617.000000</td>\n",
       "      <td>617.000000</td>\n",
       "      <td>617.000000</td>\n",
       "      <td>617.000000</td>\n",
       "      <td>617.000000</td>\n",
       "      <td>617.000000</td>\n",
       "      <td>617.000000</td>\n",
       "      <td>617.000000</td>\n",
       "      <td>617.000000</td>\n",
       "      <td>617.000000</td>\n",
       "      <td>...</td>\n",
       "      <td>616.000000</td>\n",
       "      <td>617.000000</td>\n",
       "      <td>615.000000</td>\n",
       "      <td>617.000000</td>\n",
       "      <td>617.000000</td>\n",
       "      <td>617.000000</td>\n",
       "      <td>617.000000</td>\n",
       "      <td>617.000000</td>\n",
       "      <td>616.000000</td>\n",
       "      <td>617.000000</td>\n",
       "    </tr>\n",
       "    <tr>\n",
       "      <th>mean</th>\n",
       "      <td>0.477149</td>\n",
       "      <td>3502.013221</td>\n",
       "      <td>118.624513</td>\n",
       "      <td>38.968552</td>\n",
       "      <td>10.128242</td>\n",
       "      <td>5.545576</td>\n",
       "      <td>0.060320</td>\n",
       "      <td>10.566447</td>\n",
       "      <td>8.053012</td>\n",
       "      <td>5350.388655</td>\n",
       "      <td>...</td>\n",
       "      <td>5.433199</td>\n",
       "      <td>3.533905</td>\n",
       "      <td>0.421501</td>\n",
       "      <td>20.724856</td>\n",
       "      <td>131.714987</td>\n",
       "      <td>14679.595398</td>\n",
       "      <td>31.489716</td>\n",
       "      <td>50.584437</td>\n",
       "      <td>8.530961</td>\n",
       "      <td>0.175041</td>\n",
       "    </tr>\n",
       "    <tr>\n",
       "      <th>std</th>\n",
       "      <td>0.468388</td>\n",
       "      <td>2300.322717</td>\n",
       "      <td>127.838950</td>\n",
       "      <td>69.728226</td>\n",
       "      <td>10.518877</td>\n",
       "      <td>2.551696</td>\n",
       "      <td>0.416817</td>\n",
       "      <td>4.350645</td>\n",
       "      <td>65.166943</td>\n",
       "      <td>3021.326641</td>\n",
       "      <td>...</td>\n",
       "      <td>11.496257</td>\n",
       "      <td>50.181948</td>\n",
       "      <td>1.305365</td>\n",
       "      <td>9.991907</td>\n",
       "      <td>144.181524</td>\n",
       "      <td>19352.959387</td>\n",
       "      <td>9.864239</td>\n",
       "      <td>36.266251</td>\n",
       "      <td>10.327010</td>\n",
       "      <td>0.380310</td>\n",
       "    </tr>\n",
       "    <tr>\n",
       "      <th>min</th>\n",
       "      <td>0.081187</td>\n",
       "      <td>192.593280</td>\n",
       "      <td>85.200147</td>\n",
       "      <td>3.177522</td>\n",
       "      <td>8.138688</td>\n",
       "      <td>0.699861</td>\n",
       "      <td>0.025578</td>\n",
       "      <td>3.396778</td>\n",
       "      <td>1.229900</td>\n",
       "      <td>1693.624320</td>\n",
       "      <td>...</td>\n",
       "      <td>0.173229</td>\n",
       "      <td>0.497060</td>\n",
       "      <td>0.067730</td>\n",
       "      <td>4.102182</td>\n",
       "      <td>72.611063</td>\n",
       "      <td>13.038894</td>\n",
       "      <td>9.432735</td>\n",
       "      <td>0.897628</td>\n",
       "      <td>0.001129</td>\n",
       "      <td>0.000000</td>\n",
       "    </tr>\n",
       "    <tr>\n",
       "      <th>25%</th>\n",
       "      <td>0.252107</td>\n",
       "      <td>2197.345480</td>\n",
       "      <td>85.200147</td>\n",
       "      <td>12.270314</td>\n",
       "      <td>8.138688</td>\n",
       "      <td>4.128294</td>\n",
       "      <td>0.025578</td>\n",
       "      <td>8.129580</td>\n",
       "      <td>1.229900</td>\n",
       "      <td>4155.702870</td>\n",
       "      <td>...</td>\n",
       "      <td>0.173229</td>\n",
       "      <td>0.497060</td>\n",
       "      <td>0.067730</td>\n",
       "      <td>14.036718</td>\n",
       "      <td>72.611063</td>\n",
       "      <td>2798.992584</td>\n",
       "      <td>25.034888</td>\n",
       "      <td>23.011684</td>\n",
       "      <td>0.124392</td>\n",
       "      <td>0.000000</td>\n",
       "    </tr>\n",
       "    <tr>\n",
       "      <th>50%</th>\n",
       "      <td>0.354659</td>\n",
       "      <td>3120.318960</td>\n",
       "      <td>85.200147</td>\n",
       "      <td>20.533110</td>\n",
       "      <td>8.138688</td>\n",
       "      <td>5.031912</td>\n",
       "      <td>0.025578</td>\n",
       "      <td>10.461320</td>\n",
       "      <td>1.229900</td>\n",
       "      <td>4997.960730</td>\n",
       "      <td>...</td>\n",
       "      <td>3.028141</td>\n",
       "      <td>1.131000</td>\n",
       "      <td>0.250601</td>\n",
       "      <td>18.771436</td>\n",
       "      <td>72.611063</td>\n",
       "      <td>7838.273610</td>\n",
       "      <td>30.608946</td>\n",
       "      <td>41.007968</td>\n",
       "      <td>0.337827</td>\n",
       "      <td>0.000000</td>\n",
       "    </tr>\n",
       "    <tr>\n",
       "      <th>75%</th>\n",
       "      <td>0.559763</td>\n",
       "      <td>4361.637390</td>\n",
       "      <td>113.739540</td>\n",
       "      <td>39.139886</td>\n",
       "      <td>8.138688</td>\n",
       "      <td>6.431634</td>\n",
       "      <td>0.036845</td>\n",
       "      <td>12.969516</td>\n",
       "      <td>5.081244</td>\n",
       "      <td>6035.885700</td>\n",
       "      <td>...</td>\n",
       "      <td>6.238814</td>\n",
       "      <td>1.512060</td>\n",
       "      <td>0.535067</td>\n",
       "      <td>25.608406</td>\n",
       "      <td>127.591671</td>\n",
       "      <td>19035.709240</td>\n",
       "      <td>36.863947</td>\n",
       "      <td>67.931664</td>\n",
       "      <td>21.978000</td>\n",
       "      <td>0.000000</td>\n",
       "    </tr>\n",
       "    <tr>\n",
       "      <th>max</th>\n",
       "      <td>6.161666</td>\n",
       "      <td>28688.187660</td>\n",
       "      <td>1910.123198</td>\n",
       "      <td>630.518230</td>\n",
       "      <td>178.943634</td>\n",
       "      <td>38.270880</td>\n",
       "      <td>10.315851</td>\n",
       "      <td>38.971568</td>\n",
       "      <td>1463.693448</td>\n",
       "      <td>53060.599240</td>\n",
       "      <td>...</td>\n",
       "      <td>137.932739</td>\n",
       "      <td>1244.227020</td>\n",
       "      <td>31.365763</td>\n",
       "      <td>135.781294</td>\n",
       "      <td>1497.351958</td>\n",
       "      <td>143790.071200</td>\n",
       "      <td>81.210825</td>\n",
       "      <td>191.194764</td>\n",
       "      <td>21.978000</td>\n",
       "      <td>1.000000</td>\n",
       "    </tr>\n",
       "  </tbody>\n",
       "</table>\n",
       "<p>8 rows × 56 columns</p>\n",
       "</div>"
      ],
      "text/plain": [
       "               AB            AF           AH          AM          AR  \\\n",
       "count  617.000000    617.000000   617.000000  617.000000  617.000000   \n",
       "mean     0.477149   3502.013221   118.624513   38.968552   10.128242   \n",
       "std      0.468388   2300.322717   127.838950   69.728226   10.518877   \n",
       "min      0.081187    192.593280    85.200147    3.177522    8.138688   \n",
       "25%      0.252107   2197.345480    85.200147   12.270314    8.138688   \n",
       "50%      0.354659   3120.318960    85.200147   20.533110    8.138688   \n",
       "75%      0.559763   4361.637390   113.739540   39.139886    8.138688   \n",
       "max      6.161666  28688.187660  1910.123198  630.518230  178.943634   \n",
       "\n",
       "               AX          AY          AZ           BC           BD   ...  \\\n",
       "count  617.000000  617.000000  617.000000   617.000000    617.000000  ...   \n",
       "mean     5.545576    0.060320   10.566447     8.053012   5350.388655  ...   \n",
       "std      2.551696    0.416817    4.350645    65.166943   3021.326641  ...   \n",
       "min      0.699861    0.025578    3.396778     1.229900   1693.624320  ...   \n",
       "25%      4.128294    0.025578    8.129580     1.229900   4155.702870  ...   \n",
       "50%      5.031912    0.025578   10.461320     1.229900   4997.960730  ...   \n",
       "75%      6.431634    0.036845   12.969516     5.081244   6035.885700  ...   \n",
       "max     38.270880   10.315851   38.971568  1463.693448  53060.599240  ...   \n",
       "\n",
       "               FL           FR          FS          GB           GE  \\\n",
       "count  616.000000   617.000000  615.000000  617.000000   617.000000   \n",
       "mean     5.433199     3.533905    0.421501   20.724856   131.714987   \n",
       "std     11.496257    50.181948    1.305365    9.991907   144.181524   \n",
       "min      0.173229     0.497060    0.067730    4.102182    72.611063   \n",
       "25%      0.173229     0.497060    0.067730   14.036718    72.611063   \n",
       "50%      3.028141     1.131000    0.250601   18.771436    72.611063   \n",
       "75%      6.238814     1.512060    0.535067   25.608406   127.591671   \n",
       "max    137.932739  1244.227020   31.365763  135.781294  1497.351958   \n",
       "\n",
       "                  GF          GH          GI          GL       Class  \n",
       "count     617.000000  617.000000  617.000000  616.000000  617.000000  \n",
       "mean    14679.595398   31.489716   50.584437    8.530961    0.175041  \n",
       "std     19352.959387    9.864239   36.266251   10.327010    0.380310  \n",
       "min        13.038894    9.432735    0.897628    0.001129    0.000000  \n",
       "25%      2798.992584   25.034888   23.011684    0.124392    0.000000  \n",
       "50%      7838.273610   30.608946   41.007968    0.337827    0.000000  \n",
       "75%     19035.709240   36.863947   67.931664   21.978000    0.000000  \n",
       "max    143790.071200   81.210825  191.194764   21.978000    1.000000  \n",
       "\n",
       "[8 rows x 56 columns]"
      ]
     },
     "execution_count": 6,
     "metadata": {},
     "output_type": "execute_result"
    }
   ],
   "source": [
    "dataset_df.describe()"
   ]
  },
  {
   "cell_type": "markdown",
   "id": "4a665731",
   "metadata": {
    "papermill": {
     "duration": 0.014364,
     "end_time": "2023-06-22T01:36:17.946705",
     "exception": false,
     "start_time": "2023-06-22T01:36:17.932341",
     "status": "completed"
    },
    "tags": []
   },
   "source": [
    "## Pie chart for label column: Class"
   ]
  },
  {
   "cell_type": "code",
   "execution_count": 7,
   "id": "6643a334",
   "metadata": {
    "execution": {
     "iopub.execute_input": "2023-06-22T01:36:17.977753Z",
     "iopub.status.busy": "2023-06-22T01:36:17.976802Z",
     "iopub.status.idle": "2023-06-22T01:36:18.241671Z",
     "shell.execute_reply": "2023-06-22T01:36:18.239928Z"
    },
    "papermill": {
     "duration": 0.284454,
     "end_time": "2023-06-22T01:36:18.246056",
     "exception": false,
     "start_time": "2023-06-22T01:36:17.961602",
     "status": "completed"
    },
    "tags": []
   },
   "outputs": [
    {
     "data": {
      "text/plain": [
       "<Axes: ylabel='Class'>"
      ]
     },
     "execution_count": 7,
     "metadata": {},
     "output_type": "execute_result"
    },
    {
     "data": {
      "image/png": "[encoded data removed]",
      "text/plain": [
       "<Figure size 640x480 with 1 Axes>"
      ]
     },
     "metadata": {},
     "output_type": "display_data"
    }
   ],
   "source": [
    "plot_df = dataset_df.Class.value_counts()\n",
    "plot_df.plot(kind=\"pie\")"
   ]
  },
  {
   "cell_type": "markdown",
   "id": "9fee21ef",
   "metadata": {
    "papermill": {
     "duration": 0.023501,
     "end_time": "2023-06-22T01:36:18.301456",
     "exception": false,
     "start_time": "2023-06-22T01:36:18.277955",
     "status": "completed"
    },
    "tags": []
   },
   "source": [
    "## Numerical data distribution"
   ]
  },
  {
   "cell_type": "code",
   "execution_count": 8,
   "id": "7b30dc36",
   "metadata": {
    "execution": {
     "iopub.execute_input": "2023-06-22T01:36:18.332283Z",
     "iopub.status.busy": "2023-06-22T01:36:18.331612Z",
     "iopub.status.idle": "2023-06-22T01:36:18.336558Z",
     "shell.execute_reply": "2023-06-22T01:36:18.335433Z"
    },
    "papermill": {
     "duration": 0.023294,
     "end_time": "2023-06-22T01:36:18.339052",
     "exception": false,
     "start_time": "2023-06-22T01:36:18.315758",
     "status": "completed"
    },
    "tags": []
   },
   "outputs": [],
   "source": [
    "# Store all the numerical column names into a list\n",
    "NUM_FEATURE_COLUMNS = [i for i in dataset_df.columns if i not in [\"Id\", \"EJ\", \"Class\"]]"
   ]
  },
  {
   "cell_type": "code",
   "execution_count": 9,
   "id": "7275e291",
   "metadata": {
    "execution": {
     "iopub.execute_input": "2023-06-22T01:36:18.370822Z",
     "iopub.status.busy": "2023-06-22T01:36:18.370128Z",
     "iopub.status.idle": "2023-06-22T01:36:48.599037Z",
     "shell.execute_reply": "2023-06-22T01:36:48.598099Z"
    },
    "papermill": {
     "duration": 30.262912,
     "end_time": "2023-06-22T01:36:48.616599",
     "exception": false,
     "start_time": "2023-06-22T01:36:18.353687",
     "status": "completed"
    },
    "tags": []
   },
   "outputs": [
    {
     "data": {
      "image/png": "[encoded data removed]",
      "text/plain": [
       "<Figure size 1500x1500 with 6 Axes>"
      ]
     },
     "metadata": {},
     "output_type": "display_data"
    }
   ],
   "source": [
    "figure, axis = plt.subplots(3, 2, figsize=(15, 15))\n",
    "plt.subplots_adjust(hspace=0.25, wspace=0.3)\n",
    "\n",
    "for i, column_name in enumerate(NUM_FEATURE_COLUMNS[:6]):\n",
    "    row = i//2\n",
    "    col = i % 2\n",
    "    bp = sns.barplot(ax=axis[row, col], x=dataset_df['Id'], y=dataset_df[column_name])\n",
    "    bp.set(xticklabels=[])\n",
    "    axis[row, col].set_title(column_name)\n",
    "plt.show()"
   ]
  },
  {
   "cell_type": "code",
   "execution_count": 10,
   "id": "baf3d9f4",
   "metadata": {
    "execution": {
     "iopub.execute_input": "2023-06-22T01:36:48.649782Z",
     "iopub.status.busy": "2023-06-22T01:36:48.649339Z",
     "iopub.status.idle": "2023-06-22T01:36:48.655134Z",
     "shell.execute_reply": "2023-06-22T01:36:48.653472Z"
    },
    "papermill": {
     "duration": 0.026123,
     "end_time": "2023-06-22T01:36:48.657998",
     "exception": false,
     "start_time": "2023-06-22T01:36:48.631875",
     "status": "completed"
    },
    "tags": []
   },
   "outputs": [],
   "source": [
    "FEATURE_COLUMNS = [i for i in dataset_df.columns if i not in [\"Id\"]]"
   ]
  },
  {
   "cell_type": "markdown",
   "id": "14dfb3e8",
   "metadata": {
    "papermill": {
     "duration": 0.015212,
     "end_time": "2023-06-22T01:36:48.688722",
     "exception": false,
     "start_time": "2023-06-22T01:36:48.673510",
     "status": "completed"
    },
    "tags": []
   },
   "source": [
    "## KFold validation"
   ]
  },
  {
   "cell_type": "code",
   "execution_count": 11,
   "id": "f3144c0e",
   "metadata": {
    "execution": {
     "iopub.execute_input": "2023-06-22T01:36:48.721703Z",
     "iopub.status.busy": "2023-06-22T01:36:48.720699Z",
     "iopub.status.idle": "2023-06-22T01:36:48.726157Z",
     "shell.execute_reply": "2023-06-22T01:36:48.724744Z"
    },
    "papermill": {
     "duration": 0.02519,
     "end_time": "2023-06-22T01:36:48.729048",
     "exception": false,
     "start_time": "2023-06-22T01:36:48.703858",
     "status": "completed"
    },
    "tags": []
   },
   "outputs": [],
   "source": [
    "# Creates a GroupKFold with 5 splits\n",
    "kf = KFold(n_splits=5)"
   ]
  },
  {
   "cell_type": "markdown",
   "id": "e15d9062",
   "metadata": {
    "papermill": {
     "duration": 0.015113,
     "end_time": "2023-06-22T01:36:48.759611",
     "exception": false,
     "start_time": "2023-06-22T01:36:48.744498",
     "status": "completed"
    },
    "tags": []
   },
   "source": [
    "## Out of Fold (OOF)"
   ]
  },
  {
   "cell_type": "code",
   "execution_count": 12,
   "id": "f7b36b5e",
   "metadata": {
    "execution": {
     "iopub.execute_input": "2023-06-22T01:36:48.792225Z",
     "iopub.status.busy": "2023-06-22T01:36:48.791761Z",
     "iopub.status.idle": "2023-06-22T01:36:48.798942Z",
     "shell.execute_reply": "2023-06-22T01:36:48.797681Z"
    },
    "papermill": {
     "duration": 0.026394,
     "end_time": "2023-06-22T01:36:48.801451",
     "exception": false,
     "start_time": "2023-06-22T01:36:48.775057",
     "status": "completed"
    },
    "tags": []
   },
   "outputs": [],
   "source": [
    "# Create list of ids for the creation of oof dataframe\n",
    "ID_LIST = dataset_df.index\n",
    "\n",
    "# Create a dataframe of required size with zero values.\n",
    "oof = pd.DataFrame(data=np.zeros((len(ID_LIST),1)), index=ID_LIST)\n",
    "\n",
    "# Create an empty dictionary to store the models trained for each fold.\n",
    "models = {}\n",
    "\n",
    "# Create empty dict to save metrics for the models trained for each fold.\n",
    "accuracy = {}\n",
    "cross_entropy = {}\n",
    "\n",
    "# Save the name of the label column to a variable.\n",
    "label = \"Class\""
   ]
  },
  {
   "cell_type": "markdown",
   "id": "25fa4585",
   "metadata": {
    "papermill": {
     "duration": 0.015479,
     "end_time": "2023-06-22T01:36:48.832614",
     "exception": false,
     "start_time": "2023-06-22T01:36:48.817135",
     "status": "completed"
    },
    "tags": []
   },
   "source": [
    "## Select a Model"
   ]
  },
  {
   "cell_type": "code",
   "execution_count": 13,
   "id": "dd591a37",
   "metadata": {
    "execution": {
     "iopub.execute_input": "2023-06-22T01:36:48.866385Z",
     "iopub.status.busy": "2023-06-22T01:36:48.865599Z",
     "iopub.status.idle": "2023-06-22T01:36:48.872496Z",
     "shell.execute_reply": "2023-06-22T01:36:48.871369Z"
    },
    "papermill": {
     "duration": 0.027121,
     "end_time": "2023-06-22T01:36:48.874943",
     "exception": false,
     "start_time": "2023-06-22T01:36:48.847822",
     "status": "completed"
    },
    "tags": []
   },
   "outputs": [
    {
     "data": {
      "text/plain": [
       "[tensorflow_decision_forests.keras.RandomForestModel,\n",
       " tensorflow_decision_forests.keras.GradientBoostedTreesModel,\n",
       " tensorflow_decision_forests.keras.CartModel,\n",
       " tensorflow_decision_forests.keras.DistributedGradientBoostedTreesModel]"
      ]
     },
     "execution_count": 13,
     "metadata": {},
     "output_type": "execute_result"
    }
   ],
   "source": [
    "tfdf.keras.get_all_models()"
   ]
  },
  {
   "cell_type": "markdown",
   "id": "1279d60d",
   "metadata": {
    "papermill": {
     "duration": 0.015507,
     "end_time": "2023-06-22T01:36:48.905785",
     "exception": false,
     "start_time": "2023-06-22T01:36:48.890278",
     "status": "completed"
    },
    "tags": []
   },
   "source": [
    "## Strategies to handle the dataset imbalance"
   ]
  },
  {
   "cell_type": "code",
   "execution_count": 14,
   "id": "77eadbda",
   "metadata": {
    "execution": {
     "iopub.execute_input": "2023-06-22T01:36:48.938664Z",
     "iopub.status.busy": "2023-06-22T01:36:48.938213Z",
     "iopub.status.idle": "2023-06-22T01:36:48.945503Z",
     "shell.execute_reply": "2023-06-22T01:36:48.944154Z"
    },
    "papermill": {
     "duration": 0.026857,
     "end_time": "2023-06-22T01:36:48.948092",
     "exception": false,
     "start_time": "2023-06-22T01:36:48.921235",
     "status": "completed"
    },
    "tags": []
   },
   "outputs": [
    {
     "name": "stdout",
     "output_type": "stream",
     "text": [
      "Examples:\n",
      "    Total: 617\n",
      "    Positive: 108 (17.50% of total)\n",
      "\n"
     ]
    }
   ],
   "source": [
    "# Calculate the number of negative and positive values in `Class` column\n",
    "neg, pos = np.bincount(dataset_df['Class'])\n",
    "# Calculate total samples\n",
    "total = neg + pos\n",
    "print('Examples:\\n    Total: {}\\n    Positive: {} ({:.2f}% of total)\\n'.format(total, pos, 100 * pos / total))"
   ]
  },
  {
   "cell_type": "markdown",
   "id": "0ebfab70",
   "metadata": {
    "papermill": {
     "duration": 0.015314,
     "end_time": "2023-06-22T01:36:48.980066",
     "exception": false,
     "start_time": "2023-06-22T01:36:48.964752",
     "status": "completed"
    },
    "tags": []
   },
   "source": [
    "## Class weighting"
   ]
  },
  {
   "cell_type": "code",
   "execution_count": 15,
   "id": "b61f6ebb",
   "metadata": {
    "execution": {
     "iopub.execute_input": "2023-06-22T01:36:49.014962Z",
     "iopub.status.busy": "2023-06-22T01:36:49.014546Z",
     "iopub.status.idle": "2023-06-22T01:36:49.023102Z",
     "shell.execute_reply": "2023-06-22T01:36:49.021869Z"
    },
    "papermill": {
     "duration": 0.028337,
     "end_time": "2023-06-22T01:36:49.025792",
     "exception": false,
     "start_time": "2023-06-22T01:36:48.997455",
     "status": "completed"
    },
    "tags": []
   },
   "outputs": [
    {
     "name": "stdout",
     "output_type": "stream",
     "text": [
      "Weight for class 0: 0.61\n",
      "Weight for class 1: 2.86\n"
     ]
    }
   ],
   "source": [
    "# Calculate the number of samples for each label.\n",
    "neg, pos = np.bincount(dataset_df['Class'])\n",
    "\n",
    "# Calculate total samples.\n",
    "total = neg + pos\n",
    "\n",
    "# Calculate the weight for each label.\n",
    "weight_for_0 = (1 / neg) * (total / 2.0)\n",
    "weight_for_1 = (1 / pos) * (total / 2.0)\n",
    "\n",
    "class_weight = {0: weight_for_0, 1: weight_for_1}\n",
    "\n",
    "print('Weight for class 0: {:.2f}'.format(weight_for_0))\n",
    "print('Weight for class 1: {:.2f}'.format(weight_for_1))"
   ]
  },
  {
   "cell_type": "code",
   "execution_count": 16,
   "id": "c19f24ac",
   "metadata": {
    "execution": {
     "iopub.execute_input": "2023-06-22T01:36:49.058892Z",
     "iopub.status.busy": "2023-06-22T01:36:49.058417Z",
     "iopub.status.idle": "2023-06-22T01:37:13.861620Z",
     "shell.execute_reply": "2023-06-22T01:37:13.860280Z"
    },
    "papermill": {
     "duration": 24.823497,
     "end_time": "2023-06-22T01:37:13.864831",
     "exception": false,
     "start_time": "2023-06-22T01:36:49.041334",
     "status": "completed"
    },
    "tags": []
   },
   "outputs": [
    {
     "name": "stdout",
     "output_type": "stream",
     "text": [
      "##### Fold 1\n",
      "Warning: Some of the feature names have been changed automatically to be compatible with SavedModels because fix_feature_names=True.\n",
      "Warning: Some of the feature names have been changed automatically to be compatible with SavedModels because fix_feature_names=True.\n",
      "Use /tmp/tmpnpy1sxqw as temporary training directory\n",
      "Reading training dataset...\n",
      "Training dataset read in 0:00:08.325145. Found 493 examples.\n",
      "Training model...\n",
      "Model trained in 0:00:00.331802\n",
      "Compiling model...\n"
     ]
    },
    {
     "name": "stderr",
     "output_type": "stream",
     "text": [
      "[INFO 23-06-22 01:36:58.0315 UTC kernel.cc:1242] Loading model from path /tmp/tmpnpy1sxqw/model/ with prefix 28f2ead9759745a8\n",
      "[INFO 23-06-22 01:36:58.0923 UTC decision_forest.cc:660] Model loaded with 300 root(s), 14268 node(s), and 56 input feature(s).\n",
      "[INFO 23-06-22 01:36:58.0925 UTC abstract_model.cc:1311] Engine \"RandomForestOptPred\" built\n",
      "[INFO 23-06-22 01:36:58.0926 UTC kernel.cc:1074] Use fast generic engine\n"
     ]
    },
    {
     "name": "stdout",
     "output_type": "stream",
     "text": [
      "WARNING: AutoGraph could not transform <function simple_ml_inference_op_with_handle at 0x7b7ea9935900> and will run it as-is.\n",
      "Please report this to the TensorFlow team. When filing the bug, set the verbosity to 10 (on Linux, `export AUTOGRAPH_VERBOSITY=10`) and attach the full output.\n",
      "Cause: could not get source code\n",
      "To silence this warning, decorate the function with @tf.autograph.experimental.do_not_convert\n",
      "Model compiled.\n",
      "1/1 [==============================] - 0s 150ms/step\n",
      "1/1 [==============================] - 1s 810ms/step - loss: 0.0000e+00 - accuracy: 0.9516 - binary_crossentropy: 0.2182\n",
      "##### Fold 2\n",
      "Warning: Some of the feature names have been changed automatically to be compatible with SavedModels because fix_feature_names=True.\n",
      "Warning: Some of the feature names have been changed automatically to be compatible with SavedModels because fix_feature_names=True.\n",
      "Use /tmp/tmpnjds4fbs as temporary training directory\n",
      "Reading training dataset...\n",
      "Training dataset read in 0:00:01.084159. Found 493 examples.\n",
      "Training model...\n",
      "Model trained in 0:00:00.269288\n",
      "Compiling model...\n"
     ]
    },
    {
     "name": "stderr",
     "output_type": "stream",
     "text": [
      "[INFO 23-06-22 01:37:03.8260 UTC kernel.cc:1242] Loading model from path /tmp/tmpnjds4fbs/model/ with prefix a7f470c43d8f4043\n",
      "[INFO 23-06-22 01:37:03.8812 UTC decision_forest.cc:660] Model loaded with 300 root(s), 13582 node(s), and 56 input feature(s).\n",
      "[INFO 23-06-22 01:37:03.8814 UTC kernel.cc:1074] Use fast generic engine\n"
     ]
    },
    {
     "name": "stdout",
     "output_type": "stream",
     "text": [
      "Model compiled.\n",
      "1/1 [==============================] - 0s 147ms/step\n",
      "1/1 [==============================] - 0s 391ms/step - loss: 0.0000e+00 - accuracy: 0.8790 - binary_crossentropy: 0.2608\n",
      "##### Fold 3\n",
      "Warning: Some of the feature names have been changed automatically to be compatible with SavedModels because fix_feature_names=True.\n",
      "Warning: Some of the feature names have been changed automatically to be compatible with SavedModels because fix_feature_names=True.\n",
      "Use /tmp/tmpvaqk9w5q as temporary training directory\n",
      "Reading training dataset...\n",
      "Training dataset read in 0:00:01.713346. Found 494 examples.\n",
      "Training model...\n",
      "Model trained in 0:00:00.259597\n",
      "Compiling model...\n"
     ]
    },
    {
     "name": "stderr",
     "output_type": "stream",
     "text": [
      "[INFO 23-06-22 01:37:07.1562 UTC kernel.cc:1242] Loading model from path /tmp/tmpvaqk9w5q/model/ with prefix 1c67ca2aaa604be9\n",
      "[INFO 23-06-22 01:37:07.2084 UTC decision_forest.cc:660] Model loaded with 300 root(s), 13376 node(s), and 56 input feature(s).\n",
      "[INFO 23-06-22 01:37:07.2088 UTC kernel.cc:1074] Use fast generic engine\n"
     ]
    },
    {
     "name": "stdout",
     "output_type": "stream",
     "text": [
      "Model compiled.\n",
      "1/1 [==============================] - 0s 168ms/step\n",
      "1/1 [==============================] - 0s 390ms/step - loss: 0.0000e+00 - accuracy: 0.9024 - binary_crossentropy: 0.2741\n",
      "##### Fold 4\n",
      "Warning: Some of the feature names have been changed automatically to be compatible with SavedModels because fix_feature_names=True.\n",
      "Warning: Some of the feature names have been changed automatically to be compatible with SavedModels because fix_feature_names=True.\n",
      "Use /tmp/tmpglnc69_b as temporary training directory\n",
      "Reading training dataset...\n",
      "Training dataset read in 0:00:01.062767. Found 494 examples.\n",
      "Training model...\n",
      "Model trained in 0:00:00.263212\n",
      "Compiling model...\n"
     ]
    },
    {
     "name": "stderr",
     "output_type": "stream",
     "text": [
      "[INFO 23-06-22 01:37:09.9552 UTC kernel.cc:1242] Loading model from path /tmp/tmpglnc69_b/model/ with prefix 06703437b1a24722\n",
      "[INFO 23-06-22 01:37:10.0090 UTC decision_forest.cc:660] Model loaded with 300 root(s), 13434 node(s), and 56 input feature(s).\n",
      "[INFO 23-06-22 01:37:10.0091 UTC abstract_model.cc:1311] Engine \"RandomForestOptPred\" built\n",
      "[INFO 23-06-22 01:37:10.0091 UTC kernel.cc:1074] Use fast generic engine\n"
     ]
    },
    {
     "name": "stdout",
     "output_type": "stream",
     "text": [
      "Model compiled.\n",
      "1/1 [==============================] - 0s 145ms/step\n",
      "1/1 [==============================] - 0s 395ms/step - loss: 0.0000e+00 - accuracy: 0.9024 - binary_crossentropy: 0.2717\n",
      "##### Fold 5\n",
      "Warning: Some of the feature names have been changed automatically to be compatible with SavedModels because fix_feature_names=True.\n",
      "Warning: Some of the feature names have been changed automatically to be compatible with SavedModels because fix_feature_names=True.\n",
      "Use /tmp/tmpxpmgdcqe as temporary training directory\n",
      "Reading training dataset...\n",
      "Training dataset read in 0:00:01.111433. Found 494 examples.\n",
      "Training model...\n",
      "Model trained in 0:00:00.273784\n",
      "Compiling model...\n"
     ]
    },
    {
     "name": "stderr",
     "output_type": "stream",
     "text": [
      "[INFO 23-06-22 01:37:12.6665 UTC kernel.cc:1242] Loading model from path /tmp/tmpxpmgdcqe/model/ with prefix be6fecc8fc264859\n",
      "[INFO 23-06-22 01:37:12.7207 UTC decision_forest.cc:660] Model loaded with 300 root(s), 13980 node(s), and 56 input feature(s).\n",
      "[INFO 23-06-22 01:37:12.7208 UTC kernel.cc:1074] Use fast generic engine\n"
     ]
    },
    {
     "name": "stdout",
     "output_type": "stream",
     "text": [
      "Model compiled.\n",
      "1/1 [==============================] - 0s 144ms/step\n",
      "1/1 [==============================] - 0s 396ms/step - loss: 0.0000e+00 - accuracy: 0.9512 - binary_crossentropy: 0.2172\n"
     ]
    }
   ],
   "source": [
    "# Loop through each fold\n",
    "for i, (train_index, valid_index) in enumerate(kf.split(X=dataset_df)):\n",
    "    print('##### Fold',i+1)\n",
    "    \n",
    "    # Fetch values corresponding to the index\n",
    "    train_df = dataset_df.iloc[train_index]\n",
    "    valid_df = dataset_df.iloc[valid_index]\n",
    "    valid_ids = valid_df.index.values\n",
    "    \n",
    "    # Select only feature columns for training.\n",
    "    train_df = train_df[FEATURE_COLUMNS]\n",
    "    valid_df = valid_df[FEATURE_COLUMNS]\n",
    "    \n",
    "    # There's one more step required before we can train the model.\n",
    "    # We need to convert the dataset from Pandas format (pd.DataFrame)\n",
    "    # into Tensorflow Datasets format (tf.data.Dataset).\n",
    "    # Tensorflow Datasets is a high performance data loading library\n",
    "    # which is helpful when training neural networks with accelerators like GPUs and TPUs.\n",
    "    # Note: Some column names contains white spaces at the end of their name,\n",
    "    # which is non-compatible with SavedModels save format.\n",
    "    # By default, `pd_dataframe_to_tf_dataset` function will convert\n",
    "    # this column names into a compatible format.\n",
    "    # So you can safely ignore the warnings related to this.\n",
    "    train_ds = tfdf.keras.pd_dataframe_to_tf_dataset(train_df, label=label)\n",
    "    valid_ds = tfdf.keras.pd_dataframe_to_tf_dataset(valid_df, label=label)\n",
    "    \n",
    "    # Define the model and metrics\n",
    "    rf = tfdf.keras.RandomForestModel()\n",
    "    rf.compile(metrics=[\"accuracy\", \"binary_crossentropy\"])\n",
    "    \n",
    "    # Train the model\n",
    "    rf.fit(x=train_ds, class_weight=class_weight)\n",
    "    \n",
    "    # Store the model\n",
    "    models[f\"fold_{i+1}\"] = rf\n",
    "    \n",
    "    # Predict OOF value for validation data\n",
    "    predict = rf.predict(x=valid_ds)\n",
    "    \n",
    "    # Store the predictions in oof dataframe\n",
    "    oof.loc[valid_ids, 0] = predict.flatten()\n",
    "    \n",
    "    # Evaluate and store the metrics in respective dicts\n",
    "    evaluation = rf.evaluate(x=valid_ds,return_dict=True)\n",
    "    accuracy[f\"fold_{i+1}\"] = evaluation[\"accuracy\"]\n",
    "    cross_entropy[f\"fold_{i+1}\"] = evaluation[\"binary_crossentropy\"]"
   ]
  },
  {
   "cell_type": "markdown",
   "id": "c56e86e1",
   "metadata": {
    "papermill": {
     "duration": 0.028411,
     "end_time": "2023-06-22T01:37:13.917852",
     "exception": false,
     "start_time": "2023-06-22T01:37:13.889441",
     "status": "completed"
    },
    "tags": []
   },
   "source": [
    "## Visualize the model"
   ]
  },
  {
   "cell_type": "code",
   "execution_count": 17,
   "id": "a85c99ad",
   "metadata": {
    "execution": {
     "iopub.execute_input": "2023-06-22T01:37:13.971137Z",
     "iopub.status.busy": "2023-06-22T01:37:13.969911Z",
     "iopub.status.idle": "2023-06-22T01:37:13.986439Z",
     "shell.execute_reply": "2023-06-22T01:37:13.985151Z"
    },
    "papermill": {
     "duration": 0.043024,
     "end_time": "2023-06-22T01:37:13.989104",
     "exception": false,
     "start_time": "2023-06-22T01:37:13.946080",
     "status": "completed"
    },
    "tags": []
   },
   "outputs": [
    {
     "data": {
      "text/html": [
       "\n",
       "<script src=\"https://d3js.org/d3.v6.min.js\"></script>\n",
       "<div id=\"tree_plot_bc245bd5fb9b4336a4703dc5be653adf\"></div>\n",
       "<script>\n",
       "/*\n",
       " * Copyright 2021 Google LLC.\n",
       " * Licensed under the Apache License, Version 2.0 (the \"License\");\n",
       " * you may not use this file except in compliance with the License.\n",
       " * You may obtain a copy of the License at\n",
       " *\n",
       " *     https://www.apache.org/licenses/LICENSE-2.0\n",
       " *\n",
       " * Unless required by applicable law or agreed to in writing, software\n",
       " * distributed under the License is distributed on an \"AS IS\" BASIS,\n",
       " * WITHOUT WARRANTIES OR CONDITIONS OF ANY KIND, either express or implied.\n",
       " * See the License for the specific language governing permissions and\n",
       " * limitations under the License.\n",
       " */\n",
       "\n",
       "/**\n",
       " *  Plotting of decision trees generated by TF-DF.\n",
       " *\n",
       " *  A tree is a recursive structure of node objects.\n",
       " *  A node contains one or more of the following components:\n",
       " *\n",
       " *    - A value: Representing the output of the node. If the node is not a leaf,\n",
       " *      the value is only present for analysis i.e. it is not used for\n",
       " *      predictions.\n",
       " *\n",
       " *    - A condition : For non-leaf nodes, the condition (also known as split)\n",
       " *      defines a binary test to branch to the positive or negative child.\n",
       " *\n",
       " *    - An explanation: Generally a plot showing the relation between the label\n",
       " *      and the condition to give insights about the effect of the condition.\n",
       " *\n",
       " *    - Two children : For non-leaf nodes, the children nodes. The first\n",
       " *      children (i.e. \"node.children[0]\") is the negative children (drawn in\n",
       " *      red). The second children is the positive one (drawn in green).\n",
       " *\n",
       " */\n",
       "\n",
       "/**\n",
       " * Plots a single decision tree into a DOM element.\n",
       " * @param {!options} options Dictionary of configurations.\n",
       " * @param {!tree} raw_tree Recursive tree structure.\n",
       " * @param {string} canvas_id Id of the output dom element.\n",
       " */\n",
       "function display_tree(options, raw_tree, canvas_id) {\n",
       "  console.log(options);\n",
       "\n",
       "  // Determine the node placement.\n",
       "  const tree_struct = d3.tree().nodeSize(\n",
       "      [options.node_y_offset, options.node_x_offset])(d3.hierarchy(raw_tree));\n",
       "\n",
       "  // Boundaries of the node placement.\n",
       "  let x_min = Infinity;\n",
       "  let x_max = -x_min;\n",
       "  let y_min = Infinity;\n",
       "  let y_max = -x_min;\n",
       "\n",
       "  tree_struct.each(d => {\n",
       "    if (d.x > x_max) x_max = d.x;\n",
       "    if (d.x < x_min) x_min = d.x;\n",
       "    if (d.y > y_max) y_max = d.y;\n",
       "    if (d.y < y_min) y_min = d.y;\n",
       "  });\n",
       "\n",
       "  // Size of the plot.\n",
       "  const width = y_max - y_min + options.node_x_size + options.margin * 2;\n",
       "  const height = x_max - x_min + options.node_y_size + options.margin * 2 +\n",
       "      options.node_y_offset - options.node_y_size;\n",
       "\n",
       "  const plot = d3.select(canvas_id);\n",
       "\n",
       "  // Tool tip\n",
       "  options.tooltip = plot.append('div')\n",
       "                        .attr('width', 100)\n",
       "                        .attr('height', 100)\n",
       "                        .style('padding', '4px')\n",
       "                        .style('background', '#fff')\n",
       "                        .style('box-shadow', '4px 4px 0px rgba(0,0,0,0.1)')\n",
       "                        .style('border', '1px solid black')\n",
       "                        .style('font-family', 'sans-serif')\n",
       "                        .style('font-size', options.font_size)\n",
       "                        .style('position', 'absolute')\n",
       "                        .style('z-index', '10')\n",
       "                        .attr('pointer-events', 'none')\n",
       "                        .style('display', 'none');\n",
       "\n",
       "  // Create canvas\n",
       "  const svg = plot.append('svg').attr('width', width).attr('height', height);\n",
       "  const graph =\n",
       "      svg.style('overflow', 'visible')\n",
       "          .append('g')\n",
       "          .attr('font-family', 'sans-serif')\n",
       "          .attr('font-size', options.font_size)\n",
       "          .attr(\n",
       "              'transform',\n",
       "              () => `translate(${options.margin},${\n",
       "                  - x_min + options.node_y_offset / 2 + options.margin})`);\n",
       "\n",
       "  // Plot bounding box.\n",
       "  if (options.show_plot_bounding_box) {\n",
       "    svg.append('rect')\n",
       "        .attr('width', width)\n",
       "        .attr('height', height)\n",
       "        .attr('fill', 'none')\n",
       "        .attr('stroke-width', 1.0)\n",
       "        .attr('stroke', 'black');\n",
       "  }\n",
       "\n",
       "  // Draw the edges.\n",
       "  display_edges(options, graph, tree_struct);\n",
       "\n",
       "  // Draw the nodes.\n",
       "  display_nodes(options, graph, tree_struct);\n",
       "}\n",
       "\n",
       "/**\n",
       " * Draw the nodes of the tree.\n",
       " * @param {!options} options Dictionary of configurations.\n",
       " * @param {!graph} graph D3 search handle containing the graph.\n",
       " * @param {!tree_struct} tree_struct Structure of the tree (node placement,\n",
       " *     data, etc.).\n",
       " */\n",
       "function display_nodes(options, graph, tree_struct) {\n",
       "  const nodes = graph.append('g')\n",
       "                    .selectAll('g')\n",
       "                    .data(tree_struct.descendants())\n",
       "                    .join('g')\n",
       "                    .attr('transform', d => `translate(${d.y},${d.x})`);\n",
       "\n",
       "  nodes.append('rect')\n",
       "      .attr('x', 0.5)\n",
       "      .attr('y', 0.5)\n",
       "      .attr('width', options.node_x_size)\n",
       "      .attr('height', options.node_y_size)\n",
       "      .attr('stroke', 'lightgrey')\n",
       "      .attr('stroke-width', 1)\n",
       "      .attr('fill', 'white')\n",
       "      .attr('y', -options.node_y_size / 2);\n",
       "\n",
       "  // Brackets on the right of condition nodes without children.\n",
       "  non_leaf_node_without_children =\n",
       "      nodes.filter(node => node.data.condition != null && node.children == null)\n",
       "          .append('g')\n",
       "          .attr('transform', `translate(${options.node_x_size},0)`);\n",
       "\n",
       "  non_leaf_node_without_children.append('path')\n",
       "      .attr('d', 'M0,0 C 10,0 0,10 10,10')\n",
       "      .attr('fill', 'none')\n",
       "      .attr('stroke-width', 1.0)\n",
       "      .attr('stroke', '#F00');\n",
       "\n",
       "  non_leaf_node_without_children.append('path')\n",
       "      .attr('d', 'M0,0 C 10,0 0,-10 10,-10')\n",
       "      .attr('fill', 'none')\n",
       "      .attr('stroke-width', 1.0)\n",
       "      .attr('stroke', '#0F0');\n",
       "\n",
       "  const node_content = nodes.append('g').attr(\n",
       "      'transform',\n",
       "      `translate(0,${options.node_padding - options.node_y_size / 2})`);\n",
       "\n",
       "  node_content.append(node => create_node_element(options, node));\n",
       "}\n",
       "\n",
       "/**\n",
       " * Creates the D3 content for a single node.\n",
       " * @param {!options} options Dictionary of configurations.\n",
       " * @param {!node} node Node to draw.\n",
       " * @return {!d3} D3 content.\n",
       " */\n",
       "function create_node_element(options, node) {\n",
       "  // Output accumulator.\n",
       "  let output = {\n",
       "    // Content to draw.\n",
       "    content: d3.create('svg:g'),\n",
       "    // Vertical offset to the next element to draw.\n",
       "    vertical_offset: 0\n",
       "  };\n",
       "\n",
       "  // Conditions.\n",
       "  if (node.data.condition != null) {\n",
       "    display_condition(options, node.data.condition, output);\n",
       "  }\n",
       "\n",
       "  // Values.\n",
       "  if (node.data.value != null) {\n",
       "    display_value(options, node.data.value, output);\n",
       "  }\n",
       "\n",
       "  // Explanations.\n",
       "  if (node.data.explanation != null) {\n",
       "    display_explanation(options, node.data.explanation, output);\n",
       "  }\n",
       "\n",
       "  return output.content.node();\n",
       "}\n",
       "\n",
       "\n",
       "/**\n",
       " * Adds a single line of text inside of a node.\n",
       " * @param {!options} options Dictionary of configurations.\n",
       " * @param {string} text Text to display.\n",
       " * @param {!output} output Output display accumulator.\n",
       " */\n",
       "function display_node_text(options, text, output) {\n",
       "  output.content.append('text')\n",
       "      .attr('x', options.node_padding)\n",
       "      .attr('y', output.vertical_offset)\n",
       "      .attr('alignment-baseline', 'hanging')\n",
       "      .text(text);\n",
       "  output.vertical_offset += 10;\n",
       "}\n",
       "\n",
       "/**\n",
       " * Adds a single line of text inside of a node with a tooltip.\n",
       " * @param {!options} options Dictionary of configurations.\n",
       " * @param {string} text Text to display.\n",
       " * @param {string} tooltip Text in the Tooltip.\n",
       " * @param {!output} output Output display accumulator.\n",
       " */\n",
       "function display_node_text_with_tooltip(options, text, tooltip, output) {\n",
       "  const item = output.content.append('text')\n",
       "                   .attr('x', options.node_padding)\n",
       "                   .attr('alignment-baseline', 'hanging')\n",
       "                   .text(text);\n",
       "\n",
       "  add_tooltip(options, item, () => tooltip);\n",
       "  output.vertical_offset += 10;\n",
       "}\n",
       "\n",
       "/**\n",
       " * Adds a tooltip to a dom element.\n",
       " * @param {!options} options Dictionary of configurations.\n",
       " * @param {!dom} target Dom element to equip with a tooltip.\n",
       " * @param {!func} get_content Generates the html content of the tooltip.\n",
       " */\n",
       "function add_tooltip(options, target, get_content) {\n",
       "  function show(d) {\n",
       "    options.tooltip.style('display', 'block');\n",
       "    options.tooltip.html(get_content());\n",
       "  }\n",
       "\n",
       "  function hide(d) {\n",
       "    options.tooltip.style('display', 'none');\n",
       "  }\n",
       "\n",
       "  function move(d) {\n",
       "    options.tooltip.style('display', 'block');\n",
       "    options.tooltip.style('left', (d.pageX + 5) + 'px');\n",
       "    options.tooltip.style('top', d.pageY + 'px');\n",
       "  }\n",
       "\n",
       "  target.on('mouseover', show);\n",
       "  target.on('mouseout', hide);\n",
       "  target.on('mousemove', move);\n",
       "}\n",
       "\n",
       "/**\n",
       " * Adds a condition inside of a node.\n",
       " * @param {!options} options Dictionary of configurations.\n",
       " * @param {!condition} condition Condition to display.\n",
       " * @param {!output} output Output display accumulator.\n",
       " */\n",
       "function display_condition(options, condition, output) {\n",
       "  threshold_format = d3.format('r');\n",
       "\n",
       "  if (condition.type === 'IS_MISSING') {\n",
       "    display_node_text(options, `${condition.attribute} is missing`, output);\n",
       "    return;\n",
       "  }\n",
       "\n",
       "  if (condition.type === 'IS_TRUE') {\n",
       "    display_node_text(options, `${condition.attribute} is true`, output);\n",
       "    return;\n",
       "  }\n",
       "\n",
       "  if (condition.type === 'NUMERICAL_IS_HIGHER_THAN') {\n",
       "    format = d3.format('r');\n",
       "    display_node_text(\n",
       "        options,\n",
       "        `${condition.attribute} >= ${threshold_format(condition.threshold)}`,\n",
       "        output);\n",
       "    return;\n",
       "  }\n",
       "\n",
       "  if (condition.type === 'CATEGORICAL_IS_IN') {\n",
       "    display_node_text_with_tooltip(\n",
       "        options, `${condition.attribute} in [...]`,\n",
       "        `${condition.attribute} in [${condition.mask}]`, output);\n",
       "    return;\n",
       "  }\n",
       "\n",
       "  if (condition.type === 'CATEGORICAL_SET_CONTAINS') {\n",
       "    display_node_text_with_tooltip(\n",
       "        options, `${condition.attribute} intersect [...]`,\n",
       "        `${condition.attribute} intersect [${condition.mask}]`, output);\n",
       "    return;\n",
       "  }\n",
       "\n",
       "  if (condition.type === 'NUMERICAL_SPARSE_OBLIQUE') {\n",
       "    display_node_text_with_tooltip(\n",
       "        options, `Sparse oblique split...`,\n",
       "        `[${condition.attributes}]*[${condition.weights}]>=${\n",
       "            threshold_format(condition.threshold)}`,\n",
       "        output);\n",
       "    return;\n",
       "  }\n",
       "\n",
       "  display_node_text(\n",
       "      options, `Non supported condition ${condition.type}`, output);\n",
       "}\n",
       "\n",
       "/**\n",
       " * Adds a value inside of a node.\n",
       " * @param {!options} options Dictionary of configurations.\n",
       " * @param {!value} value Value to display.\n",
       " * @param {!output} output Output display accumulator.\n",
       " */\n",
       "function display_value(options, value, output) {\n",
       "  if (value.type === 'PROBABILITY') {\n",
       "    const left_margin = 0;\n",
       "    const right_margin = 50;\n",
       "    const plot_width = options.node_x_size - options.node_padding * 2 -\n",
       "        left_margin - right_margin;\n",
       "\n",
       "    let cusum = Array.from(d3.cumsum(value.distribution));\n",
       "    cusum.unshift(0);\n",
       "    const distribution_plot = output.content.append('g').attr(\n",
       "        'transform', `translate(0,${output.vertical_offset + 0.5})`);\n",
       "\n",
       "    distribution_plot.selectAll('rect')\n",
       "        .data(value.distribution)\n",
       "        .join('rect')\n",
       "        .attr('height', 10)\n",
       "        .attr(\n",
       "            'x',\n",
       "            (d, i) =>\n",
       "                (cusum[i] * plot_width + left_margin + options.node_padding))\n",
       "        .attr('width', (d, i) => d * plot_width)\n",
       "        .style('fill', (d, i) => d3.schemeSet1[i]);\n",
       "\n",
       "    const num_examples =\n",
       "        output.content.append('g')\n",
       "            .attr('transform', `translate(0,${output.vertical_offset})`)\n",
       "            .append('text')\n",
       "            .attr('x', options.node_x_size - options.node_padding)\n",
       "            .attr('alignment-baseline', 'hanging')\n",
       "            .attr('text-anchor', 'end')\n",
       "            .text(`(${value.num_examples})`);\n",
       "\n",
       "    const distribution_details = d3.create('ul');\n",
       "    distribution_details.selectAll('li')\n",
       "        .data(value.distribution)\n",
       "        .join('li')\n",
       "        .append('span')\n",
       "        .text(\n",
       "            (d, i) =>\n",
       "                'class ' + i + ': ' + d3.format('.3%')(value.distribution[i]));\n",
       "\n",
       "    add_tooltip(options, distribution_plot, () => distribution_details.html());\n",
       "    add_tooltip(options, num_examples, () => 'Number of examples');\n",
       "\n",
       "    output.vertical_offset += 10;\n",
       "    return;\n",
       "  }\n",
       "\n",
       "  if (value.type === 'REGRESSION') {\n",
       "    display_node_text(\n",
       "        options,\n",
       "        'value: ' + d3.format('r')(value.value) + ` (` +\n",
       "            d3.format('.6')(value.num_examples) + `)`,\n",
       "        output);\n",
       "    return;\n",
       "  }\n",
       "\n",
       "  display_node_text(options, `Non supported value ${value.type}`, output);\n",
       "}\n",
       "\n",
       "/**\n",
       " * Adds an explanation inside of a node.\n",
       " * @param {!options} options Dictionary of configurations.\n",
       " * @param {!explanation} explanation Explanation to display.\n",
       " * @param {!output} output Output display accumulator.\n",
       " */\n",
       "function display_explanation(options, explanation, output) {\n",
       "  // Margin before the explanation.\n",
       "  output.vertical_offset += 10;\n",
       "\n",
       "  display_node_text(\n",
       "      options, `Non supported explanation ${explanation.type}`, output);\n",
       "}\n",
       "\n",
       "\n",
       "/**\n",
       " * Draw the edges of the tree.\n",
       " * @param {!options} options Dictionary of configurations.\n",
       " * @param {!graph} graph D3 search handle containing the graph.\n",
       " * @param {!tree_struct} tree_struct Structure of the tree (node placement,\n",
       " *     data, etc.).\n",
       " */\n",
       "function display_edges(options, graph, tree_struct) {\n",
       "  // Draw an edge between a parent and a child node with a bezier.\n",
       "  function draw_single_edge(d) {\n",
       "    return 'M' + (d.source.y + options.node_x_size) + ',' + d.source.x + ' C' +\n",
       "        (d.source.y + options.node_x_size + options.edge_rounding) + ',' +\n",
       "        d.source.x + ' ' + (d.target.y - options.edge_rounding) + ',' +\n",
       "        d.target.x + ' ' + d.target.y + ',' + d.target.x;\n",
       "  }\n",
       "\n",
       "  graph.append('g')\n",
       "      .attr('fill', 'none')\n",
       "      .attr('stroke-width', 1.2)\n",
       "      .selectAll('path')\n",
       "      .data(tree_struct.links())\n",
       "      .join('path')\n",
       "      .attr('d', draw_single_edge)\n",
       "      .attr(\n",
       "          'stroke', d => (d.target === d.source.children[0]) ? '#0F0' : '#F00');\n",
       "}\n",
       "\n",
       "display_tree({\"margin\": 10, \"node_x_size\": 160, \"node_y_size\": 28, \"node_x_offset\": 180, \"node_y_offset\": 33, \"font_size\": 10, \"edge_rounding\": 20, \"node_padding\": 2, \"show_plot_bounding_box\": false}, {\"value\": {\"type\": \"PROBABILITY\", \"distribution\": [0.5227602930870747, 0.4772397069129253], \"num_examples\": 478.8338456749916}, \"condition\": {\"type\": \"NUMERICAL_IS_HIGHER_THAN\", \"attribute\": \"FR\", \"threshold\": 2.7061350345611572}, \"children\": [{\"value\": {\"type\": \"PROBABILITY\", \"distribution\": [0.014929499065309356, 0.9850705009346906], \"num_examples\": 40.59683209657669}, \"condition\": {\"type\": \"NUMERICAL_IS_HIGHER_THAN\", \"attribute\": \"CC\", \"threshold\": 0.6739449501037598}, \"children\": [{\"value\": {\"type\": \"PROBABILITY\", \"distribution\": [0.050373132637029645, 0.9496268673629703], \"num_examples\": 12.032016575336456}}, {\"value\": {\"type\": \"PROBABILITY\", \"distribution\": [0.0, 1.0], \"num_examples\": 28.564815521240234}}]}, {\"value\": {\"type\": \"PROBABILITY\", \"distribution\": [0.569804063557375, 0.43019593644262494], \"num_examples\": 438.2370135784149}, \"condition\": {\"type\": \"NUMERICAL_IS_HIGHER_THAN\", \"attribute\": \"DI\", \"threshold\": 268.67132568359375}, \"children\": [{\"value\": {\"type\": \"PROBABILITY\", \"distribution\": [0.06605504369032043, 0.9339449563096796], \"num_examples\": 45.877675116062164}, \"condition\": {\"type\": \"NUMERICAL_IS_HIGHER_THAN\", \"attribute\": \"EL\", \"threshold\": 85.41004180908203}, \"children\": [{\"value\": {\"type\": \"PROBABILITY\", \"distribution\": [0.0, 1.0], \"num_examples\": 31.421297073364258}}, {\"value\": {\"type\": \"PROBABILITY\", \"distribution\": [0.20962732333445935, 0.7903726766655407], \"num_examples\": 14.456378042697906}}]}, {\"value\": {\"type\": \"PROBABILITY\", \"distribution\": [0.628706277951115, 0.371293722048885], \"num_examples\": 392.35933846235275}, \"condition\": {\"type\": \"NUMERICAL_IS_HIGHER_THAN\", \"attribute\": \"FL\", \"threshold\": 10.433052062988281}, \"children\": [{\"value\": {\"type\": \"PROBABILITY\", \"distribution\": [0.13424047737713196, 0.865759522622868], \"num_examples\": 85.7842373251915}, \"condition\": {\"type\": \"NUMERICAL_IS_HIGHER_THAN\", \"attribute\": \"EG\", \"threshold\": 1536.67919921875}}, {\"value\": {\"type\": \"PROBABILITY\", \"distribution\": [0.767065105619419, 0.23293489438058096], \"num_examples\": 306.57510113716125}, \"condition\": {\"type\": \"NUMERICAL_IS_HIGHER_THAN\", \"attribute\": \"DN\", \"threshold\": 25.685535430908203}}]}]}]}, \"#tree_plot_bc245bd5fb9b4336a4703dc5be653adf\")\n",
       "</script>\n"
      ],
      "text/plain": [
       "<IPython.core.display.HTML object>"
      ]
     },
     "execution_count": 17,
     "metadata": {},
     "output_type": "execute_result"
    }
   ],
   "source": [
    "tfdf.model_plotter.plot_model_in_colab(models['fold_1'], tree_idx=0, max_depth=3)"
   ]
  },
  {
   "cell_type": "markdown",
   "id": "91b10b5f",
   "metadata": {
    "papermill": {
     "duration": 0.022316,
     "end_time": "2023-06-22T01:37:14.034801",
     "exception": false,
     "start_time": "2023-06-22T01:37:14.012485",
     "status": "completed"
    },
    "tags": []
   },
   "source": [
    "## Evaluate the model on the Out of bag (OOB) data and the validation dataset"
   ]
  },
  {
   "cell_type": "code",
   "execution_count": 18,
   "id": "48c7e472",
   "metadata": {
    "execution": {
     "iopub.execute_input": "2023-06-22T01:37:14.084300Z",
     "iopub.status.busy": "2023-06-22T01:37:14.083610Z",
     "iopub.status.idle": "2023-06-22T01:37:15.201816Z",
     "shell.execute_reply": "2023-06-22T01:37:15.200480Z"
    },
    "papermill": {
     "duration": 1.146627,
     "end_time": "2023-06-22T01:37:15.204926",
     "exception": false,
     "start_time": "2023-06-22T01:37:14.058299",
     "status": "completed"
    },
    "tags": []
   },
   "outputs": [
    {
     "data": {
      "image/png": "[encoded data removed]",
      "text/plain": [
       "<Figure size 1000x1000 with 6 Axes>"
      ]
     },
     "metadata": {},
     "output_type": "display_data"
    }
   ],
   "source": [
    "figure, axis = plt.subplots(3, 2, figsize=(10, 10))\n",
    "plt.subplots_adjust(hspace=0.5, wspace=0.3)\n",
    "\n",
    "for i, fold_no in enumerate(models.keys()):\n",
    "    row = i//2\n",
    "    col = i % 2\n",
    "    logs = models[fold_no].make_inspector().training_logs()\n",
    "    axis[row, col].plot([log.num_trees for log in logs], [log.evaluation.loss for log in logs])\n",
    "    axis[row, col].set_title(f\"Fold {i+1}\")\n",
    "    axis[row, col].set_xlabel('Number of trees')\n",
    "    axis[row, col].set_ylabel('Loss (out-of-bag)')\n",
    "    \n",
    "axis[2][1].set_visible(False)\n",
    "plt.show()"
   ]
  },
  {
   "cell_type": "code",
   "execution_count": 19,
   "id": "88026036",
   "metadata": {
    "execution": {
     "iopub.execute_input": "2023-06-22T01:37:15.254491Z",
     "iopub.status.busy": "2023-06-22T01:37:15.254053Z",
     "iopub.status.idle": "2023-06-22T01:37:15.270708Z",
     "shell.execute_reply": "2023-06-22T01:37:15.269154Z"
    },
    "papermill": {
     "duration": 0.044462,
     "end_time": "2023-06-22T01:37:15.273439",
     "exception": false,
     "start_time": "2023-06-22T01:37:15.228977",
     "status": "completed"
    },
    "tags": []
   },
   "outputs": [
    {
     "name": "stdout",
     "output_type": "stream",
     "text": [
      "fold_1 Evaluation(num_examples=493, accuracy=0.83384120423487, loss=0.4011864148867133, rmse=None, ndcg=None, aucs=None, auuc=None, qini=None)\n",
      "fold_2 Evaluation(num_examples=493, accuracy=0.86791143186256, loss=0.374230902610848, rmse=None, ndcg=None, aucs=None, auuc=None, qini=None)\n",
      "fold_3 Evaluation(num_examples=494, accuracy=0.8625237360976467, loss=0.39912028399338717, rmse=None, ndcg=None, aucs=None, auuc=None, qini=None)\n",
      "fold_4 Evaluation(num_examples=494, accuracy=0.8742180068903357, loss=0.38689070260817593, rmse=None, ndcg=None, aucs=None, auuc=None, qini=None)\n",
      "fold_5 Evaluation(num_examples=494, accuracy=0.8477430594687857, loss=0.39049966583287166, rmse=None, ndcg=None, aucs=None, auuc=None, qini=None)\n"
     ]
    }
   ],
   "source": [
    "for _model in models:\n",
    "    inspector = models[_model].make_inspector()\n",
    "    print(_model, inspector.evaluation())"
   ]
  },
  {
   "cell_type": "code",
   "execution_count": 20,
   "id": "e4838689",
   "metadata": {
    "execution": {
     "iopub.execute_input": "2023-06-22T01:37:15.323303Z",
     "iopub.status.busy": "2023-06-22T01:37:15.321954Z",
     "iopub.status.idle": "2023-06-22T01:37:15.330510Z",
     "shell.execute_reply": "2023-06-22T01:37:15.329228Z"
    },
    "papermill": {
     "duration": 0.035988,
     "end_time": "2023-06-22T01:37:15.332914",
     "exception": false,
     "start_time": "2023-06-22T01:37:15.296926",
     "status": "completed"
    },
    "tags": []
   },
   "outputs": [
    {
     "name": "stdout",
     "output_type": "stream",
     "text": [
      "fold_1: acc: 0.9516 loss: 0.2182\n",
      "fold_2: acc: 0.8790 loss: 0.2608\n",
      "fold_3: acc: 0.9024 loss: 0.2741\n",
      "fold_4: acc: 0.9024 loss: 0.2717\n",
      "fold_5: acc: 0.9512 loss: 0.2172\n",
      "\n",
      "Average accuracy: 0.9173 Average loss: 0.2484\n"
     ]
    }
   ],
   "source": [
    "average_loss = 0\n",
    "average_acc = 0\n",
    "\n",
    "for _model in models:\n",
    "    average_loss += cross_entropy[_model]\n",
    "    average_acc += accuracy[_model]\n",
    "    print(f\"{_model}: acc: {accuracy[_model]:.4f} loss: {cross_entropy[_model]:.4f}\")\n",
    "    \n",
    "print(f\"\\nAverage accuracy: {average_acc/5:.4f} Average loss: {average_loss/5:.4f}\")"
   ]
  },
  {
   "cell_type": "markdown",
   "id": "67cb35de",
   "metadata": {
    "papermill": {
     "duration": 0.023459,
     "end_time": "2023-06-22T01:37:15.380265",
     "exception": false,
     "start_time": "2023-06-22T01:37:15.356806",
     "status": "completed"
    },
    "tags": []
   },
   "source": [
    "## Variable importances"
   ]
  },
  {
   "cell_type": "code",
   "execution_count": 21,
   "id": "a63b3d68",
   "metadata": {
    "execution": {
     "iopub.execute_input": "2023-06-22T01:37:15.430597Z",
     "iopub.status.busy": "2023-06-22T01:37:15.429841Z",
     "iopub.status.idle": "2023-06-22T01:37:15.440229Z",
     "shell.execute_reply": "2023-06-22T01:37:15.438893Z"
    },
    "papermill": {
     "duration": 0.038576,
     "end_time": "2023-06-22T01:37:15.442646",
     "exception": false,
     "start_time": "2023-06-22T01:37:15.404070",
     "status": "completed"
    },
    "tags": []
   },
   "outputs": [
    {
     "name": "stdout",
     "output_type": "stream",
     "text": [
      "Available variable importances:\n",
      "\t NUM_AS_ROOT\n",
      "\t SUM_SCORE\n",
      "\t INV_MEAN_MIN_DEPTH\n",
      "\t NUM_NODES\n"
     ]
    }
   ],
   "source": [
    "inspector = models['fold_1'].make_inspector()\n",
    "\n",
    "print(f\"Available variable importances:\")\n",
    "for importance in inspector.variable_importances().keys():\n",
    "    print(\"\\t\", importance)"
   ]
  },
  {
   "cell_type": "code",
   "execution_count": 22,
   "id": "a4b9acaf",
   "metadata": {
    "execution": {
     "iopub.execute_input": "2023-06-22T01:37:15.492585Z",
     "iopub.status.busy": "2023-06-22T01:37:15.491801Z",
     "iopub.status.idle": "2023-06-22T01:37:15.501057Z",
     "shell.execute_reply": "2023-06-22T01:37:15.499638Z"
    },
    "papermill": {
     "duration": 0.037128,
     "end_time": "2023-06-22T01:37:15.503653",
     "exception": false,
     "start_time": "2023-06-22T01:37:15.466525",
     "status": "completed"
    },
    "tags": []
   },
   "outputs": [
    {
     "data": {
      "text/plain": [
       "[(\"DU\" (1; #32), 47.0),\n",
       " (\"DI\" (1; #29), 25.0),\n",
       " (\"DA\" (1; #25), 21.0),\n",
       " (\"AB\" (1; #0), 19.0),\n",
       " (\"FL\" (1; #47), 19.0),\n",
       " (\"GL\" (1; #55), 18.0),\n",
       " (\"BQ\" (1; #12), 16.0),\n",
       " (\"CR\" (1; #21), 16.0),\n",
       " (\"FD_\" (1; #44), 16.0),\n",
       " (\"CD_\" (1; #17), 14.0),\n",
       " (\"AF\" (1; #1), 13.0),\n",
       " (\"CC\" (1; #16), 8.0),\n",
       " (\"DF\" (1; #27), 7.0),\n",
       " (\"AR\" (1; #4), 6.0),\n",
       " (\"DH\" (1; #28), 6.0),\n",
       " (\"EB\" (1; #35), 6.0),\n",
       " (\"FI\" (1; #46), 6.0),\n",
       " (\"BC\" (1; #8), 5.0),\n",
       " (\"EH\" (1; #38), 5.0),\n",
       " (\"FR\" (1; #48), 5.0),\n",
       " (\"DE\" (1; #26), 4.0),\n",
       " (\"DL\" (1; #30), 4.0),\n",
       " (\"EE\" (1; #36), 4.0),\n",
       " (\"FE\" (1; #45), 4.0),\n",
       " (\"EU\" (1; #42), 3.0),\n",
       " (\"BN\" (1; #10), 2.0),\n",
       " (\"EL\" (1; #40), 1.0)]"
      ]
     },
     "execution_count": 22,
     "metadata": {},
     "output_type": "execute_result"
    }
   ],
   "source": [
    "# Each line is: (feature name, (index of the feature), importance score)\n",
    "inspector.variable_importances()[\"NUM_AS_ROOT\"]"
   ]
  },
  {
   "cell_type": "markdown",
   "id": "43f9ba6a",
   "metadata": {
    "papermill": {
     "duration": 0.025969,
     "end_time": "2023-06-22T01:37:15.553935",
     "exception": false,
     "start_time": "2023-06-22T01:37:15.527966",
     "status": "completed"
    },
    "tags": []
   },
   "source": [
    "## Deep neural network"
   ]
  },
  {
   "cell_type": "code",
   "execution_count": 23,
   "id": "4c5bc1a9",
   "metadata": {
    "execution": {
     "iopub.execute_input": "2023-06-22T01:37:15.603599Z",
     "iopub.status.busy": "2023-06-22T01:37:15.603146Z",
     "iopub.status.idle": "2023-06-22T01:37:28.861497Z",
     "shell.execute_reply": "2023-06-22T01:37:28.860088Z"
    },
    "papermill": {
     "duration": 13.286449,
     "end_time": "2023-06-22T01:37:28.864024",
     "exception": false,
     "start_time": "2023-06-22T01:37:15.577575",
     "status": "completed"
    },
    "tags": []
   },
   "outputs": [
    {
     "name": "stdout",
     "output_type": "stream",
     "text": [
      "Epoch 1/200\n",
      "2/2 [==============================] - 3s 361ms/step - loss: 0.9157 - binary_accuracy: 0.5455 - val_loss: 2.0814 - val_binary_accuracy: 0.2000\n",
      "Epoch 2/200\n",
      "2/2 [==============================] - 0s 44ms/step - loss: 0.7193 - binary_accuracy: 0.6126 - val_loss: 2.2090 - val_binary_accuracy: 0.1806\n",
      "Epoch 3/200\n",
      "2/2 [==============================] - 0s 59ms/step - loss: 0.6297 - binary_accuracy: 0.7273 - val_loss: 2.1298 - val_binary_accuracy: 0.1742\n",
      "Epoch 4/200\n",
      "2/2 [==============================] - 0s 42ms/step - loss: 0.5408 - binary_accuracy: 0.7749 - val_loss: 2.1157 - val_binary_accuracy: 0.1742\n",
      "Epoch 5/200\n",
      "2/2 [==============================] - 0s 46ms/step - loss: 0.4905 - binary_accuracy: 0.8052 - val_loss: 1.9884 - val_binary_accuracy: 0.1806\n",
      "Epoch 6/200\n",
      "2/2 [==============================] - 0s 46ms/step - loss: 0.4590 - binary_accuracy: 0.7857 - val_loss: 1.9200 - val_binary_accuracy: 0.1806\n",
      "Epoch 7/200\n",
      "2/2 [==============================] - 0s 45ms/step - loss: 0.4345 - binary_accuracy: 0.8377 - val_loss: 1.8870 - val_binary_accuracy: 0.1806\n",
      "Epoch 8/200\n",
      "2/2 [==============================] - 0s 44ms/step - loss: 0.3653 - binary_accuracy: 0.8918 - val_loss: 1.8426 - val_binary_accuracy: 0.1806\n",
      "Epoch 9/200\n",
      "2/2 [==============================] - 0s 45ms/step - loss: 0.3890 - binary_accuracy: 0.8701 - val_loss: 1.7794 - val_binary_accuracy: 0.1871\n",
      "Epoch 10/200\n",
      "2/2 [==============================] - 0s 46ms/step - loss: 0.3931 - binary_accuracy: 0.8528 - val_loss: 1.6846 - val_binary_accuracy: 0.1871\n",
      "Epoch 11/200\n",
      "2/2 [==============================] - 0s 46ms/step - loss: 0.3416 - binary_accuracy: 0.8701 - val_loss: 1.5798 - val_binary_accuracy: 0.2000\n",
      "Epoch 12/200\n",
      "2/2 [==============================] - 0s 51ms/step - loss: 0.3909 - binary_accuracy: 0.8463 - val_loss: 1.3649 - val_binary_accuracy: 0.2452\n",
      "Epoch 13/200\n",
      "2/2 [==============================] - 0s 46ms/step - loss: 0.3668 - binary_accuracy: 0.8788 - val_loss: 1.1022 - val_binary_accuracy: 0.3484\n",
      "Epoch 14/200\n",
      "2/2 [==============================] - 0s 45ms/step - loss: 0.2887 - binary_accuracy: 0.9004 - val_loss: 0.8619 - val_binary_accuracy: 0.5484\n",
      "Epoch 15/200\n",
      "2/2 [==============================] - 0s 47ms/step - loss: 0.2537 - binary_accuracy: 0.9264 - val_loss: 0.7280 - val_binary_accuracy: 0.6323\n",
      "Epoch 16/200\n",
      "2/2 [==============================] - 0s 48ms/step - loss: 0.2805 - binary_accuracy: 0.9069 - val_loss: 0.6710 - val_binary_accuracy: 0.6323\n",
      "Epoch 17/200\n",
      "2/2 [==============================] - 0s 45ms/step - loss: 0.2531 - binary_accuracy: 0.9242 - val_loss: 0.6609 - val_binary_accuracy: 0.6387\n",
      "Epoch 18/200\n",
      "2/2 [==============================] - 0s 42ms/step - loss: 0.2267 - binary_accuracy: 0.9416 - val_loss: 0.6843 - val_binary_accuracy: 0.6258\n",
      "Epoch 19/200\n",
      "2/2 [==============================] - 0s 41ms/step - loss: 0.2249 - binary_accuracy: 0.9286 - val_loss: 0.7008 - val_binary_accuracy: 0.6387\n",
      "Epoch 20/200\n",
      "2/2 [==============================] - 0s 41ms/step - loss: 0.2210 - binary_accuracy: 0.9351 - val_loss: 0.7218 - val_binary_accuracy: 0.6323\n",
      "Epoch 21/200\n",
      "2/2 [==============================] - 0s 42ms/step - loss: 0.2381 - binary_accuracy: 0.9264 - val_loss: 0.7193 - val_binary_accuracy: 0.6387\n",
      "Epoch 22/200\n",
      "2/2 [==============================] - 0s 43ms/step - loss: 0.2054 - binary_accuracy: 0.9437 - val_loss: 0.7134 - val_binary_accuracy: 0.6516\n",
      "Epoch 23/200\n",
      "2/2 [==============================] - 0s 41ms/step - loss: 0.2355 - binary_accuracy: 0.9286 - val_loss: 0.6955 - val_binary_accuracy: 0.6645\n",
      "Epoch 24/200\n",
      "2/2 [==============================] - 0s 45ms/step - loss: 0.1859 - binary_accuracy: 0.9437 - val_loss: 0.6577 - val_binary_accuracy: 0.6903\n",
      "Epoch 25/200\n",
      "2/2 [==============================] - 0s 44ms/step - loss: 0.2371 - binary_accuracy: 0.9329 - val_loss: 0.5776 - val_binary_accuracy: 0.7290\n",
      "Epoch 26/200\n",
      "2/2 [==============================] - 0s 45ms/step - loss: 0.1612 - binary_accuracy: 0.9545 - val_loss: 0.5253 - val_binary_accuracy: 0.7935\n",
      "Epoch 27/200\n",
      "2/2 [==============================] - 0s 46ms/step - loss: 0.1805 - binary_accuracy: 0.9610 - val_loss: 0.4814 - val_binary_accuracy: 0.8065\n",
      "Epoch 28/200\n",
      "2/2 [==============================] - 0s 45ms/step - loss: 0.1569 - binary_accuracy: 0.9632 - val_loss: 0.4355 - val_binary_accuracy: 0.8258\n",
      "Epoch 29/200\n",
      "2/2 [==============================] - 0s 45ms/step - loss: 0.1350 - binary_accuracy: 0.9719 - val_loss: 0.4159 - val_binary_accuracy: 0.8581\n",
      "Epoch 30/200\n",
      "2/2 [==============================] - 0s 45ms/step - loss: 0.1845 - binary_accuracy: 0.9307 - val_loss: 0.4070 - val_binary_accuracy: 0.8516\n",
      "Epoch 31/200\n",
      "2/2 [==============================] - 0s 46ms/step - loss: 0.1250 - binary_accuracy: 0.9654 - val_loss: 0.3989 - val_binary_accuracy: 0.8581\n",
      "Epoch 32/200\n",
      "2/2 [==============================] - 0s 46ms/step - loss: 0.1483 - binary_accuracy: 0.9610 - val_loss: 0.3892 - val_binary_accuracy: 0.8645\n",
      "Epoch 33/200\n",
      "2/2 [==============================] - 0s 45ms/step - loss: 0.1348 - binary_accuracy: 0.9545 - val_loss: 0.3859 - val_binary_accuracy: 0.8645\n",
      "Epoch 34/200\n",
      "2/2 [==============================] - 0s 43ms/step - loss: 0.1163 - binary_accuracy: 0.9740 - val_loss: 0.3864 - val_binary_accuracy: 0.8645\n",
      "Epoch 35/200\n",
      "2/2 [==============================] - 0s 44ms/step - loss: 0.1082 - binary_accuracy: 0.9697 - val_loss: 0.3901 - val_binary_accuracy: 0.8710\n",
      "Epoch 36/200\n",
      "2/2 [==============================] - 0s 45ms/step - loss: 0.1201 - binary_accuracy: 0.9675 - val_loss: 0.3919 - val_binary_accuracy: 0.8710\n",
      "Epoch 37/200\n",
      "2/2 [==============================] - 0s 42ms/step - loss: 0.1337 - binary_accuracy: 0.9654 - val_loss: 0.3897 - val_binary_accuracy: 0.8710\n",
      "Epoch 38/200\n",
      "2/2 [==============================] - 0s 46ms/step - loss: 0.1384 - binary_accuracy: 0.9567 - val_loss: 0.3851 - val_binary_accuracy: 0.8645\n",
      "Epoch 39/200\n",
      "2/2 [==============================] - 0s 47ms/step - loss: 0.1484 - binary_accuracy: 0.9675 - val_loss: 0.3786 - val_binary_accuracy: 0.8710\n",
      "Epoch 40/200\n",
      "2/2 [==============================] - 0s 46ms/step - loss: 0.0944 - binary_accuracy: 0.9762 - val_loss: 0.3748 - val_binary_accuracy: 0.8710\n",
      "Epoch 41/200\n",
      "2/2 [==============================] - 0s 47ms/step - loss: 0.1051 - binary_accuracy: 0.9762 - val_loss: 0.3713 - val_binary_accuracy: 0.8774\n",
      "Epoch 42/200\n",
      "2/2 [==============================] - 0s 45ms/step - loss: 0.0825 - binary_accuracy: 0.9827 - val_loss: 0.3691 - val_binary_accuracy: 0.8774\n",
      "Epoch 43/200\n",
      "2/2 [==============================] - 0s 49ms/step - loss: 0.0879 - binary_accuracy: 0.9805 - val_loss: 0.3666 - val_binary_accuracy: 0.8710\n",
      "Epoch 44/200\n",
      "2/2 [==============================] - 0s 41ms/step - loss: 0.1062 - binary_accuracy: 0.9675 - val_loss: 0.3662 - val_binary_accuracy: 0.8774\n",
      "Epoch 45/200\n",
      "2/2 [==============================] - 0s 40ms/step - loss: 0.1331 - binary_accuracy: 0.9740 - val_loss: 0.3670 - val_binary_accuracy: 0.8774\n",
      "Epoch 46/200\n",
      "2/2 [==============================] - 0s 44ms/step - loss: 0.1363 - binary_accuracy: 0.9697 - val_loss: 0.3671 - val_binary_accuracy: 0.8774\n",
      "Epoch 47/200\n",
      "2/2 [==============================] - 0s 43ms/step - loss: 0.0885 - binary_accuracy: 0.9740 - val_loss: 0.3674 - val_binary_accuracy: 0.8774\n",
      "Epoch 48/200\n",
      "2/2 [==============================] - 0s 43ms/step - loss: 0.1920 - binary_accuracy: 0.9675 - val_loss: 0.3674 - val_binary_accuracy: 0.8774\n",
      "Epoch 49/200\n",
      "2/2 [==============================] - 0s 42ms/step - loss: 0.0812 - binary_accuracy: 0.9784 - val_loss: 0.3685 - val_binary_accuracy: 0.8774\n",
      "Epoch 50/200\n",
      "2/2 [==============================] - 0s 41ms/step - loss: 0.1066 - binary_accuracy: 0.9697 - val_loss: 0.3686 - val_binary_accuracy: 0.8774\n",
      "Epoch 51/200\n",
      "2/2 [==============================] - 0s 40ms/step - loss: 0.0709 - binary_accuracy: 0.9935 - val_loss: 0.3678 - val_binary_accuracy: 0.8839\n",
      "Epoch 52/200\n",
      "2/2 [==============================] - 0s 42ms/step - loss: 0.0884 - binary_accuracy: 0.9740 - val_loss: 0.3672 - val_binary_accuracy: 0.8839\n",
      "Epoch 53/200\n",
      "2/2 [==============================] - 0s 41ms/step - loss: 0.0749 - binary_accuracy: 0.9848 - val_loss: 0.3667 - val_binary_accuracy: 0.8839\n",
      "Epoch 54/200\n",
      "2/2 [==============================] - 0s 41ms/step - loss: 0.0690 - binary_accuracy: 0.9892 - val_loss: 0.3666 - val_binary_accuracy: 0.8839\n",
      "Epoch 55/200\n",
      "2/2 [==============================] - 0s 43ms/step - loss: 0.0600 - binary_accuracy: 0.9913 - val_loss: 0.3669 - val_binary_accuracy: 0.8839\n",
      "Epoch 56/200\n",
      "2/2 [==============================] - 0s 43ms/step - loss: 0.1027 - binary_accuracy: 0.9827 - val_loss: 0.3690 - val_binary_accuracy: 0.8903\n",
      "Epoch 57/200\n",
      "2/2 [==============================] - 0s 40ms/step - loss: 0.0965 - binary_accuracy: 0.9740 - val_loss: 0.3727 - val_binary_accuracy: 0.8839\n",
      "Epoch 58/200\n",
      "2/2 [==============================] - 0s 41ms/step - loss: 0.0578 - binary_accuracy: 0.9935 - val_loss: 0.3753 - val_binary_accuracy: 0.8839\n",
      "Epoch 59/200\n",
      "2/2 [==============================] - 0s 41ms/step - loss: 0.0750 - binary_accuracy: 0.9892 - val_loss: 0.3773 - val_binary_accuracy: 0.8839\n",
      "Epoch 60/200\n",
      "2/2 [==============================] - 0s 41ms/step - loss: 0.0770 - binary_accuracy: 0.9762 - val_loss: 0.3778 - val_binary_accuracy: 0.8839\n",
      "Epoch 61/200\n",
      "2/2 [==============================] - 0s 43ms/step - loss: 0.0844 - binary_accuracy: 0.9827 - val_loss: 0.3776 - val_binary_accuracy: 0.8839\n",
      "Epoch 62/200\n",
      "2/2 [==============================] - 0s 43ms/step - loss: 0.0647 - binary_accuracy: 0.9892 - val_loss: 0.3763 - val_binary_accuracy: 0.8774\n",
      "Epoch 63/200\n",
      "2/2 [==============================] - 0s 44ms/step - loss: 0.0589 - binary_accuracy: 0.9870 - val_loss: 0.3767 - val_binary_accuracy: 0.8774\n",
      "Epoch 64/200\n",
      "2/2 [==============================] - 0s 42ms/step - loss: 0.0497 - binary_accuracy: 0.9913 - val_loss: 0.3761 - val_binary_accuracy: 0.8774\n",
      "Epoch 65/200\n",
      "2/2 [==============================] - 0s 42ms/step - loss: 0.0552 - binary_accuracy: 0.9935 - val_loss: 0.3758 - val_binary_accuracy: 0.8774\n",
      "Epoch 66/200\n",
      "2/2 [==============================] - 0s 44ms/step - loss: 0.0496 - binary_accuracy: 0.9935 - val_loss: 0.3755 - val_binary_accuracy: 0.8774\n",
      "Epoch 67/200\n",
      "2/2 [==============================] - 0s 42ms/step - loss: 0.0513 - binary_accuracy: 0.9935 - val_loss: 0.3759 - val_binary_accuracy: 0.8839\n",
      "Epoch 68/200\n",
      "2/2 [==============================] - 0s 43ms/step - loss: 0.0561 - binary_accuracy: 0.9848 - val_loss: 0.3759 - val_binary_accuracy: 0.8839\n",
      "Epoch 69/200\n",
      "2/2 [==============================] - 0s 41ms/step - loss: 0.0623 - binary_accuracy: 0.9848 - val_loss: 0.3764 - val_binary_accuracy: 0.8839\n",
      "Epoch 70/200\n",
      "2/2 [==============================] - 0s 41ms/step - loss: 0.0369 - binary_accuracy: 0.9957 - val_loss: 0.3764 - val_binary_accuracy: 0.8774\n",
      "Epoch 71/200\n",
      "2/2 [==============================] - 0s 42ms/step - loss: 0.0439 - binary_accuracy: 0.9957 - val_loss: 0.3771 - val_binary_accuracy: 0.8774\n",
      "Epoch 72/200\n",
      "2/2 [==============================] - 0s 42ms/step - loss: 0.0530 - binary_accuracy: 0.9892 - val_loss: 0.3778 - val_binary_accuracy: 0.8774\n",
      "Epoch 73/200\n",
      "2/2 [==============================] - 0s 40ms/step - loss: 0.0350 - binary_accuracy: 0.9978 - val_loss: 0.3793 - val_binary_accuracy: 0.8710\n",
      "Epoch 74/200\n",
      "2/2 [==============================] - 0s 43ms/step - loss: 0.0350 - binary_accuracy: 1.0000 - val_loss: 0.3810 - val_binary_accuracy: 0.8710\n",
      "Epoch 75/200\n",
      "2/2 [==============================] - 0s 43ms/step - loss: 0.0389 - binary_accuracy: 0.9913 - val_loss: 0.3829 - val_binary_accuracy: 0.8710\n",
      "Epoch 76/200\n",
      "2/2 [==============================] - 0s 43ms/step - loss: 0.0305 - binary_accuracy: 1.0000 - val_loss: 0.3855 - val_binary_accuracy: 0.8710\n",
      "Epoch 77/200\n",
      "2/2 [==============================] - 0s 44ms/step - loss: 0.0556 - binary_accuracy: 0.9848 - val_loss: 0.3876 - val_binary_accuracy: 0.8710\n",
      "Epoch 78/200\n",
      "2/2 [==============================] - 0s 43ms/step - loss: 0.0400 - binary_accuracy: 0.9935 - val_loss: 0.3895 - val_binary_accuracy: 0.8710\n",
      "Epoch 79/200\n",
      "2/2 [==============================] - 0s 43ms/step - loss: 0.0332 - binary_accuracy: 0.9913 - val_loss: 0.3920 - val_binary_accuracy: 0.8774\n",
      "Epoch 80/200\n",
      "2/2 [==============================] - 0s 42ms/step - loss: 0.0366 - binary_accuracy: 0.9913 - val_loss: 0.3942 - val_binary_accuracy: 0.8839\n",
      "Epoch 81/200\n",
      "2/2 [==============================] - 0s 44ms/step - loss: 0.0398 - binary_accuracy: 0.9870 - val_loss: 0.3961 - val_binary_accuracy: 0.8839\n",
      "Epoch 82/200\n",
      "2/2 [==============================] - 0s 43ms/step - loss: 0.0302 - binary_accuracy: 0.9957 - val_loss: 0.3978 - val_binary_accuracy: 0.8839\n",
      "Epoch 83/200\n",
      "2/2 [==============================] - 0s 43ms/step - loss: 0.0337 - binary_accuracy: 0.9978 - val_loss: 0.3993 - val_binary_accuracy: 0.8839\n",
      "Epoch 84/200\n",
      "2/2 [==============================] - 0s 42ms/step - loss: 0.0307 - binary_accuracy: 0.9957 - val_loss: 0.4013 - val_binary_accuracy: 0.8839\n",
      "Epoch 85/200\n",
      "2/2 [==============================] - 0s 44ms/step - loss: 0.0217 - binary_accuracy: 0.9978 - val_loss: 0.4034 - val_binary_accuracy: 0.8839\n",
      "Epoch 86/200\n",
      "2/2 [==============================] - 0s 42ms/step - loss: 0.0273 - binary_accuracy: 1.0000 - val_loss: 0.4059 - val_binary_accuracy: 0.8839\n",
      "Epoch 87/200\n",
      "2/2 [==============================] - 0s 43ms/step - loss: 0.0423 - binary_accuracy: 0.9892 - val_loss: 0.4088 - val_binary_accuracy: 0.8903\n",
      "Epoch 88/200\n",
      "2/2 [==============================] - 0s 42ms/step - loss: 0.0568 - binary_accuracy: 0.9762 - val_loss: 0.4127 - val_binary_accuracy: 0.8903\n",
      "Epoch 89/200\n",
      "2/2 [==============================] - 0s 40ms/step - loss: 0.0247 - binary_accuracy: 1.0000 - val_loss: 0.4139 - val_binary_accuracy: 0.8774\n",
      "Epoch 90/200\n",
      "2/2 [==============================] - 0s 45ms/step - loss: 0.0277 - binary_accuracy: 0.9935 - val_loss: 0.4151 - val_binary_accuracy: 0.8774\n",
      "Epoch 91/200\n",
      "2/2 [==============================] - 0s 44ms/step - loss: 0.0282 - binary_accuracy: 0.9935 - val_loss: 0.4151 - val_binary_accuracy: 0.8774\n",
      "Epoch 92/200\n",
      "2/2 [==============================] - 0s 43ms/step - loss: 0.0229 - binary_accuracy: 0.9978 - val_loss: 0.4152 - val_binary_accuracy: 0.8710\n",
      "Epoch 93/200\n",
      "2/2 [==============================] - 0s 75ms/step - loss: 0.0266 - binary_accuracy: 0.9957 - val_loss: 0.4153 - val_binary_accuracy: 0.8710\n"
     ]
    },
    {
     "data": {
      "text/plain": [
       "<Axes: title={'center': 'Accuracy'}>"
      ]
     },
     "execution_count": 23,
     "metadata": {},
     "output_type": "execute_result"
    },
    {
     "data": {
      "image/png": "[encoded data removed]",
      "text/plain": [
       "<Figure size 640x480 with 1 Axes>"
      ]
     },
     "metadata": {},
     "output_type": "display_data"
    },
    {
     "data": {
      "image/png": "[encoded data removed]",
      "text/plain": [
       "<Figure size 640x480 with 1 Axes>"
      ]
     },
     "metadata": {},
     "output_type": "display_data"
    }
   ],
   "source": [
    "test_df = pd.read_csv('/kaggle/input/icr-identify-age-related-conditions/test.csv')\n",
    "\n",
    "# Select only feature columns for training.\n",
    "# Maybe I should convert X and y to specific data type for tensorflow.\n",
    "X = dataset_df[NUM_FEATURE_COLUMNS]\n",
    "y = dataset_df[label]\n",
    "\n",
    "# It is important to treat nulls.\n",
    "ISNA_COLUMNS_TRAIN = dataset_df.columns[dataset_df.isna().any()].to_list()\n",
    "X = X.drop(columns=ISNA_COLUMNS_TRAIN)\n",
    "\n",
    "# In case test data have nulls, drop the columns from training data.\n",
    "ISNA_COLUMNS_TEST = test_df.columns[test_df.isna().any()].to_list()\n",
    "X = X.drop(columns=ISNA_COLUMNS_TEST)\n",
    "\n",
    "# I should check what stratify do.\n",
    "X_train, X_valid, y_train, y_valid = train_test_split(X, y, stratify=y, train_size=0.75)\n",
    "\n",
    "dnn = tf.keras.Sequential([\n",
    "    layers.BatchNormalization(input_shape=[X.shape[1]]),\n",
    "    layers.Dense(256, activation='relu'),\n",
    "    layers.BatchNormalization(),\n",
    "    layers.Dropout(0.3),\n",
    "    layers.Dense(256, activation='relu'),\n",
    "    layers.BatchNormalization(),\n",
    "    layers.Dropout(0.3),\n",
    "    layers.Dense(1, activation='sigmoid')\n",
    "])\n",
    "\n",
    "# I need to review metrics later.\n",
    "dnn.compile(\n",
    "    optimizer='adam',\n",
    "    loss='binary_crossentropy',\n",
    "    metrics=['binary_accuracy']\n",
    ")\n",
    "\n",
    "early_stopping = tf.keras.callbacks.EarlyStopping(\n",
    "#     patience=5,\n",
    "    patience=50,\n",
    "    min_delta=0.001,\n",
    "    restore_best_weights=True,\n",
    ")\n",
    "\n",
    "# I need to review batch_size and epochs depending on the size of training data.\n",
    "# The model needs to train with small batch size\n",
    "history = dnn.fit(\n",
    "    X_train, y_train, validation_data=(X_valid, y_valid),\n",
    "#     batch_size=512,\n",
    "    batch_size=256,\n",
    "    epochs=200,\n",
    "    callbacks=[early_stopping],\n",
    ")\n",
    "\n",
    "history_df = pd.DataFrame(history.history)\n",
    "history_df.loc[:, ['loss', 'val_loss']].plot(title=\"Cross-entropy\")\n",
    "history_df.loc[:, ['binary_accuracy', 'val_binary_accuracy']].plot(title=\"Accuracy\")"
   ]
  },
  {
   "cell_type": "markdown",
   "id": "ce8257b8",
   "metadata": {
    "papermill": {
     "duration": 0.049337,
     "end_time": "2023-06-22T01:37:28.963043",
     "exception": false,
     "start_time": "2023-06-22T01:37:28.913706",
     "status": "completed"
    },
    "tags": []
   },
   "source": [
    "## Submission"
   ]
  },
  {
   "cell_type": "code",
   "execution_count": 24,
   "id": "21365b10",
   "metadata": {
    "execution": {
     "iopub.execute_input": "2023-06-22T01:37:29.066314Z",
     "iopub.status.busy": "2023-06-22T01:37:29.065622Z",
     "iopub.status.idle": "2023-06-22T01:37:29.304443Z",
     "shell.execute_reply": "2023-06-22T01:37:29.303466Z"
    },
    "papermill": {
     "duration": 0.292168,
     "end_time": "2023-06-22T01:37:29.306651",
     "exception": false,
     "start_time": "2023-06-22T01:37:29.014483",
     "status": "completed"
    },
    "tags": []
   },
   "outputs": [
    {
     "name": "stdout",
     "output_type": "stream",
     "text": [
      "Warning: Some of the feature names have been changed automatically to be compatible with SavedModels because fix_feature_names=True.\n",
      "1/1 [==============================] - 0s 152ms/step\n",
      "[[0.65333357, 0.34666643], [0.65333357, 0.34666643], [0.65333357, 0.34666643], [0.65333357, 0.34666643], [0.65333357, 0.34666643]]\n"
     ]
    }
   ],
   "source": [
    "# test_df = pd.read_csv('/kaggle/input/icr-identify-age-related-conditions/test.csv')\n",
    "test_ds_pd = test_df\n",
    "test_df_columns = test_ds_pd.columns.to_list()\n",
    "TEST_FEATURE_COLUMNS = [i for i in FEATURE_COLUMNS if i in test_df_columns and i != \"Class\"]\n",
    "test_ds_pd = test_ds_pd[TEST_FEATURE_COLUMNS]\n",
    "test_ds = tfdf.keras.pd_dataframe_to_tf_dataset(test_ds_pd)\n",
    "predictions = models['fold_1'].predict(test_ds)\n",
    "n_predictions = [[round(abs(i-1), 8), i] for i in predictions.ravel()]\n",
    "print(n_predictions)"
   ]
  },
  {
   "cell_type": "code",
   "execution_count": 25,
   "id": "d15d191b",
   "metadata": {
    "execution": {
     "iopub.execute_input": "2023-06-22T01:37:29.410628Z",
     "iopub.status.busy": "2023-06-22T01:37:29.410145Z",
     "iopub.status.idle": "2023-06-22T01:37:29.430330Z",
     "shell.execute_reply": "2023-06-22T01:37:29.429102Z"
    },
    "papermill": {
     "duration": 0.074619,
     "end_time": "2023-06-22T01:37:29.433244",
     "exception": false,
     "start_time": "2023-06-22T01:37:29.358625",
     "status": "completed"
    },
    "tags": []
   },
   "outputs": [],
   "source": [
    "sample_submission = pd.read_csv(\"/kaggle/input/icr-identify-age-related-conditions/sample_submission.csv\")\n",
    "sample_submission[['class_0', 'class_1']] = n_predictions\n",
    "sample_submission.to_csv('/kaggle/working/submission.csv', index=False)"
   ]
  },
  {
   "cell_type": "markdown",
   "id": "b4ea5b95",
   "metadata": {
    "papermill": {
     "duration": 0.049797,
     "end_time": "2023-06-22T01:37:29.534619",
     "exception": false,
     "start_time": "2023-06-22T01:37:29.484822",
     "status": "completed"
    },
    "tags": []
   },
   "source": [
    "## Submission - Deep neural network"
   ]
  },
  {
   "cell_type": "code",
   "execution_count": 26,
   "id": "ec407ce2",
   "metadata": {
    "execution": {
     "iopub.execute_input": "2023-06-22T01:37:29.635676Z",
     "iopub.status.busy": "2023-06-22T01:37:29.635222Z",
     "iopub.status.idle": "2023-06-22T01:37:29.877546Z",
     "shell.execute_reply": "2023-06-22T01:37:29.876376Z"
    },
    "papermill": {
     "duration": 0.295818,
     "end_time": "2023-06-22T01:37:29.880151",
     "exception": false,
     "start_time": "2023-06-22T01:37:29.584333",
     "status": "completed"
    },
    "tags": []
   },
   "outputs": [
    {
     "name": "stdout",
     "output_type": "stream",
     "text": [
      "1/1 [==============================] - 0s 162ms/step\n",
      "[[0.82146475, 0.17853525], [0.82146475, 0.17853525], [0.82146475, 0.17853525], [0.82146475, 0.17853525], [0.82146475, 0.17853525]]\n"
     ]
    }
   ],
   "source": [
    "dnn_test_ds_pd = test_df\n",
    "DNN_TEST_FEATURE_COLUMNS = [i for i in NUM_FEATURE_COLUMNS if i not in ISNA_COLUMNS_TRAIN and i not in ISNA_COLUMNS_TEST]\n",
    "dnn_test_ds_pd = dnn_test_ds_pd[DNN_TEST_FEATURE_COLUMNS]\n",
    "dnn_predictions = dnn.predict(dnn_test_ds_pd)\n",
    "dnn_n_predictions = [[round(abs(i-1), 8), i] for i in dnn_predictions.ravel()]\n",
    "print(dnn_n_predictions)"
   ]
  },
  {
   "cell_type": "code",
   "execution_count": 27,
   "id": "11486569",
   "metadata": {
    "execution": {
     "iopub.execute_input": "2023-06-22T01:37:29.984065Z",
     "iopub.status.busy": "2023-06-22T01:37:29.983031Z",
     "iopub.status.idle": "2023-06-22T01:37:29.994777Z",
     "shell.execute_reply": "2023-06-22T01:37:29.993261Z"
    },
    "papermill": {
     "duration": 0.066748,
     "end_time": "2023-06-22T01:37:29.997456",
     "exception": false,
     "start_time": "2023-06-22T01:37:29.930708",
     "status": "completed"
    },
    "tags": []
   },
   "outputs": [],
   "source": [
    "dnn_submission = pd.read_csv(\"/kaggle/input/icr-identify-age-related-conditions/sample_submission.csv\")\n",
    "dnn_submission[['class_0', 'class_1']] = dnn_n_predictions\n",
    "dnn_submission.to_csv('/kaggle/working/submission.csv', index=False)"
   ]
  },
  {
   "cell_type": "code",
   "execution_count": 28,
   "id": "09c1ddb5",
   "metadata": {
    "execution": {
     "iopub.execute_input": "2023-06-22T01:37:30.101901Z",
     "iopub.status.busy": "2023-06-22T01:37:30.101479Z",
     "iopub.status.idle": "2023-06-22T01:37:30.108622Z",
     "shell.execute_reply": "2023-06-22T01:37:30.107490Z"
    },
    "papermill": {
     "duration": 0.06162,
     "end_time": "2023-06-22T01:37:30.110973",
     "exception": false,
     "start_time": "2023-06-22T01:37:30.049353",
     "status": "completed"
    },
    "tags": []
   },
   "outputs": [
    {
     "data": {
      "text/plain": [
       "(617, 58)"
      ]
     },
     "execution_count": 28,
     "metadata": {},
     "output_type": "execute_result"
    }
   ],
   "source": [
    "dataset_df.shape"
   ]
  },
  {
   "cell_type": "code",
   "execution_count": null,
   "id": "a979d0c0",
   "metadata": {
    "papermill": {
     "duration": 0.051521,
     "end_time": "2023-06-22T01:37:30.213051",
     "exception": false,
     "start_time": "2023-06-22T01:37:30.161530",
     "status": "completed"
    },
    "tags": []
   },
   "outputs": [],
   "source": []
  }
 ],
 "metadata": {
  "kernelspec": {
   "display_name": "Python 3",
   "language": "python",
   "name": "python3"
  },
  "language_info": {
   "codemirror_mode": {
    "name": "ipython",
    "version": 3
   },
   "file_extension": ".py",
   "mimetype": "text/x-python",
   "name": "python",
   "nbconvert_exporter": "python",
   "pygments_lexer": "ipython3",
   "version": "3.10.10"
  },
  "papermill": {
   "default_parameters": {},
   "duration": 104.71167,
   "end_time": "2023-06-22T01:37:32.887081",
   "environment_variables": {},
   "exception": null,
   "input_path": "__notebook__.ipynb",
   "output_path": "__notebook__.ipynb",
   "parameters": {},
   "start_time": "2023-06-22T01:35:48.175411",
   "version": "2.4.0"
  }
 },
 "nbformat": 4,
 "nbformat_minor": 5
}
